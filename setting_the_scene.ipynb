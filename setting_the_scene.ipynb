{
 "cells": [
  {
   "cell_type": "markdown",
   "metadata": {},
   "source": [
    "# Coastal Erosion Simulation: Finding the Initial Parameters\n",
    "\n",
    "## Introduction\n",
    "This notebook tries to find reasonable estimates for parameters modeling the simulation world of the Norfolk coastline.\n",
    "\n",
    "The simulation incorporates data from NOAA buoy **62144**, alongside empirical equations derived from relevant literature, to calculate wave and coastal parameters such as wave height, wave speed, sand pull, ground pull, and others. Below is an explanation of the steps, models, and equations used in this analysis.\n",
    "\n",
    "#### Sources:\n",
    "\n",
    "https://www.ndbc.noaa.gov/\n",
    "Environment Agency, Sea State Report: Felixstowe Wave Buoy (2013): https://www.coastalmonitoring.org/pdf_download/?metadata_id=486318\n",
    "\n",
    "Bouws, E., & Komen, G. J. (1983). On the balance between growth and dissipation in an extreme depth-limited wind-sea in the southern North Sea. Journal of physical oceanography, 13(9), 1653-1658.\n",
    "\n",
    "Walkden, M. J. A., & Hall, J. W. (2005). A predictive mesoscale model of the erosion and profile development of soft rock shores. Coastal Engineering, 52(6), 535-563.\n",
    "\n",
    "Bruun, P. (1962). Sea-level rise as a cause of shore erosion. Journal of the Waterways and Harbors division, 88(1), 117-130."
   ]
  },
  {
   "cell_type": "markdown",
   "metadata": {},
   "source": [
    "## 1. Fetching Buoy Data\n",
    "The simulation starts by fetching real-time wave data from NOAA's database for the buoy nearest Norfolk. Key parameters such as **wave height** and **wave speed** are extracted and averaged."
   ]
  },
  {
   "cell_type": "code",
   "execution_count": 5,
   "metadata": {},
   "outputs": [
    {
     "name": "stderr",
     "output_type": "stream",
     "text": [
      "C:\\Users\\sonia\\AppData\\Local\\Temp\\ipykernel_2524\\896513729.py:9: FutureWarning: The 'delim_whitespace' keyword in pd.read_csv is deprecated and will be removed in a future version. Use ``sep='\\s+'`` instead\n",
      "  data = pd.read_csv(data_url, delim_whitespace=True, skiprows=[1], na_values=[\"MM\"])\n"
     ]
    },
    {
     "name": "stdout",
     "output_type": "stream",
     "text": [
      "    #YY  MM  DD  hh  mm  WDIR  WSPD  GST  WVHT  DPD  APD  MWD    PRES  ATMP  \\\n",
      "0  2025   1  19  13   0   180   3.6  NaN   0.7  NaN  NaN  NaN  1020.9   2.6   \n",
      "1  2025   1  19  12   0   190   5.1  NaN   0.5  NaN  NaN  NaN  1021.3   2.4   \n",
      "2  2025   1  19  11   0   190   5.7  NaN   0.7  NaN  NaN  NaN  1021.9   2.3   \n",
      "3  2025   1  19  10   0   180   4.6  NaN   0.7  NaN  NaN  NaN  1022.1   1.8   \n",
      "4  2025   1  19   9   0   190   5.7  NaN   0.7  NaN  NaN  NaN  1022.3   1.6   \n",
      "\n",
      "   WTMP  DEWP  VIS  PTDY  TIDE  \n",
      "0   NaN   0.3    5  -1.2   NaN  \n",
      "1   NaN   0.2    5  -1.0   NaN  \n",
      "2   NaN   0.3    2  -0.3   NaN  \n",
      "3   NaN   0.1    5  -0.1   NaN  \n",
      "4   NaN   0.1    5  -0.1   NaN  \n"
     ]
    }
   ],
   "source": [
    "import pandas as pd\n",
    "\n",
    "# Fetch real-time data for the closest buoy\n",
    "buoy_id = 62144\n",
    "data_url = f\"https://www.ndbc.noaa.gov/data/realtime2/{buoy_id}.txt\"\n",
    "\n",
    "# Load buoy data\n",
    "try:\n",
    "    data = pd.read_csv(data_url, delim_whitespace=True, skiprows=[1], na_values=[\"MM\"])\n",
    "    print(data.head())\n",
    "except Exception as e:\n",
    "    print(f\"Error fetching data for buoy {buoy_id}: {e}\")"
   ]
  },
  {
   "cell_type": "markdown",
   "metadata": {},
   "source": [
    "Extract the relevant data"
   ]
  },
  {
   "cell_type": "code",
   "execution_count": 6,
   "metadata": {},
   "outputs": [
    {
     "name": "stdout",
     "output_type": "stream",
     "text": [
      "WAVE_HEIGHT: 0.572\n",
      "WAVE_SPEED: 3.292\n"
     ]
    }
   ],
   "source": [
    "# Drop rows with missing wave height\n",
    "data = data.dropna(subset=[\"WVHT\"])\n",
    "\n",
    "wave_height = data[\"WVHT\"].mean()  # Significant wave height\n",
    "wave_speed = data[\"WSPD\"].mean()  \n",
    "\n",
    "# Output parameters\n",
    "print(f\"WAVE_HEIGHT: {wave_height}\") # m\n",
    "print(f\"WAVE_SPEED: {wave_speed}\") # m/s"
   ]
  },
  {
   "cell_type": "markdown",
   "metadata": {},
   "source": [
    "## 2. Estimating the Unknown\n",
    "\n",
    "Using models from the literature, empirical findings, and some heavy approximations. (Details in the report)"
   ]
  },
  {
   "cell_type": "code",
   "execution_count": 11,
   "metadata": {},
   "outputs": [
    {
     "name": "stdout",
     "output_type": "stream",
     "text": [
      "Wave Speed: 4.088000 m/s\n",
      "Wave height: 0.564000 m\n",
      "Wave Frequency: 0.207900 Hz\n",
      "Wave Amplitude: 0.282000 m\n",
      "Wave Volume: 10.186580 m³/wave\n",
      "Wave Spread: 12 degrees\n",
      "Wave Decay: 0.038\n",
      "Wave Cutoff Depth: 0.129720 m\n",
      "Wave Retreat Coefficient: 1.8\n",
      "Sand Pull: 0.037894 m³/year\n",
      "Ground Pull: 0.000101 m/year\n"
     ]
    }
   ],
   "source": [
    "import numpy as np\n",
    "\n",
    "wave_height = 0.564 # (m), based on data from 18/01\n",
    "wave_speed = 4.088 # (m/s), based on data from 18/01\n",
    "\n",
    "# 1. Wave Frequency\n",
    "T = 4.81  # representative wave period (s)\n",
    "wave_freq = 1 / T\n",
    "\n",
    "# 2. Wave Amplitude\n",
    "wave_amplitude = wave_height / 2  # half of significant wave height\n",
    "\n",
    "# 3. Wave Volume (calculated from wave height and wavelength)\n",
    "g = 9.81  # gravity (m/s^2)\n",
    "W = 1 # assumed wave width (m)\n",
    "wavelength = (g * T**2) / (2 * np.pi)  # Wavelength using deep water wave formula\n",
    "wave_volume = (wave_height / 2) * wavelength * 1  # Wave volume in m³/wave\n",
    "\n",
    "# 4. Wave Spread\n",
    "wave_spread = 12  # degrees, assumed\n",
    "\n",
    "# 5. Wave Decay\n",
    "wave_decay = 0.038 # Based on bottom friction in JONSWAP model\n",
    "\n",
    "# 6. Wave Cutoff Depth\n",
    "wave_cutoff = 0.23 * wave_height  # Cutoff depth based on H_s\n",
    "\n",
    "# 7. Wave Retreat Coefficient\n",
    "wave_retreat_coeff = 0.8  # estimated\n",
    "\n",
    "# 8. Ground Pull (Erosion Rate Model)\n",
    "\n",
    "# Constants\n",
    "rho = 1025  # water density (kg/m^3)\n",
    "R = 1.27e6  # material resistance (N/m^2) # assumed\n",
    "f1 = 0.8  # wave breaking term (estimated)\n",
    "f2 = 1  # slope constant, estimated\n",
    "z = 0.05  # shore platform slope (radians), estimated\n",
    "f3_t = 1  # time-dependent tidal influence, assumed\n",
    "wa = 0.39 # empirical transport coefficient (CERC model)\n",
    "\n",
    "F = rho * g * wave_height**2  # Wave force in N/m² (calculated from wave height)\n",
    "ground_pull = (F / R) * f1 * f3_t * np.tan(f2 * z)  # Erosion rate in m/year \n",
    "\n",
    "# 9. Sand Pull (CERC Equation)\n",
    "sand_pull = wa * wave_height**(5/2) * np.sin(2 * np.radians(wave_spread))  # Sand pull in m³/year (CERC model)\n",
    "\n",
    "# Output results with updated precision\n",
    "print(f\"Wave Speed: {wave_speed:.6f} m/s\")\n",
    "print(f\"Wave height: {wave_height:.6f} m\")\n",
    "print(f\"Wave Frequency: {wave_freq:.6f} Hz\")\n",
    "print(f\"Wave Amplitude: {wave_amplitude:.6f} m\")\n",
    "print(f\"Wave Volume: {wave_volume:.6f} m³/wave\")\n",
    "print(f\"Wave Spread: {wave_spread} degrees\")\n",
    "\n",
    "print(f\"Wave Decay: {wave_decay}\")\n",
    "print(f\"Wave Cutoff Depth: {wave_cutoff:.6f} m\")\n",
    "print(f\"Wave Retreat Coefficient: {wave_retreat_coeff}\")\n",
    "\n",
    "print(f\"Sand Pull: {sand_pull:.6f} m³/year\")\n",
    "print(f\"Ground Pull: {ground_pull:.6f} m/year\")"
   ]
  }
 ],
 "metadata": {
  "kernelspec": {
   "display_name": "new_env",
   "language": "python",
   "name": "python3"
  },
  "language_info": {
   "codemirror_mode": {
    "name": "ipython",
    "version": 3
   },
   "file_extension": ".py",
   "mimetype": "text/x-python",
   "name": "python",
   "nbconvert_exporter": "python",
   "pygments_lexer": "ipython3",
   "version": "3.10.15"
  }
 },
 "nbformat": 4,
 "nbformat_minor": 2
}
