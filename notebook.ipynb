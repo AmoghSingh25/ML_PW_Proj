{
 "cells": [
  {
   "cell_type": "markdown",
   "metadata": {},
   "source": [
    "Coastal Erosion Simulation and Optimization\n",
    "This script demonstrates how to use the coastal erosion simulation system."
   ]
  },
  {
   "cell_type": "code",
   "execution_count": 1,
   "metadata": {},
   "outputs": [],
   "source": [
    "import numpy as np\n",
    "import matplotlib.pyplot as plt\n",
    "from coastal_simulation import CoastalSimulation\n",
    "from simulation import simulation\n",
    "from optimization import OptimizationManager"
   ]
  },
  {
   "cell_type": "code",
   "execution_count": 2,
   "metadata": {},
   "outputs": [],
   "source": [
    "def visualize_layers(state):\n",
    "    \"\"\"\n",
    "    Visualize individual layers of the simulation state\n",
    "    \"\"\"\n",
    "    titles = ['Ground Layer', 'Sand Layer', 'Water Layer']\n",
    "    \n",
    "    # Create a figure with 4 subplots (composite + 3 layers)\n",
    "    plt.figure(figsize=(20, 5))\n",
    "    \n",
    "    # Plot composite image\n",
    "    plt.subplot(1, 4, 1)\n",
    "    plt.imshow(state)\n",
    "    plt.title('Composite View')\n",
    "    plt.colorbar()\n",
    "    \n",
    "    # Plot individual layers\n",
    "    for i in range(3):\n",
    "        plt.subplot(1, 4, i + 2)\n",
    "        plt.imshow(state[:,:,i])\n",
    "        plt.title(titles[i])\n",
    "        plt.colorbar()\n",
    "    \n",
    "    plt.tight_layout()\n",
    "    plt.show()"
   ]
  },
  {
   "cell_type": "code",
   "execution_count": 3,
   "metadata": {},
   "outputs": [],
   "source": [
    "def run_basic_simulation():\n",
    "    \"\"\"\n",
    "    Initialize and run a basic simulation with default parameters\n",
    "    \"\"\"\n",
    "    print(\"Running basic simulation...\")\n",
    "    \n",
    "    # Create simulation instance\n",
    "    # sim = CoastalSimulation()\n",
    "    sim = simulation(\n",
    "        wave_freq=20,\n",
    "        wave_speed=1,\n",
    "        wave_decay=0.6,\n",
    "        wave_cutoff=0.1,\n",
    "        wave_retreat_coeff=0.8,\n",
    "        wave_height=2,\n",
    "        sand_pull=0.2,\n",
    "        ground_pull=0.1,\n",
    "        water_decay=0.99,\n",
    "        wave_vol=1,\n",
    "        wave_amplitude=50,\n",
    "        wave_spread=0\n",
    "    )\n",
    "    \n",
    "    # Run a basic simulation\n",
    "    _, final_state, total_sand = sim.run_sim(\n",
    "        num_timesteps=100,\n",
    "    )\n",
    "\n",
    "    # Display results with layer visualization\n",
    "    visualize_layers(final_state)\n",
    "    \n",
    "    print(f\"Basic simulation completed. Total sand: {total_sand}\")\n",
    "    return sim"
   ]
  },
  {
   "cell_type": "code",
   "execution_count": 9,
   "metadata": {},
   "outputs": [],
   "source": [
    "def run_optimization():\n",
    "    \"\"\"\n",
    "    Run the optimization process using the provided simulation\n",
    "    \"\"\"\n",
    "    print(\"\\nStarting optimization process...\")\n",
    "    \n",
    "    # Initialize optimization\n",
    "    opt_manager = OptimizationManager()\n",
    "    \n",
    "    # Sample initial parameters\n",
    "    n_samples = 10\n",
    "    param_samples = opt_manager.sample_parameters(n_samples)\n",
    "    \n",
    "    # Run initial simulations\n",
    "    print(f\"Running {n_samples} initial simulations...\")\n",
    "    outcomes = []\n",
    "    for i, params in enumerate(param_samples):\n",
    "        print(f\"Running simulation {i+1}/{n_samples}\")\n",
    "        _, _, outcome = simulation(\n",
    "            wave_freq=params[0],\n",
    "            wave_speed=params[1],\n",
    "            wave_decay=params[2],\n",
    "            wave_cutoff=params[3],\n",
    "            wave_retreat_coeff=params[4],\n",
    "            wave_height=params[5],\n",
    "            sand_pull=params[6],\n",
    "            ground_pull=params[7],\n",
    "            water_decay=params[8],\n",
    "            wave_vol=params[9],\n",
    "            wave_amplitude=params[10],\n",
    "            wave_spread=params[11]\n",
    "\n",
    "        ).run_sim(\n",
    "            num_timesteps=100\n",
    "        )\n",
    "        outcomes.append(outcome)\n",
    "    \n",
    "    # Convert to numpy arrays\n",
    "    X = np.array(param_samples)\n",
    "    Y = np.array(outcomes).reshape(-1, 1)\n",
    "    \n",
    "    # Run sensitivity analysis\n",
    "    print(\"\\nRunning sensitivity analysis...\")\n",
    "    main_effects, total_effects = opt_manager.run_sensitivity_analysis(X, Y)\n",
    "    print(\"Main effects:\", main_effects)\n",
    "    print(\"Total effects:\", total_effects)\n",
    "    \n",
    "    # Run optimization\n",
    "    print(\"\\nRunning Bayesian optimization...\")\n",
    "    loop_state = opt_manager.run_optimization(X, Y)\n",
    "    \n",
    "    # Get and print best results\n",
    "    best_parameters = loop_state.X[-1]  # Access X directly from loop_state\n",
    "    best_outcome = loop_state.Y[-1]     # Access Y directly from loop_state\n",
    "    \n",
    "    print(\"\\nOptimization Results:\")\n",
    "    param_names = list(opt_manager.parameter_space.parameter_names)\n",
    "    for name, value in zip(param_names, best_parameters):\n",
    "        print(f\"{name}: {value:.4f}\")\n",
    "    print(f\"Best outcome: {best_outcome[0]:.4f}\")\n",
    "    \n",
    "    # Run simulation with best parameters\n",
    "    print(\"\\nRunning simulation with best parameters...\")\n",
    "    _, final_state, final_sand = simulation(\n",
    "        wave_freq=best_parameters[0],\n",
    "        wave_speed=best_parameters[1],\n",
    "        wave_decay=best_parameters[2],\n",
    "        wave_cutoff=best_parameters[3],\n",
    "        wave_retreat_coeff=best_parameters[4],\n",
    "        wave_height=best_parameters[5],\n",
    "        sand_pull=best_parameters[6],\n",
    "        ground_pull=best_parameters[7],\n",
    "        water_decay=best_parameters[8],\n",
    "        wave_vol=best_parameters[9],\n",
    "        wave_amplitude=best_parameters[10],\n",
    "        wave_spread=best_parameters[11]\n",
    "    ).run_sim(\n",
    "        num_timesteps=100,\n",
    "        plots=False\n",
    "    )\n",
    "    \n",
    "    # Display final results with layer visualization\n",
    "    visualize_layers(final_state)\n",
    "    \n",
    "    return loop_state"
   ]
  },
  {
   "cell_type": "code",
   "execution_count": 10,
   "metadata": {},
   "outputs": [
    {
     "name": "stdout",
     "output_type": "stream",
     "text": [
      "Running basic simulation...\n"
     ]
    },
    {
     "data": {
      "application/vnd.jupyter.widget-view+json": {
       "model_id": "fbc2568541eb41caa2286b050e83aa72",
       "version_major": 2,
       "version_minor": 0
      },
      "text/plain": [
       "  0%|          | 0/99 [00:00<?, ?it/s]"
      ]
     },
     "metadata": {},
     "output_type": "display_data"
    },
    {
     "name": "stdout",
     "output_type": "stream",
     "text": [
      "Total sand: 86000\n"
     ]
    },
    {
     "data": {
      "image/png": "[encoded data removed]",
      "text/plain": [
       "<Figure size 2000x500 with 8 Axes>"
      ]
     },
     "metadata": {},
     "output_type": "display_data"
    },
    {
     "name": "stdout",
     "output_type": "stream",
     "text": [
      "Basic simulation completed. Total sand: 86000\n",
      "\n",
      "Starting optimization process...\n",
      "Running 10 initial simulations...\n",
      "Running simulation 1/10\n"
     ]
    },
    {
     "data": {
      "application/vnd.jupyter.widget-view+json": {
       "model_id": "ff36497746204a35844ce0283b31a08d",
       "version_major": 2,
       "version_minor": 0
      },
      "text/plain": [
       "  0%|          | 0/99 [00:00<?, ?it/s]"
      ]
     },
     "metadata": {},
     "output_type": "display_data"
    },
    {
     "name": "stdout",
     "output_type": "stream",
     "text": [
      "Total sand: 156900\n",
      "Running simulation 2/10\n"
     ]
    },
    {
     "data": {
      "application/vnd.jupyter.widget-view+json": {
       "model_id": "e6c81e6e455144c2818c22aa9af031d8",
       "version_major": 2,
       "version_minor": 0
      },
      "text/plain": [
       "  0%|          | 0/99 [00:00<?, ?it/s]"
      ]
     },
     "metadata": {},
     "output_type": "display_data"
    },
    {
     "name": "stdout",
     "output_type": "stream",
     "text": [
      "Total sand: 304000\n",
      "Running simulation 3/10\n"
     ]
    },
    {
     "data": {
      "application/vnd.jupyter.widget-view+json": {
       "model_id": "a1087948e5e04ca0a8b1b9f5df84a097",
       "version_major": 2,
       "version_minor": 0
      },
      "text/plain": [
       "  0%|          | 0/99 [00:00<?, ?it/s]"
      ]
     },
     "metadata": {},
     "output_type": "display_data"
    },
    {
     "name": "stdout",
     "output_type": "stream",
     "text": [
      "Total sand: 109500\n",
      "Running simulation 4/10\n"
     ]
    },
    {
     "data": {
      "application/vnd.jupyter.widget-view+json": {
       "model_id": "4f3d5df4d988408cacbb32e73d42dd03",
       "version_major": 2,
       "version_minor": 0
      },
      "text/plain": [
       "  0%|          | 0/99 [00:00<?, ?it/s]"
      ]
     },
     "metadata": {},
     "output_type": "display_data"
    },
    {
     "name": "stdout",
     "output_type": "stream",
     "text": [
      "Total sand: 311700\n",
      "Running simulation 5/10\n"
     ]
    },
    {
     "data": {
      "application/vnd.jupyter.widget-view+json": {
       "model_id": "2a1d2663bd4449bbb43789653a837243",
       "version_major": 2,
       "version_minor": 0
      },
      "text/plain": [
       "  0%|          | 0/99 [00:00<?, ?it/s]"
      ]
     },
     "metadata": {},
     "output_type": "display_data"
    },
    {
     "name": "stdout",
     "output_type": "stream",
     "text": [
      "Total sand: 188200\n",
      "Running simulation 6/10\n"
     ]
    },
    {
     "data": {
      "application/vnd.jupyter.widget-view+json": {
       "model_id": "1460b432ebc9474aaf24dbe2b8d6ad22",
       "version_major": 2,
       "version_minor": 0
      },
      "text/plain": [
       "  0%|          | 0/99 [00:00<?, ?it/s]"
      ]
     },
     "metadata": {},
     "output_type": "display_data"
    },
    {
     "name": "stdout",
     "output_type": "stream",
     "text": [
      "Total sand: 199200\n",
      "Running simulation 7/10\n"
     ]
    },
    {
     "data": {
      "application/vnd.jupyter.widget-view+json": {
       "model_id": "797ab664ecff4c3195f10014f7370803",
       "version_major": 2,
       "version_minor": 0
      },
      "text/plain": [
       "  0%|          | 0/99 [00:00<?, ?it/s]"
      ]
     },
     "metadata": {},
     "output_type": "display_data"
    },
    {
     "name": "stdout",
     "output_type": "stream",
     "text": [
      "Total sand: 215500\n",
      "Running simulation 8/10\n"
     ]
    },
    {
     "data": {
      "application/vnd.jupyter.widget-view+json": {
       "model_id": "4e3e1cf0b1944d2eaafe8fddbe9af15b",
       "version_major": 2,
       "version_minor": 0
      },
      "text/plain": [
       "  0%|          | 0/99 [00:00<?, ?it/s]"
      ]
     },
     "metadata": {},
     "output_type": "display_data"
    },
    {
     "name": "stdout",
     "output_type": "stream",
     "text": [
      "Total sand: 38600\n",
      "Running simulation 9/10\n"
     ]
    },
    {
     "data": {
      "application/vnd.jupyter.widget-view+json": {
       "model_id": "4598f0cc6a6a49e9a72e8a9e47f2f4a0",
       "version_major": 2,
       "version_minor": 0
      },
      "text/plain": [
       "  0%|          | 0/99 [00:00<?, ?it/s]"
      ]
     },
     "metadata": {},
     "output_type": "display_data"
    },
    {
     "name": "stdout",
     "output_type": "stream",
     "text": [
      "Total sand: 292188\n",
      "Running simulation 10/10\n"
     ]
    },
    {
     "data": {
      "application/vnd.jupyter.widget-view+json": {
       "model_id": "db5a57a43ab1474a9c44725793528ab0",
       "version_major": 2,
       "version_minor": 0
      },
      "text/plain": [
       "  0%|          | 0/99 [00:00<?, ?it/s]"
      ]
     },
     "metadata": {},
     "output_type": "display_data"
    },
    {
     "name": "stdout",
     "output_type": "stream",
     "text": [
      "Total sand: 173100\n",
      "\n",
      "Running sensitivity analysis...\n",
      "Main effects: {'wave_freq': array([0.13205323]), 'wave_speed': array([0.00113166]), 'wave_decay': array([-0.00215126]), 'wave_cutoff': array([-0.00221089]), 'wave_retreat_coeff': array([-0.00199004]), 'wave_height': array([0.02091501]), 'sand_pull': array([-0.00239439]), 'ground_pull': array([-0.00221424]), 'water_decay': array([-0.00221088]), 'wave_vol': array([0.01831845]), 'wave_amplitude': array([0.00302317]), 'wave_spread': array([0.00876451])}\n",
      "Total effects: {'wave_freq': array([0.87627428]), 'wave_speed': array([0.09485533]), 'wave_decay': array([0.05519361]), 'wave_cutoff': array([0.0548202]), 'wave_retreat_coeff': array([0.05662862]), 'wave_height': array([0.45278288]), 'sand_pull': array([0.05490986]), 'ground_pull': array([0.05477035]), 'water_decay': array([0.05482807]), 'wave_vol': array([0.40609502]), 'wave_amplitude': array([0.32925981]), 'wave_spread': array([0.42463472])}\n",
      "\n",
      "Running Bayesian optimization...\n"
     ]
    },
    {
     "data": {
      "application/vnd.jupyter.widget-view+json": {
       "model_id": "f4bc17605b7746dd888cdcd67160d8d0",
       "version_major": 2,
       "version_minor": 0
      },
      "text/plain": [
       "  0%|          | 0/99 [00:00<?, ?it/s]"
      ]
     },
     "metadata": {},
     "output_type": "display_data"
    },
    {
     "name": "stdout",
     "output_type": "stream",
     "text": [
      "Total sand: 267610\n"
     ]
    },
    {
     "name": "stderr",
     "output_type": "stream",
     "text": [
      " /Users/amogh/.pyenv/versions/3.10.11/lib/python3.10/site-packages/paramz/transformations.py:111: RuntimeWarning:overflow encountered in expm1\n"
     ]
    },
    {
     "data": {
      "application/vnd.jupyter.widget-view+json": {
       "model_id": "dc777adb76e344ac9d9797f4f6565aec",
       "version_major": 2,
       "version_minor": 0
      },
      "text/plain": [
       "  0%|          | 0/99 [00:00<?, ?it/s]"
      ]
     },
     "metadata": {},
     "output_type": "display_data"
    },
    {
     "name": "stdout",
     "output_type": "stream",
     "text": [
      "Total sand: 180300\n"
     ]
    },
    {
     "data": {
      "application/vnd.jupyter.widget-view+json": {
       "model_id": "24562926e29a41cea48fcc30222db671",
       "version_major": 2,
       "version_minor": 0
      },
      "text/plain": [
       "  0%|          | 0/99 [00:00<?, ?it/s]"
      ]
     },
     "metadata": {},
     "output_type": "display_data"
    },
    {
     "name": "stdout",
     "output_type": "stream",
     "text": [
      "Total sand: 24700\n"
     ]
    },
    {
     "data": {
      "application/vnd.jupyter.widget-view+json": {
       "model_id": "b6a16ede46834717a1e96d56739b7726",
       "version_major": 2,
       "version_minor": 0
      },
      "text/plain": [
       "  0%|          | 0/99 [00:00<?, ?it/s]"
      ]
     },
     "metadata": {},
     "output_type": "display_data"
    },
    {
     "name": "stdout",
     "output_type": "stream",
     "text": [
      "Total sand: 127060\n"
     ]
    },
    {
     "data": {
      "application/vnd.jupyter.widget-view+json": {
       "model_id": "9ba94ec38c5a44739e254fccc8fde3c4",
       "version_major": 2,
       "version_minor": 0
      },
      "text/plain": [
       "  0%|          | 0/99 [00:00<?, ?it/s]"
      ]
     },
     "metadata": {},
     "output_type": "display_data"
    },
    {
     "name": "stdout",
     "output_type": "stream",
     "text": [
      "Total sand: 199100\n"
     ]
    },
    {
     "data": {
      "application/vnd.jupyter.widget-view+json": {
       "model_id": "0e76ed2d379f4c11ad6deca801e82d8a",
       "version_major": 2,
       "version_minor": 0
      },
      "text/plain": [
       "  0%|          | 0/99 [00:00<?, ?it/s]"
      ]
     },
     "metadata": {},
     "output_type": "display_data"
    },
    {
     "name": "stdout",
     "output_type": "stream",
     "text": [
      "Total sand: 314671\n"
     ]
    },
    {
     "data": {
      "application/vnd.jupyter.widget-view+json": {
       "model_id": "d956f9944b324d289aafc84753cfc117",
       "version_major": 2,
       "version_minor": 0
      },
      "text/plain": [
       "  0%|          | 0/99 [00:00<?, ?it/s]"
      ]
     },
     "metadata": {},
     "output_type": "display_data"
    },
    {
     "name": "stdout",
     "output_type": "stream",
     "text": [
      "Total sand: 137900\n"
     ]
    },
    {
     "data": {
      "application/vnd.jupyter.widget-view+json": {
       "model_id": "820df26af8fe42a487224e810b493a38",
       "version_major": 2,
       "version_minor": 0
      },
      "text/plain": [
       "  0%|          | 0/99 [00:00<?, ?it/s]"
      ]
     },
     "metadata": {},
     "output_type": "display_data"
    },
    {
     "name": "stdout",
     "output_type": "stream",
     "text": [
      "Total sand: 303400\n"
     ]
    },
    {
     "data": {
      "application/vnd.jupyter.widget-view+json": {
       "model_id": "0402cd026dce4515a1f5bff00ea2612e",
       "version_major": 2,
       "version_minor": 0
      },
      "text/plain": [
       "  0%|          | 0/99 [00:00<?, ?it/s]"
      ]
     },
     "metadata": {},
     "output_type": "display_data"
    },
    {
     "name": "stdout",
     "output_type": "stream",
     "text": [
      "Total sand: 273200\n"
     ]
    },
    {
     "data": {
      "application/vnd.jupyter.widget-view+json": {
       "model_id": "0d8dd60a4b24481983e2f4f08463d44a",
       "version_major": 2,
       "version_minor": 0
      },
      "text/plain": [
       "  0%|          | 0/99 [00:00<?, ?it/s]"
      ]
     },
     "metadata": {},
     "output_type": "display_data"
    },
    {
     "name": "stdout",
     "output_type": "stream",
     "text": [
      "Total sand: 208500\n"
     ]
    },
    {
     "data": {
      "application/vnd.jupyter.widget-view+json": {
       "model_id": "be2c9d9650724464af051d27de75301e",
       "version_major": 2,
       "version_minor": 0
      },
      "text/plain": [
       "  0%|          | 0/99 [00:00<?, ?it/s]"
      ]
     },
     "metadata": {},
     "output_type": "display_data"
    },
    {
     "name": "stdout",
     "output_type": "stream",
     "text": [
      "Total sand: 141400\n"
     ]
    },
    {
     "data": {
      "application/vnd.jupyter.widget-view+json": {
       "model_id": "d3d0e5853a2e436b9099dd1b09fe59ed",
       "version_major": 2,
       "version_minor": 0
      },
      "text/plain": [
       "  0%|          | 0/99 [00:00<?, ?it/s]"
      ]
     },
     "metadata": {},
     "output_type": "display_data"
    },
    {
     "name": "stdout",
     "output_type": "stream",
     "text": [
      "Total sand: 193872\n"
     ]
    },
    {
     "data": {
      "application/vnd.jupyter.widget-view+json": {
       "model_id": "5773a89a7c8142ac9373e0f1fc2f5964",
       "version_major": 2,
       "version_minor": 0
      },
      "text/plain": [
       "  0%|          | 0/99 [00:00<?, ?it/s]"
      ]
     },
     "metadata": {},
     "output_type": "display_data"
    },
    {
     "name": "stdout",
     "output_type": "stream",
     "text": [
      "Total sand: 307300\n"
     ]
    },
    {
     "data": {
      "application/vnd.jupyter.widget-view+json": {
       "model_id": "9869e278edf84bbfb24ee737939670c1",
       "version_major": 2,
       "version_minor": 0
      },
      "text/plain": [
       "  0%|          | 0/99 [00:00<?, ?it/s]"
      ]
     },
     "metadata": {},
     "output_type": "display_data"
    },
    {
     "name": "stdout",
     "output_type": "stream",
     "text": [
      "Total sand: 265200\n"
     ]
    },
    {
     "data": {
      "application/vnd.jupyter.widget-view+json": {
       "model_id": "17d340a7c7bf4d5baeea8b33bfc2f8a5",
       "version_major": 2,
       "version_minor": 0
      },
      "text/plain": [
       "  0%|          | 0/99 [00:00<?, ?it/s]"
      ]
     },
     "metadata": {},
     "output_type": "display_data"
    },
    {
     "name": "stdout",
     "output_type": "stream",
     "text": [
      "Total sand: 83300\n"
     ]
    },
    {
     "data": {
      "application/vnd.jupyter.widget-view+json": {
       "model_id": "907cee08c0d4486b8bbc2d0095e25066",
       "version_major": 2,
       "version_minor": 0
      },
      "text/plain": [
       "  0%|          | 0/99 [00:00<?, ?it/s]"
      ]
     },
     "metadata": {},
     "output_type": "display_data"
    },
    {
     "name": "stdout",
     "output_type": "stream",
     "text": [
      "Total sand: 203546\n"
     ]
    },
    {
     "data": {
      "application/vnd.jupyter.widget-view+json": {
       "model_id": "0f6331c407aa49a6967222944dbc1b55",
       "version_major": 2,
       "version_minor": 0
      },
      "text/plain": [
       "  0%|          | 0/99 [00:00<?, ?it/s]"
      ]
     },
     "metadata": {},
     "output_type": "display_data"
    },
    {
     "name": "stdout",
     "output_type": "stream",
     "text": [
      "Total sand: 285000\n"
     ]
    },
    {
     "data": {
      "application/vnd.jupyter.widget-view+json": {
       "model_id": "b6181aed9f1042ddb19e14f6042e04c6",
       "version_major": 2,
       "version_minor": 0
      },
      "text/plain": [
       "  0%|          | 0/99 [00:00<?, ?it/s]"
      ]
     },
     "metadata": {},
     "output_type": "display_data"
    },
    {
     "name": "stdout",
     "output_type": "stream",
     "text": [
      "Total sand: 279000\n"
     ]
    },
    {
     "data": {
      "application/vnd.jupyter.widget-view+json": {
       "model_id": "e7b43bc11ed34ffe8894334f23640aea",
       "version_major": 2,
       "version_minor": 0
      },
      "text/plain": [
       "  0%|          | 0/99 [00:00<?, ?it/s]"
      ]
     },
     "metadata": {},
     "output_type": "display_data"
    },
    {
     "name": "stdout",
     "output_type": "stream",
     "text": [
      "Total sand: 247862\n"
     ]
    },
    {
     "data": {
      "application/vnd.jupyter.widget-view+json": {
       "model_id": "d9a1dff3c93643bcaa9b5cb631be5360",
       "version_major": 2,
       "version_minor": 0
      },
      "text/plain": [
       "  0%|          | 0/99 [00:00<?, ?it/s]"
      ]
     },
     "metadata": {},
     "output_type": "display_data"
    },
    {
     "name": "stdout",
     "output_type": "stream",
     "text": [
      "Total sand: 310647\n",
      "\n",
      "Optimization Results:\n",
      "wave_freq: 10.4872\n",
      "wave_speed: 1.5324\n",
      "wave_decay: 0.5219\n",
      "wave_cutoff: 0.1285\n",
      "wave_retreat_coeff: 0.8980\n",
      "wave_height: 4.5478\n",
      "sand_pull: 0.4196\n",
      "ground_pull: 0.0986\n",
      "water_decay: 0.9958\n",
      "wave_vol: 1.0364\n",
      "wave_amplitude: 2.0386\n",
      "wave_spread: 0.1931\n",
      "Best outcome: -310647.0000\n",
      "\n",
      "Running simulation with best parameters...\n"
     ]
    },
    {
     "data": {
      "application/vnd.jupyter.widget-view+json": {
       "model_id": "cf6caa347755490fa945e9736f76eb91",
       "version_major": 2,
       "version_minor": 0
      },
      "text/plain": [
       "  0%|          | 0/99 [00:00<?, ?it/s]"
      ]
     },
     "metadata": {},
     "output_type": "display_data"
    },
    {
     "name": "stdout",
     "output_type": "stream",
     "text": [
      "Total sand: 289920\n"
     ]
    },
    {
     "data": {
      "image/png": "[encoded data removed]",
      "text/plain": [
       "<Figure size 2000x500 with 8 Axes>"
      ]
     },
     "metadata": {},
     "output_type": "display_data"
    },
    {
     "name": "stdout",
     "output_type": "stream",
     "text": [
      "\n",
      "Demonstration completed!\n"
     ]
    }
   ],
   "source": [
    "# Run basic simulation\n",
    "sim = run_basic_simulation()\n",
    "\n",
    "# Run optimization\n",
    "results = run_optimization()\n",
    "\n",
    "print(\"\\nDemonstration completed!\")"
   ]
  }
 ],
 "metadata": {
  "kernelspec": {
   "display_name": "3.10.11",
   "language": "python",
   "name": "python3"
  },
  "language_info": {
   "codemirror_mode": {
    "name": "ipython",
    "version": 3
   },
   "file_extension": ".py",
   "mimetype": "text/x-python",
   "name": "python",
   "nbconvert_exporter": "python",
   "pygments_lexer": "ipython3",
   "version": "3.10.11"
  }
 },
 "nbformat": 4,
 "nbformat_minor": 2
}
