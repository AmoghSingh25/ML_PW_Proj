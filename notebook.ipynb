{
 "cells": [
  {
   "cell_type": "markdown",
   "metadata": {},
   "source": [
    "Coastal Erosion Simulation and Optimization\n",
    "This script demonstrates how to use the coastal erosion simulation system."
   ]
  },
  {
   "cell_type": "code",
   "execution_count": 1,
   "metadata": {},
   "outputs": [],
   "source": [
    "import numpy as np\n",
    "import matplotlib.pyplot as plt\n",
    "from coastal_simulation import CoastalSimulation\n",
    "from simulation import simulation\n",
    "from optimization import OptimizationManager"
   ]
  },
  {
   "cell_type": "code",
   "execution_count": 2,
   "metadata": {},
   "outputs": [],
   "source": [
    "def visualize_layers(state):\n",
    "    \"\"\"\n",
    "    Visualize individual layers of the simulation state\n",
    "    \"\"\"\n",
    "    titles = ['Ground Layer', 'Sand Layer', 'Water Layer']\n",
    "    \n",
    "    # Create a figure with 4 subplots (composite + 3 layers)\n",
    "    plt.figure(figsize=(20, 5))\n",
    "    \n",
    "    # Plot composite image\n",
    "    plt.subplot(1, 4, 1)\n",
    "    plt.imshow(state)\n",
    "    plt.title('Composite View')\n",
    "    plt.colorbar()\n",
    "    \n",
    "    # Plot individual layers\n",
    "    for i in range(3):\n",
    "        plt.subplot(1, 4, i + 2)\n",
    "        plt.imshow(state[:,:,i])\n",
    "        plt.title(titles[i])\n",
    "        plt.colorbar()\n",
    "    \n",
    "    plt.tight_layout()\n",
    "    plt.show()"
   ]
  },
  {
   "cell_type": "code",
   "execution_count": 3,
   "metadata": {},
   "outputs": [],
   "source": [
    "def run_basic_simulation():\n",
    "    \"\"\"\n",
    "    Initialize and run a basic simulation with default parameters\n",
    "    \"\"\"\n",
    "    print(\"Running basic simulation...\")\n",
    "    \n",
    "    # Create simulation instance\n",
    "    # sim = CoastalSimulation()\n",
    "    sim = simulation(\n",
    "        wave_freq=20,\n",
    "        wave_speed=1,\n",
    "        wave_decay=0.6,\n",
    "        wave_cutoff=0.1,\n",
    "        wave_retreat_coeff=0.8,\n",
    "        wave_height=2,\n",
    "        sand_pull=0.2,\n",
    "        ground_pull=0.1,\n",
    "        water_decay=0.99,\n",
    "        wave_vol=1,\n",
    "        wave_amplitude=50,\n",
    "        wave_spread=0\n",
    "    )\n",
    "    \n",
    "    # Run a basic simulation\n",
    "    _, final_state, initial_sand, total_sand = sim.run_sim(\n",
    "        num_timesteps=100,\n",
    "    )\n",
    "\n",
    "    # Display results with layer visualization\n",
    "    visualize_layers(final_state)\n",
    "    \n",
    "    print(f\"Basic simulation completed. Total sand: {total_sand}\")\n",
    "    return sim"
   ]
  },
  {
   "cell_type": "code",
   "execution_count": 4,
   "metadata": {},
   "outputs": [],
   "source": [
    "def run_optimization():\n",
    "    \"\"\"\n",
    "    Run the optimization process using the provided simulation\n",
    "    \"\"\"\n",
    "    print(\"\\nStarting optimization process...\")\n",
    "    \n",
    "    # Initialize optimization\n",
    "    opt_manager = OptimizationManager()\n",
    "    \n",
    "    # Sample initial parameters\n",
    "    n_samples = 10\n",
    "    param_samples = opt_manager.sample_parameters(n_samples)\n",
    "    \n",
    "    # Run initial simulations\n",
    "    print(f\"Running {n_samples} initial simulations...\")\n",
    "    outcomes = []\n",
    "    for i, params in enumerate(param_samples):\n",
    "        print(f\"Running simulation {i+1}/{n_samples}\")\n",
    "        _, _, initial_sand, outcome = simulation(\n",
    "            wave_freq=params[0],\n",
    "            wave_speed=params[1],\n",
    "            wave_decay=params[2],\n",
    "            wave_cutoff=params[3],\n",
    "            wave_retreat_coeff=params[4],\n",
    "            wave_height=params[5],\n",
    "            sand_pull=params[6],\n",
    "            ground_pull=params[7],\n",
    "            water_decay=params[8],\n",
    "            wave_vol=params[9],\n",
    "            wave_amplitude=params[10],\n",
    "            wave_spread=params[11]\n",
    "\n",
    "        ).run_sim(\n",
    "            num_timesteps=100\n",
    "        )\n",
    "        outcomes.append(outcome)\n",
    "    \n",
    "    # Convert to numpy arrays\n",
    "    X = np.array(param_samples)\n",
    "    Y = np.array(outcomes).reshape(-1, 1)\n",
    "    \n",
    "    # Run sensitivity analysis\n",
    "    print(\"\\nRunning sensitivity analysis...\")\n",
    "    main_effects, total_effects = opt_manager.run_sensitivity_analysis(X, Y)\n",
    "    print(\"Main effects:\", main_effects)\n",
    "    print(\"Total effects:\", total_effects)\n",
    "    \n",
    "    # Run optimization\n",
    "    print(\"\\nRunning Bayesian optimization...\")\n",
    "    loop_state = opt_manager.run_optimization(X, Y)\n",
    "    \n",
    "    # Get and print best results\n",
    "    best_parameters = loop_state.X[-1]  # Access X directly from loop_state\n",
    "    best_outcome = loop_state.Y[-1]     # Access Y directly from loop_state\n",
    "    \n",
    "    print(\"\\nOptimization Results:\")\n",
    "    param_names = list(opt_manager.parameter_space.parameter_names)\n",
    "    for name, value in zip(param_names, best_parameters):\n",
    "        print(f\"{name}: {value:.4f}\")\n",
    "    print(f\"Best outcome: {best_outcome[0]:.4f}\")\n",
    "    \n",
    "    # Run simulation with best parameters\n",
    "    print(\"\\nRunning simulation with best parameters...\")\n",
    "    _, final_state, initial_sand, final_sand = simulation(\n",
    "        wave_freq=best_parameters[0],\n",
    "        wave_speed=best_parameters[1],\n",
    "        wave_decay=best_parameters[2],\n",
    "        wave_cutoff=best_parameters[3],\n",
    "        wave_retreat_coeff=best_parameters[4],\n",
    "        wave_height=best_parameters[5],\n",
    "        sand_pull=best_parameters[6],\n",
    "        ground_pull=best_parameters[7],\n",
    "        water_decay=best_parameters[8],\n",
    "        wave_vol=best_parameters[9],\n",
    "        wave_amplitude=best_parameters[10],\n",
    "        wave_spread=best_parameters[11]\n",
    "    ).run_sim(\n",
    "        num_timesteps=100,\n",
    "        plots=False\n",
    "    )\n",
    "    \n",
    "    # Display final results with layer visualization\n",
    "    visualize_layers(final_state)\n",
    "    \n",
    "    return loop_state"
   ]
  },
  {
   "cell_type": "code",
   "execution_count": 5,
   "metadata": {
    "scrolled": true
   },
   "outputs": [
    {
     "name": "stdout",
     "output_type": "stream",
     "text": [
      "Running basic simulation...\n"
     ]
    },
    {
     "data": {
      "application/vnd.jupyter.widget-view+json": {
       "model_id": "eaf8b41fc1164c07aaf30058ef97ee08",
       "version_major": 2,
       "version_minor": 0
      },
      "text/plain": [
       "  0%|          | 0/99 [00:00<?, ?it/s]"
      ]
     },
     "metadata": {},
     "output_type": "display_data"
    },
    {
     "data": {
      "image/png": "[encoded data removed]",
      "text/plain": [
       "<Figure size 2000x500 with 8 Axes>"
      ]
     },
     "metadata": {},
     "output_type": "display_data"
    },
    {
     "name": "stdout",
     "output_type": "stream",
     "text": [
      "Basic simulation completed. Total sand: 319921\n",
      "\n",
      "Starting optimization process...\n",
      "Running 10 initial simulations...\n",
      "Running simulation 1/10\n"
     ]
    },
    {
     "data": {
      "application/vnd.jupyter.widget-view+json": {
       "model_id": "b2a3159ab0794fa8abc177d863494a30",
       "version_major": 2,
       "version_minor": 0
      },
      "text/plain": [
       "  0%|          | 0/99 [00:00<?, ?it/s]"
      ]
     },
     "metadata": {},
     "output_type": "display_data"
    },
    {
     "name": "stdout",
     "output_type": "stream",
     "text": [
      "Running simulation 2/10\n"
     ]
    },
    {
     "data": {
      "application/vnd.jupyter.widget-view+json": {
       "model_id": "5a51561878bb4d7f828751a3a2a4141b",
       "version_major": 2,
       "version_minor": 0
      },
      "text/plain": [
       "  0%|          | 0/99 [00:00<?, ?it/s]"
      ]
     },
     "metadata": {},
     "output_type": "display_data"
    },
    {
     "name": "stdout",
     "output_type": "stream",
     "text": [
      "Running simulation 3/10\n"
     ]
    },
    {
     "data": {
      "application/vnd.jupyter.widget-view+json": {
       "model_id": "d609a1f0a4774eb6839294b80502ad2f",
       "version_major": 2,
       "version_minor": 0
      },
      "text/plain": [
       "  0%|          | 0/99 [00:00<?, ?it/s]"
      ]
     },
     "metadata": {},
     "output_type": "display_data"
    },
    {
     "name": "stdout",
     "output_type": "stream",
     "text": [
      "Running simulation 4/10\n"
     ]
    },
    {
     "data": {
      "application/vnd.jupyter.widget-view+json": {
       "model_id": "4960a693377049bdbd43f0375fc24fe3",
       "version_major": 2,
       "version_minor": 0
      },
      "text/plain": [
       "  0%|          | 0/99 [00:00<?, ?it/s]"
      ]
     },
     "metadata": {},
     "output_type": "display_data"
    },
    {
     "name": "stdout",
     "output_type": "stream",
     "text": [
      "Running simulation 5/10\n"
     ]
    },
    {
     "data": {
      "application/vnd.jupyter.widget-view+json": {
       "model_id": "dd50671633b54614aa9d932b24fb83f1",
       "version_major": 2,
       "version_minor": 0
      },
      "text/plain": [
       "  0%|          | 0/99 [00:00<?, ?it/s]"
      ]
     },
     "metadata": {},
     "output_type": "display_data"
    },
    {
     "name": "stdout",
     "output_type": "stream",
     "text": [
      "Running simulation 6/10\n"
     ]
    },
    {
     "data": {
      "application/vnd.jupyter.widget-view+json": {
       "model_id": "051340b41a9e49d686ddc56c128898e4",
       "version_major": 2,
       "version_minor": 0
      },
      "text/plain": [
       "  0%|          | 0/99 [00:00<?, ?it/s]"
      ]
     },
     "metadata": {},
     "output_type": "display_data"
    },
    {
     "name": "stdout",
     "output_type": "stream",
     "text": [
      "Running simulation 7/10\n"
     ]
    },
    {
     "data": {
      "application/vnd.jupyter.widget-view+json": {
       "model_id": "2020feec099c4f3aa20db8b0a4bdf6ca",
       "version_major": 2,
       "version_minor": 0
      },
      "text/plain": [
       "  0%|          | 0/99 [00:00<?, ?it/s]"
      ]
     },
     "metadata": {},
     "output_type": "display_data"
    },
    {
     "name": "stdout",
     "output_type": "stream",
     "text": [
      "Running simulation 8/10\n"
     ]
    },
    {
     "data": {
      "application/vnd.jupyter.widget-view+json": {
       "model_id": "f86a9f6ead4842a98078e52ee400708c",
       "version_major": 2,
       "version_minor": 0
      },
      "text/plain": [
       "  0%|          | 0/99 [00:00<?, ?it/s]"
      ]
     },
     "metadata": {},
     "output_type": "display_data"
    },
    {
     "name": "stdout",
     "output_type": "stream",
     "text": [
      "Running simulation 9/10\n"
     ]
    },
    {
     "data": {
      "application/vnd.jupyter.widget-view+json": {
       "model_id": "b220c2e440c44899be83e9a288d78972",
       "version_major": 2,
       "version_minor": 0
      },
      "text/plain": [
       "  0%|          | 0/99 [00:00<?, ?it/s]"
      ]
     },
     "metadata": {},
     "output_type": "display_data"
    },
    {
     "name": "stdout",
     "output_type": "stream",
     "text": [
      "Running simulation 10/10\n"
     ]
    },
    {
     "data": {
      "application/vnd.jupyter.widget-view+json": {
       "model_id": "828f5e940988450ba0c8edd3a42618ce",
       "version_major": 2,
       "version_minor": 0
      },
      "text/plain": [
       "  0%|          | 0/99 [00:00<?, ?it/s]"
      ]
     },
     "metadata": {},
     "output_type": "display_data"
    },
    {
     "name": "stdout",
     "output_type": "stream",
     "text": [
      "\n",
      "Running sensitivity analysis...\n",
      "Main effects: {'wave_freq': array([0.15609433]), 'wave_speed': array([0.00220282]), 'wave_decay': array([-0.00034111]), 'wave_cutoff': array([-0.00021879]), 'wave_retreat_coeff': array([5.32593991e-05]), 'wave_height': array([0.00997051]), 'sand_pull': array([-0.00012849]), 'ground_pull': array([-0.00022606]), 'water_decay': array([-0.00022808]), 'wave_vol': array([0.00741944]), 'wave_amplitude': array([0.02783521]), 'wave_spread': array([0.02934759])}\n",
      "Total effects: {'wave_freq': array([0.85893748]), 'wave_speed': array([0.01771756]), 'wave_decay': array([-0.00649464]), 'wave_cutoff': array([-0.00998708]), 'wave_retreat_coeff': array([-0.01038027]), 'wave_height': array([0.30402636]), 'sand_pull': array([-0.01001419]), 'ground_pull': array([-0.00987141]), 'water_decay': array([-0.00986923]), 'wave_vol': array([0.31859451]), 'wave_amplitude': array([0.33283598]), 'wave_spread': array([0.44944978])}\n",
      "\n",
      "Running Bayesian optimization...\n"
     ]
    },
    {
     "data": {
      "application/vnd.jupyter.widget-view+json": {
       "model_id": "b49d2cfb25204e80b318ff45810568d7",
       "version_major": 2,
       "version_minor": 0
      },
      "text/plain": [
       "  0%|          | 0/99 [00:00<?, ?it/s]"
      ]
     },
     "metadata": {},
     "output_type": "display_data"
    },
    {
     "name": "stderr",
     "output_type": "stream",
     "text": [
      " /Users/amogh/Projects/tensorflow-test/env/lib/python3.8/site-packages/paramz/transformations.py:111: RuntimeWarning:overflow encountered in expm1\n"
     ]
    },
    {
     "data": {
      "application/vnd.jupyter.widget-view+json": {
       "model_id": "4f0e511a1afd4c3580a06ed947b13103",
       "version_major": 2,
       "version_minor": 0
      },
      "text/plain": [
       "  0%|          | 0/99 [00:00<?, ?it/s]"
      ]
     },
     "metadata": {},
     "output_type": "display_data"
    },
    {
     "data": {
      "application/vnd.jupyter.widget-view+json": {
       "model_id": "fdb473b7bdbf4ebc940a9a79250d0858",
       "version_major": 2,
       "version_minor": 0
      },
      "text/plain": [
       "  0%|          | 0/99 [00:00<?, ?it/s]"
      ]
     },
     "metadata": {},
     "output_type": "display_data"
    },
    {
     "data": {
      "application/vnd.jupyter.widget-view+json": {
       "model_id": "ca49d2b63b034b2ca7a223e4bb4dd85a",
       "version_major": 2,
       "version_minor": 0
      },
      "text/plain": [
       "  0%|          | 0/99 [00:00<?, ?it/s]"
      ]
     },
     "metadata": {},
     "output_type": "display_data"
    },
    {
     "data": {
      "application/vnd.jupyter.widget-view+json": {
       "model_id": "0a20768b4c8249edbbb57fbac7561329",
       "version_major": 2,
       "version_minor": 0
      },
      "text/plain": [
       "  0%|          | 0/99 [00:00<?, ?it/s]"
      ]
     },
     "metadata": {},
     "output_type": "display_data"
    },
    {
     "data": {
      "application/vnd.jupyter.widget-view+json": {
       "model_id": "8464adbff9e54bfbaf5d20b3d18fe898",
       "version_major": 2,
       "version_minor": 0
      },
      "text/plain": [
       "  0%|          | 0/99 [00:00<?, ?it/s]"
      ]
     },
     "metadata": {},
     "output_type": "display_data"
    },
    {
     "data": {
      "application/vnd.jupyter.widget-view+json": {
       "model_id": "b84c4a8d2c7d4301a1e04ae0369e04ed",
       "version_major": 2,
       "version_minor": 0
      },
      "text/plain": [
       "  0%|          | 0/99 [00:00<?, ?it/s]"
      ]
     },
     "metadata": {},
     "output_type": "display_data"
    },
    {
     "data": {
      "application/vnd.jupyter.widget-view+json": {
       "model_id": "63822cb8ff3341029d043fa8d91c092e",
       "version_major": 2,
       "version_minor": 0
      },
      "text/plain": [
       "  0%|          | 0/99 [00:00<?, ?it/s]"
      ]
     },
     "metadata": {},
     "output_type": "display_data"
    },
    {
     "data": {
      "application/vnd.jupyter.widget-view+json": {
       "model_id": "f4d86bc2a19441b9936ae081dba7df58",
       "version_major": 2,
       "version_minor": 0
      },
      "text/plain": [
       "  0%|          | 0/99 [00:00<?, ?it/s]"
      ]
     },
     "metadata": {},
     "output_type": "display_data"
    },
    {
     "data": {
      "application/vnd.jupyter.widget-view+json": {
       "model_id": "ee269f18669c4acd9b99ba593fcb66cf",
       "version_major": 2,
       "version_minor": 0
      },
      "text/plain": [
       "  0%|          | 0/99 [00:00<?, ?it/s]"
      ]
     },
     "metadata": {},
     "output_type": "display_data"
    },
    {
     "data": {
      "application/vnd.jupyter.widget-view+json": {
       "model_id": "df0e83830cc94d32b1db289bd4d2c916",
       "version_major": 2,
       "version_minor": 0
      },
      "text/plain": [
       "  0%|          | 0/99 [00:00<?, ?it/s]"
      ]
     },
     "metadata": {},
     "output_type": "display_data"
    },
    {
     "data": {
      "application/vnd.jupyter.widget-view+json": {
       "model_id": "e7731b2535374cb4be9c9550abb69c26",
       "version_major": 2,
       "version_minor": 0
      },
      "text/plain": [
       "  0%|          | 0/99 [00:00<?, ?it/s]"
      ]
     },
     "metadata": {},
     "output_type": "display_data"
    },
    {
     "data": {
      "application/vnd.jupyter.widget-view+json": {
       "model_id": "cb98987140e44cdda0ec2d2328908f68",
       "version_major": 2,
       "version_minor": 0
      },
      "text/plain": [
       "  0%|          | 0/99 [00:00<?, ?it/s]"
      ]
     },
     "metadata": {},
     "output_type": "display_data"
    },
    {
     "data": {
      "application/vnd.jupyter.widget-view+json": {
       "model_id": "12ee24481a954b48a13d6df38440be15",
       "version_major": 2,
       "version_minor": 0
      },
      "text/plain": [
       "  0%|          | 0/99 [00:00<?, ?it/s]"
      ]
     },
     "metadata": {},
     "output_type": "display_data"
    },
    {
     "data": {
      "application/vnd.jupyter.widget-view+json": {
       "model_id": "e53389f3e9554f9190193b8c3f4268aa",
       "version_major": 2,
       "version_minor": 0
      },
      "text/plain": [
       "  0%|          | 0/99 [00:00<?, ?it/s]"
      ]
     },
     "metadata": {},
     "output_type": "display_data"
    },
    {
     "data": {
      "application/vnd.jupyter.widget-view+json": {
       "model_id": "0712222aa98c4434b62646516dad52f8",
       "version_major": 2,
       "version_minor": 0
      },
      "text/plain": [
       "  0%|          | 0/99 [00:00<?, ?it/s]"
      ]
     },
     "metadata": {},
     "output_type": "display_data"
    },
    {
     "data": {
      "application/vnd.jupyter.widget-view+json": {
       "model_id": "7c8859d63443499fafcb39e73bc215df",
       "version_major": 2,
       "version_minor": 0
      },
      "text/plain": [
       "  0%|          | 0/99 [00:00<?, ?it/s]"
      ]
     },
     "metadata": {},
     "output_type": "display_data"
    },
    {
     "data": {
      "application/vnd.jupyter.widget-view+json": {
       "model_id": "d7bba18a8c3e4425a4bf1c8618591251",
       "version_major": 2,
       "version_minor": 0
      },
      "text/plain": [
       "  0%|          | 0/99 [00:00<?, ?it/s]"
      ]
     },
     "metadata": {},
     "output_type": "display_data"
    },
    {
     "data": {
      "application/vnd.jupyter.widget-view+json": {
       "model_id": "2bca5b9af6164dd5b548b4d6d7df4572",
       "version_major": 2,
       "version_minor": 0
      },
      "text/plain": [
       "  0%|          | 0/99 [00:00<?, ?it/s]"
      ]
     },
     "metadata": {},
     "output_type": "display_data"
    },
    {
     "data": {
      "application/vnd.jupyter.widget-view+json": {
       "model_id": "cbeb6859231d44938d6206117c75be20",
       "version_major": 2,
       "version_minor": 0
      },
      "text/plain": [
       "  0%|          | 0/99 [00:00<?, ?it/s]"
      ]
     },
     "metadata": {},
     "output_type": "display_data"
    },
    {
     "name": "stdout",
     "output_type": "stream",
     "text": [
      "\n",
      "Optimization Results:\n",
      "wave_freq: 49.9783\n",
      "wave_speed: 1.1254\n",
      "wave_decay: 0.5496\n",
      "wave_cutoff: 0.0542\n",
      "wave_retreat_coeff: 0.9017\n",
      "wave_height: 2.4442\n",
      "sand_pull: 0.4730\n",
      "ground_pull: 0.0891\n",
      "water_decay: 0.9569\n",
      "wave_vol: 1.7828\n",
      "wave_amplitude: 3.3630\n",
      "wave_spread: 4.4152\n",
      "Best outcome: -360000.0000\n",
      "\n",
      "Running simulation with best parameters...\n"
     ]
    },
    {
     "data": {
      "application/vnd.jupyter.widget-view+json": {
       "model_id": "1114a395743543a98189b0104320ec6f",
       "version_major": 2,
       "version_minor": 0
      },
      "text/plain": [
       "  0%|          | 0/99 [00:00<?, ?it/s]"
      ]
     },
     "metadata": {},
     "output_type": "display_data"
    },
    {
     "data": {
      "image/png": "[encoded data removed]",
      "text/plain": [
       "<Figure size 2000x500 with 8 Axes>"
      ]
     },
     "metadata": {},
     "output_type": "display_data"
    },
    {
     "name": "stdout",
     "output_type": "stream",
     "text": [
      "\n",
      "Demonstration completed!\n"
     ]
    }
   ],
   "source": [
    "# Run basic simulation\n",
    "sim = run_basic_simulation()\n",
    "\n",
    "# Run optimization\n",
    "results = run_optimization()\n",
    "\n",
    "print(\"\\nDemonstration completed!\")"
   ]
  },
  {
   "cell_type": "code",
   "execution_count": null,
   "metadata": {},
   "outputs": [],
   "source": []
  }
 ],
 "metadata": {
  "kernelspec": {
   "display_name": "Python 3 (ipykernel)",
   "language": "python",
   "name": "python3"
  },
  "language_info": {
   "codemirror_mode": {
    "name": "ipython",
    "version": 3
   },
   "file_extension": ".py",
   "mimetype": "text/x-python",
   "name": "python",
   "nbconvert_exporter": "python",
   "pygments_lexer": "ipython3",
   "version": "3.8.19"
  }
 },
 "nbformat": 4,
 "nbformat_minor": 4
}
