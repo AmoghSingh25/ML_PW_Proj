{
 "cells": [
  {
   "cell_type": "markdown",
   "metadata": {},
   "source": [
    "Step 1: Find the active buoys closest to Happisburgh, Norfolk - a place that struggles with coastal erosion.\n",
    "\n",
    "https://www.ndbc.noaa.gov/\n",
    "buoy nr: 62144 - Clipper AWS"
   ]
  },
  {
   "cell_type": "markdown",
   "metadata": {},
   "source": [
    "Step 2: Fetch data from the closest buoy "
   ]
  },
  {
   "cell_type": "code",
   "execution_count": 19,
   "metadata": {},
   "outputs": [
    {
     "name": "stderr",
     "output_type": "stream",
     "text": [
      "C:\\Users\\sonia\\AppData\\Local\\Temp\\ipykernel_22748\\896513729.py:9: FutureWarning: The 'delim_whitespace' keyword in pd.read_csv is deprecated and will be removed in a future version. Use ``sep='\\s+'`` instead\n",
      "  data = pd.read_csv(data_url, delim_whitespace=True, skiprows=[1], na_values=[\"MM\"])\n"
     ]
    },
    {
     "name": "stdout",
     "output_type": "stream",
     "text": [
      "    #YY  MM  DD  hh  mm  WDIR  WSPD  GST  WVHT  DPD  APD  MWD    PRES  ATMP  \\\n",
      "0  2025   1  16  12   0   200   5.1  NaN   0.7  NaN  NaN  NaN  1034.1   4.6   \n",
      "1  2025   1  16  11   0   210   5.7  NaN   0.7  NaN  NaN  NaN  1034.2   4.5   \n",
      "2  2025   1  16  10   0   190   6.2  NaN   0.6  NaN  NaN  NaN  1034.0   4.7   \n",
      "3  2025   1  16   9   0   190   5.1  NaN   0.6  NaN  NaN  NaN  1034.2   4.7   \n",
      "4  2025   1  16   8   0   190   5.1  NaN   0.6  NaN  NaN  NaN  1033.9   4.6   \n",
      "\n",
      "   WTMP  DEWP   VIS  PTDY  TIDE  \n",
      "0   NaN   4.6  2.00  -0.1   NaN  \n",
      "1   NaN   4.4  0.50   0.3   NaN  \n",
      "2   NaN   4.5  0.26   0.5   NaN  \n",
      "3   NaN   4.4  0.26   0.9   NaN  \n",
      "4   NaN   4.4  0.26   0.6   NaN  \n"
     ]
    }
   ],
   "source": [
    "import pandas as pd\n",
    "\n",
    "# Fetch real-time data for the closest buoy\n",
    "buoy_id = 62144\n",
    "data_url = f\"https://www.ndbc.noaa.gov/data/realtime2/{buoy_id}.txt\"\n",
    "\n",
    "# Load buoy data\n",
    "try:\n",
    "    data = pd.read_csv(data_url, delim_whitespace=True, skiprows=[1], na_values=[\"MM\"])\n",
    "    print(data.head())\n",
    "except Exception as e:\n",
    "    print(f\"Error fetching data for buoy {buoy_id}: {e}\")"
   ]
  },
  {
   "cell_type": "markdown",
   "metadata": {},
   "source": [
    "Step 3: Extract data to guide initial params"
   ]
  },
  {
   "cell_type": "code",
   "execution_count": 28,
   "metadata": {},
   "outputs": [
    {
     "name": "stdout",
     "output_type": "stream",
     "text": [
      "WAVE_HEIGHT: 0.56\n",
      "WAVE_SPEED: 5.324\n"
     ]
    }
   ],
   "source": [
    "# Drop rows with missing wave height\n",
    "data = data.dropna(subset=[\"WVHT\"])\n",
    "\n",
    "wave_height = data[\"WVHT\"].mean()  # Significant wave height\n",
    "wave_speed = data[\"WSPD\"].mean()  \n",
    "\n",
    "# Output parameters\n",
    "print(f\"WAVE_HEIGHT: {wave_height}\") # m\n",
    "print(f\"WAVE_SPEED: {wave_speed}\") # m/s"
   ]
  }
 ],
 "metadata": {
  "kernelspec": {
   "display_name": "new_env",
   "language": "python",
   "name": "python3"
  },
  "language_info": {
   "codemirror_mode": {
    "name": "ipython",
    "version": 3
   },
   "file_extension": ".py",
   "mimetype": "text/x-python",
   "name": "python",
   "nbconvert_exporter": "python",
   "pygments_lexer": "ipython3",
   "version": "3.10.15"
  }
 },
 "nbformat": 4,
 "nbformat_minor": 2
}
