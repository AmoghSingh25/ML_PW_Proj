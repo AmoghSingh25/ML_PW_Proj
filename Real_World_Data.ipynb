{
 "cells": [
  {
   "cell_type": "markdown",
   "metadata": {},
   "source": [
    "Step 1: Find the active buoys closest to Happisburgh, Norfolk - a place that struggles with coastal erosion.\n",
    "\n",
    "https://www.ndbc.noaa.gov/\n",
    "buoy nr: 62144 - Clipper AWS"
   ]
  },
  {
   "cell_type": "markdown",
   "metadata": {},
   "source": [
    "Step 2: Fetch data from the closest buoy "
   ]
  },
  {
   "cell_type": "code",
   "execution_count": 3,
   "metadata": {},
   "outputs": [
    {
     "name": "stderr",
     "output_type": "stream",
     "text": [
      "C:\\Users\\sonia\\AppData\\Local\\Temp\\ipykernel_17604\\896513729.py:9: FutureWarning: The 'delim_whitespace' keyword in pd.read_csv is deprecated and will be removed in a future version. Use ``sep='\\s+'`` instead\n",
      "  data = pd.read_csv(data_url, delim_whitespace=True, skiprows=[1], na_values=[\"MM\"])\n"
     ]
    },
    {
     "name": "stdout",
     "output_type": "stream",
     "text": [
      "    #YY  MM  DD  hh  mm  WDIR  WSPD  GST  WVHT  DPD  APD  MWD    PRES  ATMP  \\\n",
      "0  2025   1  16  16   0   200   6.2  NaN   0.6  NaN  NaN  NaN  1033.4   5.4   \n",
      "1  2025   1  16  15   0   200   5.1  NaN   0.6  NaN  NaN  NaN  1033.0   5.2   \n",
      "2  2025   1  16  14   0   220   4.1  NaN   0.6  NaN  NaN  NaN  1033.2   5.1   \n",
      "3  2025   1  16  13   0   220   5.1  NaN   0.6  NaN  NaN  NaN  1033.6   5.1   \n",
      "4  2025   1  16  12   0   200   5.1  NaN   0.5  NaN  NaN  NaN  1034.1   4.6   \n",
      "\n",
      "   WTMP  DEWP  VIS  PTDY  TIDE  \n",
      "0   NaN   5.4  1.0  -0.2   NaN  \n",
      "1   NaN   5.2  1.0  -1.1   NaN  \n",
      "2   NaN   5.1  1.0  -1.0   NaN  \n",
      "3   NaN   5.1  1.0  -0.4   NaN  \n",
      "4   NaN   4.6  2.0  -0.1   NaN  \n"
     ]
    }
   ],
   "source": [
    "import pandas as pd\n",
    "\n",
    "# Fetch real-time data for the closest buoy\n",
    "buoy_id = 62144\n",
    "data_url = f\"https://www.ndbc.noaa.gov/data/realtime2/{buoy_id}.txt\"\n",
    "\n",
    "# Load buoy data\n",
    "try:\n",
    "    data = pd.read_csv(data_url, delim_whitespace=True, skiprows=[1], na_values=[\"MM\"])\n",
    "    print(data.head())\n",
    "except Exception as e:\n",
    "    print(f\"Error fetching data for buoy {buoy_id}: {e}\")"
   ]
  },
  {
   "cell_type": "markdown",
   "metadata": {},
   "source": [
    "Step 3: Extract data to guide initial params"
   ]
  },
  {
   "cell_type": "code",
   "execution_count": 4,
   "metadata": {},
   "outputs": [
    {
     "name": "stdout",
     "output_type": "stream",
     "text": [
      "WAVE_HEIGHT: 0.58\n",
      "WAVE_SPEED: 5.363999999999999\n"
     ]
    }
   ],
   "source": [
    "# Drop rows with missing wave height\n",
    "data = data.dropna(subset=[\"WVHT\"])\n",
    "\n",
    "wave_height = data[\"WVHT\"].mean()  # Significant wave height\n",
    "wave_speed = data[\"WSPD\"].mean()  \n",
    "\n",
    "# Output parameters\n",
    "print(f\"WAVE_HEIGHT: {wave_height}\") # m\n",
    "print(f\"WAVE_SPEED: {wave_speed}\") # m/s"
   ]
  },
  {
   "cell_type": "markdown",
   "metadata": {},
   "source": [
    "Based on ,.. wave period near Norfolk was about 9s for 2012-2013"
   ]
  },
  {
   "cell_type": "code",
   "execution_count": 5,
   "metadata": {},
   "outputs": [
    {
     "name": "stdout",
     "output_type": "stream",
     "text": [
      "Wave Frequency: 0.148 Hz\n",
      "Wave Decay: 0.6\n",
      "Wave Cutoff: 0.058 m\n",
      "Wave Retreat Coefficient: 18144.192\n",
      "Sand Pull: 633.085\n",
      "Ground Pull: 316.543\n"
     ]
    },
    {
     "ename": "",
     "evalue": "",
     "output_type": "error",
     "traceback": [
      "\u001b[1;31mThe Kernel crashed while executing code in the current cell or a previous cell. \n",
      "\u001b[1;31mPlease review the code in the cell(s) to identify a possible cause of the failure. \n",
      "\u001b[1;31mClick <a href='https://aka.ms/vscodeJupyterKernelCrash'>here</a> for more info. \n",
      "\u001b[1;31mView Jupyter <a href='command:jupyter.viewOutput'>log</a> for further details."
     ]
    }
   ],
   "source": [
    "import numpy as np\n",
    "\n",
    "# Constants\n",
    "g = 9.81  # gravity (m/s^2)\n",
    "rho = 1025  # water density (kg/m^3)\n",
    "T = 4.81  # representative wave period (s)\n",
    "\n",
    "# 1. Wave Frequency\n",
    "wavelength = (g * T**2) / (2 * np.pi)\n",
    "wave_freq = wave_speed / wavelength\n",
    "\n",
    "# 2. Wave Decay (empirical coefficient)\n",
    "wave_decay = 0.6  # placeholder, adjust based on literature\n",
    "\n",
    "# 3. Wave Cutoff\n",
    "beta = 0.1  # empirical constant\n",
    "wave_cutoff = beta * wave_height\n",
    "\n",
    "# 4. Wave Retreat Coefficient\n",
    "wave_retreat_coeff = rho * g * wave_height**2 * wave_speed\n",
    "\n",
    "# 5. Sediment Transport Coefficients\n",
    "shear_velocity = wave_speed * 0.05  # estimate, 5% of wave speed\n",
    "shear_stress = rho * shear_velocity**2\n",
    "sand_pull = shear_stress**1.5\n",
    "ground_pull = sand_pull * 0.5  # assume ground pull is half of sand pull\n",
    "\n",
    "# Output results\n",
    "print(f\"Wave Frequency: {wave_freq:.3f} Hz\")\n",
    "print(f\"Wave Decay: {wave_decay}\")\n",
    "print(f\"Wave Cutoff: {wave_cutoff:.3f} m\")\n",
    "print(f\"Wave Retreat Coefficient: {wave_retreat_coeff:.3f}\")\n",
    "print(f\"Sand Pull: {sand_pull:.3f}\")\n",
    "print(f\"Ground Pull: {ground_pull:.3f}\")"
   ]
  }
 ],
 "metadata": {
  "kernelspec": {
   "display_name": "new_env",
   "language": "python",
   "name": "python3"
  },
  "language_info": {
   "codemirror_mode": {
    "name": "ipython",
    "version": 3
   },
   "file_extension": ".py",
   "mimetype": "text/x-python",
   "name": "python",
   "nbconvert_exporter": "python",
   "pygments_lexer": "ipython3",
   "version": "3.10.15"
  }
 },
 "nbformat": 4,
 "nbformat_minor": 2
}
