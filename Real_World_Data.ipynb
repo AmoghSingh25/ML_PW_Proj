{
 "cells": [
  {
   "cell_type": "markdown",
   "metadata": {},
   "source": [
    "# Coastal Erosion Simulation: Finding the Initial Parameters\n",
    "\n",
    "## Introduction\n",
    "This notebook tries to find reasonable estimates for parameters modeling the simulation world of the Norfolk coastline.\n",
    "\n",
    "The simulation incorporates data from NOAA buoy **62144**, alongside empirical equations derived from relevant literature, to calculate wave and coastal parameters such as wave height, wave speed, sand pull, ground pull, and others. Below is an explanation of the steps, models, and equations used in this analysis.\n",
    "\n",
    "#### Sources:\n",
    "\n",
    "https://www.ndbc.noaa.gov/\n",
    "Environment Agency, Sea State Report: Felixstowe Wave Buoy (2013): https://www.coastalmonitoring.org/pdf_download/?metadata_id=486318\n",
    "\n",
    "Bouws, E., & Komen, G. J. (1983). On the balance between growth and dissipation in an extreme depth-limited wind-sea in the southern North Sea. Journal of physical oceanography, 13(9), 1653-1658.\n",
    "\n",
    "Walkden, M. J. A., & Hall, J. W. (2005). A predictive mesoscale model of the erosion and profile development of soft rock shores. Coastal Engineering, 52(6), 535-563.\n",
    "\n",
    "Bruun, P. (1962). Sea-level rise as a cause of shore erosion. Journal of the Waterways and Harbors division, 88(1), 117-130."
   ]
  },
  {
   "cell_type": "markdown",
   "metadata": {},
   "source": [
    "## 1. Fetching Buoy Data\n",
    "The simulation starts by fetching real-time wave data from NOAA's database for the buoy nearest Norfolk. Key parameters such as **wave height** and **wave speed** are extracted and averaged."
   ]
  },
  {
   "cell_type": "code",
   "execution_count": 10,
   "metadata": {},
   "outputs": [
    {
     "name": "stderr",
     "output_type": "stream",
     "text": [
      "C:\\Users\\sonia\\AppData\\Local\\Temp\\ipykernel_24980\\896513729.py:9: FutureWarning: The 'delim_whitespace' keyword in pd.read_csv is deprecated and will be removed in a future version. Use ``sep='\\s+'`` instead\n",
      "  data = pd.read_csv(data_url, delim_whitespace=True, skiprows=[1], na_values=[\"MM\"])\n"
     ]
    },
    {
     "name": "stdout",
     "output_type": "stream",
     "text": [
      "    #YY  MM  DD  hh  mm  WDIR  WSPD  GST  WVHT  DPD  APD  MWD    PRES  ATMP  \\\n",
      "0  2025   1  18  23   0   150   2.1  NaN   0.5  NaN  NaN  NaN  1026.0   3.9   \n",
      "1  2025   1  18  22   0   150   2.1  NaN   0.5  NaN  NaN  NaN  1026.2   3.7   \n",
      "2  2025   1  18  21   0   150   1.5  NaN   0.5  NaN  NaN  NaN  1027.0   3.7   \n",
      "3  2025   1  18  20   0   150   2.1  NaN   0.5  NaN  NaN  NaN  1027.2   3.6   \n",
      "4  2025   1  18  19   0   150   2.1  NaN   0.5  NaN  NaN  NaN  1027.7   3.6   \n",
      "\n",
      "   WTMP  DEWP  VIS  PTDY  TIDE  \n",
      "0   NaN   2.8   11  -1.2   NaN  \n",
      "1   NaN   2.8   11  -1.4   NaN  \n",
      "2   NaN   3.0    5  -1.0   NaN  \n",
      "3   NaN   2.9   11  -1.1   NaN  \n",
      "4   NaN   3.1   11  -0.9   NaN  \n"
     ]
    }
   ],
   "source": [
    "import pandas as pd\n",
    "\n",
    "# Fetch real-time data for the closest buoy\n",
    "buoy_id = 62144\n",
    "data_url = f\"https://www.ndbc.noaa.gov/data/realtime2/{buoy_id}.txt\"\n",
    "\n",
    "# Load buoy data\n",
    "try:\n",
    "    data = pd.read_csv(data_url, delim_whitespace=True, skiprows=[1], na_values=[\"MM\"])\n",
    "    print(data.head())\n",
    "except Exception as e:\n",
    "    print(f\"Error fetching data for buoy {buoy_id}: {e}\")"
   ]
  },
  {
   "cell_type": "markdown",
   "metadata": {},
   "source": [
    "Extract the relevant data"
   ]
  },
  {
   "cell_type": "code",
   "execution_count": 11,
   "metadata": {},
   "outputs": [
    {
     "name": "stdout",
     "output_type": "stream",
     "text": [
      "WAVE_HEIGHT: 0.528\n",
      "WAVE_SPEED: 3.52\n"
     ]
    }
   ],
   "source": [
    "# Drop rows with missing wave height\n",
    "data = data.dropna(subset=[\"WVHT\"])\n",
    "\n",
    "wave_height = data[\"WVHT\"].mean()  # Significant wave height\n",
    "wave_speed = data[\"WSPD\"].mean()  \n",
    "\n",
    "# Output parameters\n",
    "print(f\"WAVE_HEIGHT: {wave_height}\") # m\n",
    "print(f\"WAVE_SPEED: {wave_speed}\") # m/s"
   ]
  },
  {
   "cell_type": "markdown",
   "metadata": {},
   "source": [
    "## 2. Estimating the Unknown\n",
    "\n",
    "Using models from the literature, empirical findings, and some approximations."
   ]
  },
  {
   "cell_type": "code",
   "execution_count": 13,
   "metadata": {},
   "outputs": [
    {
     "name": "stdout",
     "output_type": "stream",
     "text": [
      "Wave Frequency: 0.207900 Hz\n",
      "Wave Decay: 0.038\n",
      "Wave Cutoff Depth: 0.129720 m\n",
      "Wave Retreat Coefficient: 1.8\n",
      "Sand Pull: 0.174897 m³/year\n",
      "Ground Pull: 0.000101 m/year\n",
      "Wave Spread: 12 degrees\n",
      "Wave Volume: 10.186580 m³/wave\n"
     ]
    }
   ],
   "source": [
    "import numpy as np\n",
    "\n",
    "# Constants\n",
    "g = 9.81  # gravity (m/s^2)\n",
    "rho = 1025  # water density (kg/m^3)\n",
    "T = 4.81  # representative wave period (s)\n",
    "H_s = 0.564  # significant wave height (m)\n",
    "c = 4.088  # wave speed (m/s)\n",
    "W = 1  # wave front width (m), assumed for 1 m segment\n",
    "K = 1.8  # wave retreat coefficient (calibrated for Norfolk)\n",
    "R = 1.27e6  # material resistance (N/m^2), assumed based on the model in the report\n",
    "f1 = 0.8  # wave breaking term (estimated based on report)\n",
    "f2 = 1  # slope constant\n",
    "z = 0.05  # shore platform slope (radians) from the report\n",
    "f3_t = 1  # time-dependent tidal influence, assumed constant for simplicity\n",
    "theta = np.radians(12)  # wave approach angle in radians (12 degrees from the report)\n",
    "\n",
    "# 1. Wave Frequency\n",
    "wave_freq = 1 / T\n",
    "\n",
    "# 2. Wave Decay (empirical coefficient)\n",
    "wave_decay = 0.038  # Empirical coefficient from JONSWAP (from the report)\n",
    "\n",
    "# 3. Wave Cutoff Depth (based on report, as a fraction of H_s)\n",
    "wave_cutoff = 0.23 * H_s  # Cutoff depth based on H_s\n",
    "\n",
    "# 4. Wave Retreat Coefficient (direct usage of K as per report)\n",
    "wave_retreat_coeff = K  # Retreat rate in m/year (using 1.8 directly)\n",
    "\n",
    "# 5. Sand Pull (CERC Equation from the report)\n",
    "H_b = H_s  # Assuming breaking wave height is the same as significant wave height\n",
    "sand_pull = K * H_b**(5/2) * np.sin(2 * theta)  # Sand pull in m³/year (CERC model)\n",
    "\n",
    "# 6. Ground Pull (Erosion Rate Model from the report)\n",
    "F = rho * g * H_s**2  # Wave force in N/m² (calculated from wave height)\n",
    "ground_pull = (F / R) * f1 * f3_t * np.tan(f2 * z)  # Erosion rate in m/year (calculated)\n",
    "\n",
    "# 7. Wave Volume (calculated from wave height and wavelength)\n",
    "wavelength = (g * T**2) / (2 * np.pi)  # Wavelength using deep water wave formula\n",
    "wave_volume = (H_s / 2) * wavelength * W  # Wave volume in m³/wave\n",
    "\n",
    "# 8. Wave Spread (as per the report, fixed at 12 degrees)\n",
    "wave_spread = 12  # degrees\n",
    "\n",
    "# Output results with updated precision\n",
    "print(f\"Wave Frequency: {wave_freq:.6f} Hz\")\n",
    "print(f\"Wave Decay: {wave_decay}\")\n",
    "print(f\"Wave Cutoff Depth: {wave_cutoff:.6f} m\")\n",
    "print(f\"Wave Retreat Coefficient: {wave_retreat_coeff}\")\n",
    "print(f\"Sand Pull: {sand_pull:.6f} m³/year\")\n",
    "print(f\"Ground Pull: {ground_pull:.6f} m/year\")\n",
    "print(f\"Wave Spread: {wave_spread} degrees\")\n",
    "print(f\"Wave Volume: {wave_volume:.6f} m³/wave\")"
   ]
  }
 ],
 "metadata": {
  "kernelspec": {
   "display_name": "new_env",
   "language": "python",
   "name": "python3"
  },
  "language_info": {
   "codemirror_mode": {
    "name": "ipython",
    "version": 3
   },
   "file_extension": ".py",
   "mimetype": "text/x-python",
   "name": "python",
   "nbconvert_exporter": "python",
   "pygments_lexer": "ipython3",
   "version": "3.10.15"
  }
 },
 "nbformat": 4,
 "nbformat_minor": 2
}
