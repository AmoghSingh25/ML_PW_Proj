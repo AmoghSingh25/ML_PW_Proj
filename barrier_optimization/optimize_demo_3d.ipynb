{
 "cells": [
  {
   "cell_type": "code",
   "execution_count": 1,
   "metadata": {},
   "outputs": [],
   "source": [
    "import sys\n",
    "import os\n",
    "\n",
    "parent_dir = os.path.abspath(os.path.join(os.getcwd(), '..'))\n",
    "sys.path.append(parent_dir)"
   ]
  },
  {
   "cell_type": "code",
   "execution_count": 2,
   "metadata": {},
   "outputs": [
    {
     "name": "stdout",
     "output_type": "stream",
     "text": [
      "\n",
      "Running 3D simulation without barriers...\n"
     ]
    },
    {
     "data": {
      "application/vnd.jupyter.widget-view+json": {
       "model_id": "29ecd0ea6ea945d5b6d525c0aa6a5db1",
       "version_major": 2,
       "version_minor": 0
      },
      "text/plain": [
       "  0%|          | 0/99 [00:00<?, ?it/s]"
      ]
     },
     "metadata": {},
     "output_type": "display_data"
    },
    {
     "ename": "KeyboardInterrupt",
     "evalue": "",
     "output_type": "error",
     "traceback": [
      "\u001b[1;31m---------------------------------------------------------------------------\u001b[0m",
      "\u001b[1;31mKeyboardInterrupt\u001b[0m                         Traceback (most recent call last)",
      "Cell \u001b[1;32mIn[2], line 31\u001b[0m\n\u001b[0;32m     29\u001b[0m \u001b[38;5;28mprint\u001b[39m(\u001b[38;5;124m\"\u001b[39m\u001b[38;5;130;01m\\n\u001b[39;00m\u001b[38;5;124mRunning 3D simulation without barriers...\u001b[39m\u001b[38;5;124m\"\u001b[39m)\n\u001b[0;32m     30\u001b[0m sim_no_barrier \u001b[38;5;241m=\u001b[39m Simulation3D(\u001b[38;5;241m*\u001b[39m\u001b[38;5;241m*\u001b[39mSIM_PARAMS, obstacle_coords\u001b[38;5;241m=\u001b[39m[])\n\u001b[1;32m---> 31\u001b[0m \u001b[43msim_no_barrier\u001b[49m\u001b[38;5;241;43m.\u001b[39;49m\u001b[43mrun_sim\u001b[49m\u001b[43m(\u001b[49m\u001b[43mnum_timesteps\u001b[49m\u001b[38;5;241;43m=\u001b[39;49m\u001b[38;5;241;43m100\u001b[39;49m\u001b[43m)\u001b[49m\n\u001b[0;32m     33\u001b[0m \u001b[38;5;66;03m# 2. Run simulation with non-optimized barriers\u001b[39;00m\n\u001b[0;32m     34\u001b[0m \u001b[38;5;28mprint\u001b[39m(\u001b[38;5;124m\"\u001b[39m\u001b[38;5;130;01m\\n\u001b[39;00m\u001b[38;5;124mRunning 3D simulation with non-optimized barriers...\u001b[39m\u001b[38;5;124m\"\u001b[39m)\n",
      "File \u001b[1;32mc:\\Users\\sonia\\Documents\\University\\Cambridge\\L48\\Group Project\\ML_PW_Proj\\simulation3D.py:295\u001b[0m, in \u001b[0;36mSimulation3D.run_sim\u001b[1;34m(self, num_timesteps, plots)\u001b[0m\n\u001b[0;32m    293\u001b[0m     \u001b[38;5;28mself\u001b[39m\u001b[38;5;241m.\u001b[39mgenerate_wave(new_wave)\n\u001b[0;32m    294\u001b[0m     waves \u001b[38;5;241m=\u001b[39m np\u001b[38;5;241m.\u001b[39mappend(waves, new_wave, axis\u001b[38;5;241m=\u001b[39m\u001b[38;5;241m0\u001b[39m)\n\u001b[1;32m--> 295\u001b[0m \u001b[38;5;28;43mself\u001b[39;49m\u001b[38;5;241;43m.\u001b[39;49m\u001b[43mbackward_movement\u001b[49m\u001b[43m(\u001b[49m\u001b[43m)\u001b[49m\n",
      "File \u001b[1;32mc:\\Users\\sonia\\Documents\\University\\Cambridge\\L48\\Group Project\\ML_PW_Proj\\simulation3D.py:263\u001b[0m, in \u001b[0;36mSimulation3D.backward_movement\u001b[1;34m(self)\u001b[0m\n\u001b[0;32m    261\u001b[0m \u001b[38;5;28;01mdef\u001b[39;00m \u001b[38;5;21mbackward_movement\u001b[39m(\u001b[38;5;28mself\u001b[39m):\n\u001b[0;32m    262\u001b[0m     \u001b[38;5;28;01mfor\u001b[39;00m i \u001b[38;5;129;01min\u001b[39;00m \u001b[38;5;28mrange\u001b[39m(\u001b[38;5;28mself\u001b[39m\u001b[38;5;241m.\u001b[39mDIM_MAP):\n\u001b[1;32m--> 263\u001b[0m         \u001b[38;5;28;43mself\u001b[39;49m\u001b[38;5;241;43m.\u001b[39;49m\u001b[43mlayer_movement\u001b[49m\u001b[43m(\u001b[49m\u001b[43mi\u001b[49m\u001b[43m)\u001b[49m\n",
      "File \u001b[1;32mc:\\Users\\sonia\\Documents\\University\\Cambridge\\L48\\Group Project\\ML_PW_Proj\\simulation3D.py:220\u001b[0m, in \u001b[0;36mSimulation3D.layer_movement\u001b[1;34m(self, layer_idx)\u001b[0m\n\u001b[0;32m    218\u001b[0m             \u001b[38;5;28;01melse\u001b[39;00m:\n\u001b[0;32m    219\u001b[0m                 force_map_layer_i_2[cell[\u001b[38;5;241m0\u001b[39m],cell[\u001b[38;5;241m2\u001b[39m],\u001b[38;5;241m1\u001b[39m:] \u001b[38;5;241m=\u001b[39m np\u001b[38;5;241m.\u001b[39madd(force_map_layer_i_2[cell[\u001b[38;5;241m0\u001b[39m],cell[\u001b[38;5;241m2\u001b[39m],\u001b[38;5;241m1\u001b[39m:] \u001b[38;5;241m*\u001b[39m force_map_layer_i_2[cell[\u001b[38;5;241m0\u001b[39m],cell[\u001b[38;5;241m2\u001b[39m],\u001b[38;5;241m0\u001b[39m], (\u001b[38;5;241m1\u001b[39m\u001b[38;5;241m-\u001b[39m\u001b[38;5;28mself\u001b[39m\u001b[38;5;241m.\u001b[39mCENTRAL_PROP) \u001b[38;5;241m*\u001b[39m force_map_layer_i[i,k,\u001b[38;5;241m0\u001b[39m] \u001b[38;5;241m*\u001b[39m force_map_layer_i[i,k,\u001b[38;5;241m1\u001b[39m:])\n\u001b[1;32m--> 220\u001b[0m                 force_map_layer_i_2[cell[\u001b[38;5;241m0\u001b[39m],cell[\u001b[38;5;241m2\u001b[39m],\u001b[38;5;241m0\u001b[39m] \u001b[38;5;241m=\u001b[39m ((\u001b[38;5;241m1\u001b[39m\u001b[38;5;241m-\u001b[39m\u001b[38;5;28mself\u001b[39m\u001b[38;5;241m.\u001b[39mCENTRAL_PROP) \u001b[38;5;241m/\u001b[39m\u001b[38;5;28;43mlen\u001b[39;49m\u001b[43m(\u001b[49m\u001b[43mnext_cells\u001b[49m\u001b[43m)\u001b[49m) \u001b[38;5;241m*\u001b[39m force_map_layer_i[i,k,\u001b[38;5;241m0\u001b[39m]\n\u001b[0;32m    222\u001b[0m \u001b[38;5;28mself\u001b[39m\u001b[38;5;241m.\u001b[39mforce_maps[:,layer_idx] \u001b[38;5;241m=\u001b[39m force_map_layer_i\n\u001b[0;32m    223\u001b[0m \u001b[38;5;28mself\u001b[39m\u001b[38;5;241m.\u001b[39mforce_maps[:,layer_idx\u001b[38;5;241m-\u001b[39m\u001b[38;5;241m1\u001b[39m] \u001b[38;5;241m=\u001b[39m force_map_layer_i_2\n",
      "\u001b[1;31mKeyboardInterrupt\u001b[0m: "
     ]
    }
   ],
   "source": [
    "import matplotlib.pyplot as plt\n",
    "from simulation3D import Simulation3D\n",
    "from optimization3d import OptimizationManager3D\n",
    "from config import (\n",
    "    WAVE_FREQ, WAVE_SPEED, WAVE_DECAY, WAVE_CUTOFF, WAVE_RETREAT_COEFF, WAVE_HEIGHT,\n",
    "    SAND_PULL, GROUND_PULL, WATER_DECAY, WAVE_VOL, WAVE_AMPLITUDE, WAVE_SPREAD,\n",
    "    DIM_MAP, OBSTACLE_COORDS\n",
    ")\n",
    "import numpy as np\n",
    "\n",
    "# Define simulation parameters\n",
    "SIM_PARAMS = {\n",
    "    \"wave_freq\": WAVE_FREQ,\n",
    "    \"wave_speed\": WAVE_SPEED,\n",
    "    \"wave_decay\": WAVE_DECAY,\n",
    "    \"wave_cutoff\": WAVE_CUTOFF,\n",
    "    \"wave_retreat_coeff\": WAVE_RETREAT_COEFF,\n",
    "    \"wave_height\": WAVE_HEIGHT,\n",
    "    \"sand_pull\": SAND_PULL,\n",
    "    \"ground_pull\": GROUND_PULL,\n",
    "    \"water_decay\": WATER_DECAY,\n",
    "    \"wave_vol\": WAVE_VOL,\n",
    "    \"wave_amplitude\": WAVE_AMPLITUDE,\n",
    "    \"wave_spread\": WAVE_SPREAD,\n",
    "    \"dim_map\": DIM_MAP\n",
    "}\n",
    "\n",
    "# 1. Run simulation without barriers\n",
    "print(\"\\nRunning 3D simulation without barriers...\")\n",
    "sim_no_barrier = Simulation3D(**SIM_PARAMS, obstacle_coords=[])\n",
    "sim_no_barrier.run_sim(num_timesteps=10)\n",
    "\n",
    "# 2. Run simulation with non-optimized barriers\n",
    "print(\"\\nRunning 3D simulation with non-optimized barriers...\")\n",
    "sim_non_optimized = Simulation3D(**SIM_PARAMS, obstacle_coords=OBSTACLE_COORDS)\n",
    "sim_non_optimized.run_sim(num_timesteps=10)\n",
    "\n",
    "# 3. Optimize barrier placement\n",
    "print(\"\\nOptimizing 3D barrier placement...\")\n",
    "def run_optimization_3d(num_timesteps=10, n_samples=10, n_iterations=20):\n",
    "    opt_manager = OptimizationManager3D()\n",
    "    param_samples = opt_manager.sample_parameters(n_samples)\n",
    "    \n",
    "    # Run initial simulations\n",
    "    outcomes = []\n",
    "    for params in param_samples:\n",
    "        outcomes.append(opt_manager.wrapped_run_sim(params))\n",
    "    \n",
    "    # Convert results to numpy arrays\n",
    "    X = np.array(param_samples)\n",
    "    Y = np.array(outcomes).reshape(-1, 1)\n",
    "    \n",
    "    # Run Bayesian optimization\n",
    "    loop_state = opt_manager.run_optimization(X, Y, n_iterations=n_iterations)\n",
    "    \n",
    "    # Extract the best parameters\n",
    "    best_parameters = loop_state.X[-1]\n",
    "    return [(int(best_parameters[i]), int(best_parameters[len(OBSTACLE_COORDS) + i])) for i in range(len(OBSTACLE_COORDS))]\n",
    "\n",
    "optimized_coords = run_optimization_3d()\n",
    "\n",
    "# 4. Run simulation with optimized barriers\n",
    "print(\"\\nRunning 3D simulation with optimized barriers...\")\n",
    "sim_optimized = Simulation3D(**SIM_PARAMS, obstacle_coords=optimized_coords)\n",
    "sim_optimized.run_sim(num_timesteps=10)\n",
    "\n",
    "# 5. Visualization (3D Voxels)\n",
    "print(\"\\nVisualizing 3D simulations...\")\n",
    "sim_no_barrier.plot_3d_downsamp()\n",
    "sim_non_optimized.plot_3d_downsamp()\n",
    "sim_optimized.plot_3d_downsamp()\n",
    "\n",
    "# 6. Numerical summary\n",
    "sand_no_barrier = np.sum(sim_no_barrier.coast_map[:, :, 1]) - np.sum(sim_no_barrier.coast_map_3D[:, :, :, 1])\n",
    "sand_non_optimized = np.sum(sim_non_optimized.coast_map[:, :, 1]) - np.sum(sim_non_optimized.coast_map_3D[:, :, :, 1])\n",
    "sand_optimized = np.sum(sim_optimized.coast_map[:, :, 1]) - np.sum(sim_optimized.coast_map_3D[:, :, :, 1])\n",
    "\n",
    "print(\"\\nErosion Summary (3D):\")\n",
    "print(f\"Total erosion (no barriers): {sand_no_barrier:.2f}\")\n",
    "print(f\"Total erosion (non-optimized barriers): {sand_non_optimized:.2f}\")\n",
    "print(f\"Total erosion (optimized barriers): {sand_optimized:.2f}\")\n"
   ]
  }
 ],
 "metadata": {
  "kernelspec": {
   "display_name": "new_env",
   "language": "python",
   "name": "python3"
  },
  "language_info": {
   "codemirror_mode": {
    "name": "ipython",
    "version": 3
   },
   "file_extension": ".py",
   "mimetype": "text/x-python",
   "name": "python",
   "nbconvert_exporter": "python",
   "pygments_lexer": "ipython3",
   "version": "3.10.15"
  }
 },
 "nbformat": 4,
 "nbformat_minor": 2
}
