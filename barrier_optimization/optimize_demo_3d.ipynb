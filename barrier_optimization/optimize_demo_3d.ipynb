{
 "cells": [
  {
   "cell_type": "code",
   "execution_count": null,
   "metadata": {},
   "outputs": [],
   "source": [
    "import sys\n",
    "import os\n",
    "\n",
    "parent_dir = os.path.abspath(os.path.join(os.getcwd(), '..'))\n",
    "sys.path.append(parent_dir)"
   ]
  },
  {
   "cell_type": "code",
   "execution_count": null,
   "metadata": {},
   "outputs": [
    {
     "name": "stdout",
     "output_type": "stream",
     "text": [
      "\n",
      "Running 3D simulation without barriers...\n"
     ]
    },
    {
     "data": {
      "application/vnd.jupyter.widget-view+json": {
       "model_id": "bc10d231a949447aa9b00c32ba3167ac",
       "version_major": 2,
       "version_minor": 0
      },
      "text/plain": [
       "  0%|          | 0/99 [00:00<?, ?it/s]"
      ]
     },
     "metadata": {},
     "output_type": "display_data"
    }
   ],
   "source": [
    "import matplotlib.pyplot as plt\n",
    "from simulation3D import Simulation3D\n",
    "from optimization3d import OptimizationManager3D\n",
    "from config import (\n",
    "    WAVE_FREQ, WAVE_SPEED, WAVE_DECAY, WAVE_CUTOFF, WAVE_RETREAT_COEFF, WAVE_HEIGHT,\n",
    "    SAND_PULL, GROUND_PULL, WATER_DECAY, WAVE_VOL, WAVE_AMPLITUDE, WAVE_SPREAD,\n",
    "    DIM_MAP, OBSTACLE_COORDS\n",
    ")\n",
    "import numpy as np\n",
    "\n",
    "# Define simulation parameters\n",
    "SIM_PARAMS = {\n",
    "    \"wave_freq\": WAVE_FREQ,\n",
    "    \"wave_speed\": WAVE_SPEED,\n",
    "    \"wave_decay\": WAVE_DECAY,\n",
    "    \"wave_cutoff\": WAVE_CUTOFF,\n",
    "    \"wave_retreat_coeff\": WAVE_RETREAT_COEFF,\n",
    "    \"wave_height\": WAVE_HEIGHT,\n",
    "    \"sand_pull\": SAND_PULL,\n",
    "    \"ground_pull\": GROUND_PULL,\n",
    "    \"water_decay\": WATER_DECAY,\n",
    "    \"wave_vol\": WAVE_VOL,\n",
    "    \"wave_amplitude\": WAVE_AMPLITUDE,\n",
    "    \"wave_spread\": WAVE_SPREAD,\n",
    "    \"dim_map\": DIM_MAP\n",
    "}\n",
    "\n",
    "# 1. Run simulation without barriers\n",
    "print(\"\\nRunning 3D simulation without barriers...\")\n",
    "sim_no_barrier = Simulation3D(**SIM_PARAMS, obstacle_coords=[])\n",
    "sim_no_barrier.run_sim(num_timesteps=100)\n",
    "\n",
    "# 2. Run simulation with non-optimized barriers\n",
    "print(\"\\nRunning 3D simulation with non-optimized barriers...\")\n",
    "sim_non_optimized = Simulation3D(**SIM_PARAMS, obstacle_coords=OBSTACLE_COORDS)\n",
    "sim_non_optimized.run_sim(num_timesteps=100)\n",
    "\n",
    "# 3. Optimize barrier placement\n",
    "print(\"\\nOptimizing 3D barrier placement...\")\n",
    "def run_optimization_3d(num_timesteps=100, n_samples=10, n_iterations=20):\n",
    "    opt_manager = OptimizationManager3D()\n",
    "    param_samples = opt_manager.sample_parameters(n_samples)\n",
    "    \n",
    "    # Run initial simulations\n",
    "    outcomes = []\n",
    "    for params in param_samples:\n",
    "        outcomes.append(opt_manager.wrapped_run_sim(params))\n",
    "    \n",
    "    # Convert results to numpy arrays\n",
    "    X = np.array(param_samples)\n",
    "    Y = np.array(outcomes).reshape(-1, 1)\n",
    "    \n",
    "    # Run Bayesian optimization\n",
    "    loop_state = opt_manager.run_optimization(X, Y, n_iterations=n_iterations)\n",
    "    \n",
    "    # Extract the best parameters\n",
    "    best_parameters = loop_state.X[-1]\n",
    "    return [(int(best_parameters[i]), int(best_parameters[len(OBSTACLE_COORDS) + i])) for i in range(len(OBSTACLE_COORDS))]\n",
    "\n",
    "optimized_coords = run_optimization_3d()\n",
    "\n",
    "# 4. Run simulation with optimized barriers\n",
    "print(\"\\nRunning 3D simulation with optimized barriers...\")\n",
    "sim_optimized = Simulation3D(**SIM_PARAMS, obstacle_coords=optimized_coords)\n",
    "sim_optimized.run_sim(num_timesteps=100)\n",
    "\n",
    "# 5. Visualization (3D Voxels)\n",
    "print(\"\\nVisualizing 3D simulations...\")\n",
    "sim_no_barrier.plot_3d_downsamp()\n",
    "sim_non_optimized.plot_3d_downsamp()\n",
    "sim_optimized.plot_3d_downsamp()\n",
    "\n",
    "# 6. Numerical summary\n",
    "sand_no_barrier = np.sum(sim_no_barrier.coast_map[:, :, 1]) - np.sum(sim_no_barrier.coast_map_3D[:, :, :, 1])\n",
    "sand_non_optimized = np.sum(sim_non_optimized.coast_map[:, :, 1]) - np.sum(sim_non_optimized.coast_map_3D[:, :, :, 1])\n",
    "sand_optimized = np.sum(sim_optimized.coast_map[:, :, 1]) - np.sum(sim_optimized.coast_map_3D[:, :, :, 1])\n",
    "\n",
    "print(\"\\nErosion Summary (3D):\")\n",
    "print(f\"Total erosion (no barriers): {sand_no_barrier:.2f}\")\n",
    "print(f\"Total erosion (non-optimized barriers): {sand_non_optimized:.2f}\")\n",
    "print(f\"Total erosion (optimized barriers): {sand_optimized:.2f}\")\n"
   ]
  }
 ],
 "metadata": {
  "kernelspec": {
   "display_name": "new_env",
   "language": "python",
   "name": "python3"
  },
  "language_info": {
   "codemirror_mode": {
    "name": "ipython",
    "version": 3
   },
   "file_extension": ".py",
   "mimetype": "text/x-python",
   "name": "python",
   "nbconvert_exporter": "python",
   "pygments_lexer": "ipython3",
   "version": "3.10.15"
  }
 },
 "nbformat": 4,
 "nbformat_minor": 2
}
