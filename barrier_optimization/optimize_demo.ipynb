{
 "cells": [
  {
   "cell_type": "code",
   "execution_count": 1,
   "metadata": {},
   "outputs": [],
   "source": [
    "import sys\n",
    "import os\n",
    "\n",
    "parent_dir = os.path.abspath(os.path.join(os.getcwd(), '..'))\n",
    "sys.path.append(parent_dir)"
   ]
  },
  {
   "cell_type": "code",
   "execution_count": 2,
   "metadata": {},
   "outputs": [],
   "source": [
    "import matplotlib.pyplot as plt\n",
    "import numpy as np\n",
    "from simulation import simulation\n",
    "from optimization import OptimizationManager\n",
    "from emulation import Emulator\n",
    "from config import (\n",
    "    WAVE_FREQ, WAVE_SPEED, WAVE_DECAY, WAVE_CUTOFF, WAVE_RETREAT_COEFF, WAVE_HEIGHT,\n",
    "    SAND_PULL, GROUND_PULL, WATER_DECAY, WAVE_VOL, WAVE_AMPLITUDE, WAVE_SPREAD,\n",
    "    DIM_MAP, OBSTACLE_COORDS\n",
    ")"
   ]
  },
  {
   "cell_type": "markdown",
   "metadata": {},
   "source": [
    "First, we set up the simulation."
   ]
  },
  {
   "cell_type": "code",
   "execution_count": 3,
   "metadata": {},
   "outputs": [],
   "source": [
    "# Sim parameters\n",
    "SIM_PARAMS = {\n",
    "    \"wave_freq\": WAVE_FREQ,\n",
    "    \"wave_speed\": WAVE_SPEED,\n",
    "    \"wave_decay\": WAVE_DECAY,\n",
    "    \"wave_cutoff\": WAVE_CUTOFF,\n",
    "    \"wave_retreat_coeff\": WAVE_RETREAT_COEFF,\n",
    "    \"wave_height\": WAVE_HEIGHT,\n",
    "    \"sand_pull\": SAND_PULL,\n",
    "    \"ground_pull\": GROUND_PULL,\n",
    "    \"water_decay\": WATER_DECAY,\n",
    "    \"wave_vol\": WAVE_VOL,\n",
    "    \"wave_amplitude\": WAVE_AMPLITUDE,\n",
    "    \"wave_spread\": WAVE_SPREAD,\n",
    "    \"dim_map\": DIM_MAP\n",
    "}"
   ]
  },
  {
   "cell_type": "markdown",
   "metadata": {},
   "source": [
    "Some helper functions to visualize the results of the optimized placement of barriers"
   ]
  },
  {
   "cell_type": "code",
   "execution_count": 4,
   "metadata": {},
   "outputs": [],
   "source": [
    "# Helper function for erosion heatmap\n",
    "def plot_erosion_heatmap(before_map, after_map, title, cmap='Reds'):\n",
    "    sand_before = before_map[:, :, 1]  # Sand layer before erosion\n",
    "    sand_after = after_map[:, :, 1]    # Sand layer after erosion\n",
    "    erosion_diff = sand_before - sand_after  # Difference in sand levels\n",
    "\n",
    "    plt.imshow(erosion_diff, cmap=cmap)\n",
    "    plt.colorbar(label=\"Erosion Intensity\")\n",
    "    plt.title(title)\n",
    "    plt.xlabel(\"X Coordinate\")\n",
    "    plt.ylabel(\"Y Coordinate\")\n",
    "\n",
    "# Helper function for numerical erosion values\n",
    "def calculate_total_erosion(before_map, after_map):\n",
    "    sand_before = before_map[:, :, 1]\n",
    "    sand_after = after_map[:, :, 1]\n",
    "    total_erosion = np.sum(sand_before - sand_after)\n",
    "    return total_erosion"
   ]
  },
  {
   "cell_type": "markdown",
   "metadata": {},
   "source": [
    "Then we run the simulation first without any barriers, then with randomly placed barriers, and eventually we run an optimization using Bayesian Opt. to obtain optimal coordinates of the barriers and use that to generate final simulation results."
   ]
  },
  {
   "cell_type": "code",
   "execution_count": null,
   "metadata": {},
   "outputs": [
    {
     "name": "stdout",
     "output_type": "stream",
     "text": [
      "\n",
      "Running simulation without barriers...\n"
     ]
    },
    {
     "data": {
      "application/vnd.jupyter.widget-view+json": {
       "model_id": "3cfaaa09c68b4f41839c48b5c25b9831",
       "version_major": 2,
       "version_minor": 0
      },
      "text/plain": [
       "  0%|          | 0/99 [00:00<?, ?it/s]"
      ]
     },
     "metadata": {},
     "output_type": "display_data"
    },
    {
     "name": "stdout",
     "output_type": "stream",
     "text": [
      "Initial erosion (no barriers): 290600\n",
      "Final erosion (no barriers): 290600\n",
      "Change in erosion (no barriers): 0\n",
      "\n",
      "\n",
      "Running simulation with non-optimized barriers...\n"
     ]
    },
    {
     "data": {
      "application/vnd.jupyter.widget-view+json": {
       "model_id": "9ed992a1a90540899ff04d218d77cc67",
       "version_major": 2,
       "version_minor": 0
      },
      "text/plain": [
       "  0%|          | 0/99 [00:00<?, ?it/s]"
      ]
     },
     "metadata": {},
     "output_type": "display_data"
    },
    {
     "name": "stdout",
     "output_type": "stream",
     "text": [
      "Initial erosion (non-optimized barriers): 263300\n",
      "Final erosion (non-optimized barriers): 263300\n",
      "Change in erosion (non-optimized barriers): 0\n",
      "\n",
      "\n",
      "Optimizing barrier placement...\n"
     ]
    },
    {
     "data": {
      "application/vnd.jupyter.widget-view+json": {
       "model_id": "569fbcb0a6f84cca9c437854764004cf",
       "version_major": 2,
       "version_minor": 0
      },
      "text/plain": [
       "  0%|          | 0/99 [00:00<?, ?it/s]"
      ]
     },
     "metadata": {},
     "output_type": "display_data"
    },
    {
     "data": {
      "application/vnd.jupyter.widget-view+json": {
       "model_id": "89286150399f444bbbafe849647e4a8a",
       "version_major": 2,
       "version_minor": 0
      },
      "text/plain": [
       "  0%|          | 0/99 [00:00<?, ?it/s]"
      ]
     },
     "metadata": {},
     "output_type": "display_data"
    },
    {
     "data": {
      "application/vnd.jupyter.widget-view+json": {
       "model_id": "fb0afe1255bf4506a5baf10309907687",
       "version_major": 2,
       "version_minor": 0
      },
      "text/plain": [
       "  0%|          | 0/99 [00:00<?, ?it/s]"
      ]
     },
     "metadata": {},
     "output_type": "display_data"
    },
    {
     "data": {
      "application/vnd.jupyter.widget-view+json": {
       "model_id": "569a06e597794ca4bedb86ae5b62a922",
       "version_major": 2,
       "version_minor": 0
      },
      "text/plain": [
       "  0%|          | 0/99 [00:00<?, ?it/s]"
      ]
     },
     "metadata": {},
     "output_type": "display_data"
    },
    {
     "data": {
      "application/vnd.jupyter.widget-view+json": {
       "model_id": "f50e237be6d94788b3701c2d0fd0791a",
       "version_major": 2,
       "version_minor": 0
      },
      "text/plain": [
       "  0%|          | 0/99 [00:00<?, ?it/s]"
      ]
     },
     "metadata": {},
     "output_type": "display_data"
    },
    {
     "data": {
      "application/vnd.jupyter.widget-view+json": {
       "model_id": "dceef430adf545bc8ccf0a1eecd14275",
       "version_major": 2,
       "version_minor": 0
      },
      "text/plain": [
       "  0%|          | 0/99 [00:00<?, ?it/s]"
      ]
     },
     "metadata": {},
     "output_type": "display_data"
    },
    {
     "data": {
      "application/vnd.jupyter.widget-view+json": {
       "model_id": "fb4990d256074297b44355bdc4c68217",
       "version_major": 2,
       "version_minor": 0
      },
      "text/plain": [
       "  0%|          | 0/99 [00:00<?, ?it/s]"
      ]
     },
     "metadata": {},
     "output_type": "display_data"
    },
    {
     "data": {
      "application/vnd.jupyter.widget-view+json": {
       "model_id": "ca7d9d48c24d4b4597d8b0c067ddc29e",
       "version_major": 2,
       "version_minor": 0
      },
      "text/plain": [
       "  0%|          | 0/99 [00:00<?, ?it/s]"
      ]
     },
     "metadata": {},
     "output_type": "display_data"
    },
    {
     "data": {
      "application/vnd.jupyter.widget-view+json": {
       "model_id": "5faf6525a59e4e16b79f11f4befb4921",
       "version_major": 2,
       "version_minor": 0
      },
      "text/plain": [
       "  0%|          | 0/99 [00:00<?, ?it/s]"
      ]
     },
     "metadata": {},
     "output_type": "display_data"
    },
    {
     "data": {
      "application/vnd.jupyter.widget-view+json": {
       "model_id": "8fcf171a7af5479ea10f941392a0a5e5",
       "version_major": 2,
       "version_minor": 0
      },
      "text/plain": [
       "  0%|          | 0/99 [00:00<?, ?it/s]"
      ]
     },
     "metadata": {},
     "output_type": "display_data"
    },
    {
     "data": {
      "application/vnd.jupyter.widget-view+json": {
       "model_id": "47bf829c34bc4411acafd5caff040861",
       "version_major": 2,
       "version_minor": 0
      },
      "text/plain": [
       "  0%|          | 0/99 [00:00<?, ?it/s]"
      ]
     },
     "metadata": {},
     "output_type": "display_data"
    },
    {
     "data": {
      "application/vnd.jupyter.widget-view+json": {
       "model_id": "6006c1cd7f6a4d98aae5a7a65e6efca0",
       "version_major": 2,
       "version_minor": 0
      },
      "text/plain": [
       "  0%|          | 0/99 [00:00<?, ?it/s]"
      ]
     },
     "metadata": {},
     "output_type": "display_data"
    },
    {
     "data": {
      "application/vnd.jupyter.widget-view+json": {
       "model_id": "67a80e0c4a2443ab939274e63ffbb03b",
       "version_major": 2,
       "version_minor": 0
      },
      "text/plain": [
       "  0%|          | 0/99 [00:00<?, ?it/s]"
      ]
     },
     "metadata": {},
     "output_type": "display_data"
    },
    {
     "data": {
      "application/vnd.jupyter.widget-view+json": {
       "model_id": "ece40aa639dd4a4bbbe5efa2f4fbcdf7",
       "version_major": 2,
       "version_minor": 0
      },
      "text/plain": [
       "  0%|          | 0/99 [00:00<?, ?it/s]"
      ]
     },
     "metadata": {},
     "output_type": "display_data"
    },
    {
     "data": {
      "application/vnd.jupyter.widget-view+json": {
       "model_id": "2cc0363880fa4c49bf8b545cd349be86",
       "version_major": 2,
       "version_minor": 0
      },
      "text/plain": [
       "  0%|          | 0/99 [00:00<?, ?it/s]"
      ]
     },
     "metadata": {},
     "output_type": "display_data"
    },
    {
     "data": {
      "application/vnd.jupyter.widget-view+json": {
       "model_id": "e9e19c45ef9a472791a63769c04d4a51",
       "version_major": 2,
       "version_minor": 0
      },
      "text/plain": [
       "  0%|          | 0/99 [00:00<?, ?it/s]"
      ]
     },
     "metadata": {},
     "output_type": "display_data"
    },
    {
     "data": {
      "application/vnd.jupyter.widget-view+json": {
       "model_id": "d021acfb45c14fad8abf6fb90c4ae885",
       "version_major": 2,
       "version_minor": 0
      },
      "text/plain": [
       "  0%|          | 0/99 [00:00<?, ?it/s]"
      ]
     },
     "metadata": {},
     "output_type": "display_data"
    },
    {
     "data": {
      "application/vnd.jupyter.widget-view+json": {
       "model_id": "2c3c789753f54ce6abaaa28ad4b73015",
       "version_major": 2,
       "version_minor": 0
      },
      "text/plain": [
       "  0%|          | 0/99 [00:00<?, ?it/s]"
      ]
     },
     "metadata": {},
     "output_type": "display_data"
    },
    {
     "data": {
      "application/vnd.jupyter.widget-view+json": {
       "model_id": "2e5b63f4dfdd4e1a87a77eebab293e12",
       "version_major": 2,
       "version_minor": 0
      },
      "text/plain": [
       "  0%|          | 0/99 [00:00<?, ?it/s]"
      ]
     },
     "metadata": {},
     "output_type": "display_data"
    },
    {
     "data": {
      "application/vnd.jupyter.widget-view+json": {
       "model_id": "6bf144dc91fa49eca7e20a70dd510afa",
       "version_major": 2,
       "version_minor": 0
      },
      "text/plain": [
       "  0%|          | 0/99 [00:00<?, ?it/s]"
      ]
     },
     "metadata": {},
     "output_type": "display_data"
    },
    {
     "data": {
      "application/vnd.jupyter.widget-view+json": {
       "model_id": "3ea078c521344e83b3eb3e7ca25f8b6d",
       "version_major": 2,
       "version_minor": 0
      },
      "text/plain": [
       "  0%|          | 0/99 [00:00<?, ?it/s]"
      ]
     },
     "metadata": {},
     "output_type": "display_data"
    },
    {
     "data": {
      "application/vnd.jupyter.widget-view+json": {
       "model_id": "9785266e880044b5b076350750c971dd",
       "version_major": 2,
       "version_minor": 0
      },
      "text/plain": [
       "  0%|          | 0/99 [00:00<?, ?it/s]"
      ]
     },
     "metadata": {},
     "output_type": "display_data"
    },
    {
     "data": {
      "application/vnd.jupyter.widget-view+json": {
       "model_id": "3b8f8ce50e4c40fd81513dcff3ce5272",
       "version_major": 2,
       "version_minor": 0
      },
      "text/plain": [
       "  0%|          | 0/99 [00:00<?, ?it/s]"
      ]
     },
     "metadata": {},
     "output_type": "display_data"
    },
    {
     "data": {
      "application/vnd.jupyter.widget-view+json": {
       "model_id": "adb87f4c1885456887b9a9fc2ed26002",
       "version_major": 2,
       "version_minor": 0
      },
      "text/plain": [
       "  0%|          | 0/99 [00:00<?, ?it/s]"
      ]
     },
     "metadata": {},
     "output_type": "display_data"
    },
    {
     "data": {
      "application/vnd.jupyter.widget-view+json": {
       "model_id": "c0a9bf351cd449278641022e9537204d",
       "version_major": 2,
       "version_minor": 0
      },
      "text/plain": [
       "  0%|          | 0/99 [00:00<?, ?it/s]"
      ]
     },
     "metadata": {},
     "output_type": "display_data"
    },
    {
     "data": {
      "application/vnd.jupyter.widget-view+json": {
       "model_id": "67d87525a9954c2591c807f075564cc1",
       "version_major": 2,
       "version_minor": 0
      },
      "text/plain": [
       "  0%|          | 0/99 [00:00<?, ?it/s]"
      ]
     },
     "metadata": {},
     "output_type": "display_data"
    },
    {
     "data": {
      "application/vnd.jupyter.widget-view+json": {
       "model_id": "031642ba00ec484d958435990ef10f8c",
       "version_major": 2,
       "version_minor": 0
      },
      "text/plain": [
       "  0%|          | 0/99 [00:00<?, ?it/s]"
      ]
     },
     "metadata": {},
     "output_type": "display_data"
    },
    {
     "data": {
      "application/vnd.jupyter.widget-view+json": {
       "model_id": "33d73ec9bf4243839b808fe4a2d651af",
       "version_major": 2,
       "version_minor": 0
      },
      "text/plain": [
       "  0%|          | 0/99 [00:00<?, ?it/s]"
      ]
     },
     "metadata": {},
     "output_type": "display_data"
    },
    {
     "data": {
      "application/vnd.jupyter.widget-view+json": {
       "model_id": "592faa6d3509467cb9ea2123331a410d",
       "version_major": 2,
       "version_minor": 0
      },
      "text/plain": [
       "  0%|          | 0/99 [00:00<?, ?it/s]"
      ]
     },
     "metadata": {},
     "output_type": "display_data"
    },
    {
     "data": {
      "application/vnd.jupyter.widget-view+json": {
       "model_id": "bd1221e5472b4d39828cc0e958c4e38c",
       "version_major": 2,
       "version_minor": 0
      },
      "text/plain": [
       "  0%|          | 0/99 [00:00<?, ?it/s]"
      ]
     },
     "metadata": {},
     "output_type": "display_data"
    },
    {
     "data": {
      "application/vnd.jupyter.widget-view+json": {
       "model_id": "a271184a8e19414c8ae21137a8622ad2",
       "version_major": 2,
       "version_minor": 0
      },
      "text/plain": [
       "  0%|          | 0/99 [00:00<?, ?it/s]"
      ]
     },
     "metadata": {},
     "output_type": "display_data"
    },
    {
     "data": {
      "application/vnd.jupyter.widget-view+json": {
       "model_id": "6fdb61d3199e493981453d9f965872f9",
       "version_major": 2,
       "version_minor": 0
      },
      "text/plain": [
       "  0%|          | 0/99 [00:00<?, ?it/s]"
      ]
     },
     "metadata": {},
     "output_type": "display_data"
    },
    {
     "data": {
      "application/vnd.jupyter.widget-view+json": {
       "model_id": "8a28e6cc0eb64fdd9c0f8426af85f2d1",
       "version_major": 2,
       "version_minor": 0
      },
      "text/plain": [
       "  0%|          | 0/99 [00:00<?, ?it/s]"
      ]
     },
     "metadata": {},
     "output_type": "display_data"
    },
    {
     "data": {
      "application/vnd.jupyter.widget-view+json": {
       "model_id": "d5a272983ef34da0b53e800dfe2dded6",
       "version_major": 2,
       "version_minor": 0
      },
      "text/plain": [
       "  0%|          | 0/99 [00:00<?, ?it/s]"
      ]
     },
     "metadata": {},
     "output_type": "display_data"
    },
    {
     "data": {
      "application/vnd.jupyter.widget-view+json": {
       "model_id": "5cdec4185dc7415b9e44e1b1c115d4ee",
       "version_major": 2,
       "version_minor": 0
      },
      "text/plain": [
       "  0%|          | 0/99 [00:00<?, ?it/s]"
      ]
     },
     "metadata": {},
     "output_type": "display_data"
    },
    {
     "data": {
      "application/vnd.jupyter.widget-view+json": {
       "model_id": "85ed71f707ae43ff87c4f2bb43c433ee",
       "version_major": 2,
       "version_minor": 0
      },
      "text/plain": [
       "  0%|          | 0/99 [00:00<?, ?it/s]"
      ]
     },
     "metadata": {},
     "output_type": "display_data"
    },
    {
     "data": {
      "application/vnd.jupyter.widget-view+json": {
       "model_id": "cba76235c35146bf892e71a5737ba9e9",
       "version_major": 2,
       "version_minor": 0
      },
      "text/plain": [
       "  0%|          | 0/99 [00:00<?, ?it/s]"
      ]
     },
     "metadata": {},
     "output_type": "display_data"
    },
    {
     "data": {
      "application/vnd.jupyter.widget-view+json": {
       "model_id": "35854770f062474f994196ef8a9e348d",
       "version_major": 2,
       "version_minor": 0
      },
      "text/plain": [
       "  0%|          | 0/99 [00:00<?, ?it/s]"
      ]
     },
     "metadata": {},
     "output_type": "display_data"
    },
    {
     "data": {
      "application/vnd.jupyter.widget-view+json": {
       "model_id": "3a8d80aa767a4fcbab8b2592bd7987b4",
       "version_major": 2,
       "version_minor": 0
      },
      "text/plain": [
       "  0%|          | 0/99 [00:00<?, ?it/s]"
      ]
     },
     "metadata": {},
     "output_type": "display_data"
    },
    {
     "data": {
      "application/vnd.jupyter.widget-view+json": {
       "model_id": "4d06fc83b6344d71a652e7ee6e1b9d2d",
       "version_major": 2,
       "version_minor": 0
      },
      "text/plain": [
       "  0%|          | 0/99 [00:00<?, ?it/s]"
      ]
     },
     "metadata": {},
     "output_type": "display_data"
    },
    {
     "name": "stdout",
     "output_type": "stream",
     "text": [
      "Optimized barrier coordinates: [(28.36672542799151, 19.09298734033793)]\n",
      "\n",
      "Running simulation with optimized barriers...\n"
     ]
    },
    {
     "data": {
      "application/vnd.jupyter.widget-view+json": {
       "model_id": "636c5553a6314029b3a05e59e518b1a6",
       "version_major": 2,
       "version_minor": 0
      },
      "text/plain": [
       "  0%|          | 0/99 [00:00<?, ?it/s]"
      ]
     },
     "metadata": {},
     "output_type": "display_data"
    },
    {
     "name": "stdout",
     "output_type": "stream",
     "text": [
      "Initial erosion (optimized barriers): 416900\n",
      "Final erosion (optimized barriers): 416900\n",
      "Change in erosion (optimized barriers): 0\n",
      "\n"
     ]
    },
    {
     "data": {
      "image/png": "[encoded data removed]",
      "text/plain": [
       "<Figure size 2000x1000 with 9 Axes>"
      ]
     },
     "metadata": {},
     "output_type": "display_data"
    },
    {
     "name": "stdout",
     "output_type": "stream",
     "text": [
      "\n",
      "Erosion Progression Summary:\n",
      "Total Erosion Without Barriers: 290600 -> 290600\n",
      "Total Erosion With Non-Optimized Barriers: 263300 -> 263300\n",
      "Total Erosion With Optimized Barriers: 416900 -> 416900\n"
     ]
    }
   ],
   "source": [
    "# Import necessary libraries\n",
    "import matplotlib.pyplot as plt\n",
    "import numpy as np\n",
    "\n",
    "# 1. Run simulation without barriers\n",
    "print(\"\\nRunning simulation without barriers...\")\n",
    "sim_no_barrier = simulation(**SIM_PARAMS, obstacle_coords=[])\n",
    "before_map_no_barrier, after_map_no_barrier, before_erosion_no_barrier, after_erosion_no_barrier = sim_no_barrier.run_sim(num_timesteps=100)\n",
    "\n",
    "print(f\"Initial erosion (no barriers): {before_erosion_no_barrier}\")\n",
    "print(f\"Final erosion (no barriers): {after_erosion_no_barrier}\")\n",
    "print(f\"Change in erosion (no barriers): {after_erosion_no_barrier - before_erosion_no_barrier}\\n\")\n",
    "\n",
    "# 2. Run simulation with non-optimized barriers\n",
    "print(\"\\nRunning simulation with non-optimized barriers...\")\n",
    "sim_non_optimized = simulation(**SIM_PARAMS, obstacle_coords=OBSTACLE_COORDS)\n",
    "before_map_non_optimized, after_map_non_optimized, before_erosion_non_optimized, after_erosion_non_optimized = sim_non_optimized.run_sim(num_timesteps=100)\n",
    "\n",
    "print(f\"Initial erosion (non-optimized barriers): {before_erosion_non_optimized}\")\n",
    "print(f\"Final erosion (non-optimized barriers): {after_erosion_non_optimized}\")\n",
    "print(f\"Change in erosion (non-optimized barriers): {after_erosion_non_optimized - before_erosion_non_optimized}\\n\")\n",
    "\n",
    "# 3. Optimize barrier placement\n",
    "print(\"\\nOptimizing barrier placement...\")\n",
    "\n",
    "def run_optimization(num_timesteps=100, n_samples=20, n_iterations=20):\n",
    "    emulator = Emulator()\n",
    "    opt_manager = OptimizationManager(emulator=emulator)\n",
    "    param_samples = opt_manager.sample_parameters(n_samples)\n",
    "    \n",
    "    outcomes = []\n",
    "    for params in param_samples:\n",
    "        outcomes.append(opt_manager.wrapped_run_sim(params))\n",
    "    \n",
    "    # Convert results to numpy arrays\n",
    "    X = np.array(param_samples)\n",
    "    Y = np.array(outcomes).reshape(-1, 1)\n",
    "    \n",
    "    # Run Bayesian optimization\n",
    "    loop_state = opt_manager.run_optimization(X, Y, n_iterations=n_iterations)\n",
    "    \n",
    "    # Extract the best parameters\n",
    "    best_parameters = loop_state.X[-1]\n",
    "    return [(best_parameters[i], best_parameters[len(OBSTACLE_COORDS) + i]) for i in range(len(OBSTACLE_COORDS))]\n",
    "\n",
    "optimized_coords = run_optimization()\n",
    "print(f\"Optimized barrier coordinates: {optimized_coords}\")\n",
    "\n",
    "# 4. Run simulation with optimized barriers\n",
    "print(\"\\nRunning simulation with optimized barriers...\")\n",
    "sim_optimized = simulation(**SIM_PARAMS, obstacle_coords=optimized_coords)\n",
    "before_map_optimized, after_map_optimized, before_erosion_optimized, after_erosion_optimized = sim_optimized.run_sim(num_timesteps=100)\n",
    "\n",
    "print(f\"Initial erosion (optimized barriers): {before_erosion_optimized}\")\n",
    "print(f\"Final erosion (optimized barriers): {after_erosion_optimized}\")\n",
    "print(f\"Change in erosion (optimized barriers): {after_erosion_optimized - before_erosion_optimized}\\n\")\n",
    "\n",
    "# 5. Visualize results\n",
    "plt.figure(figsize=(20, 10))\n",
    "\n",
    "# Without barriers\n",
    "plt.subplot(2, 3, 1)\n",
    "plot_erosion_heatmap(before_map_no_barrier, after_map_no_barrier, \"Without Barriers\")\n",
    "plt.title(\"Erosion Without Barriers\")\n",
    "\n",
    "plt.subplot(2, 3, 4)\n",
    "sim_no_barrier.place_obstacles()\n",
    "plt.imshow(sim_no_barrier.obstacle_map, cmap='gray')\n",
    "plt.title(\"Barrier Placement (None)\")\n",
    "\n",
    "# Non-optimized barriers\n",
    "plt.subplot(2, 3, 2)\n",
    "plot_erosion_heatmap(before_map_non_optimized, after_map_non_optimized, \"Non-Optimized Barriers\")\n",
    "plt.title(\"Erosion With Non-Optimized Barriers\")\n",
    "\n",
    "plt.subplot(2, 3, 5)\n",
    "sim_non_optimized.place_obstacles()\n",
    "plt.imshow(sim_non_optimized.obstacle_map, cmap='gray')\n",
    "plt.title(\"Barrier Placement (Non-Optimized)\")\n",
    "\n",
    "# Optimized barriers\n",
    "plt.subplot(2, 3, 3)\n",
    "plot_erosion_heatmap(before_map_optimized, after_map_optimized, \"Optimized Barriers\")\n",
    "plt.title(\"Erosion With Optimized Barriers\")\n",
    "\n",
    "plt.subplot(2, 3, 6)\n",
    "sim_optimized.place_obstacles()\n",
    "plt.imshow(sim_optimized.obstacle_map, cmap='gray')\n",
    "plt.title(\"Barrier Placement (Optimized)\")\n",
    "\n",
    "plt.tight_layout()\n",
    "plt.show()\n",
    "\n",
    "# Logging erosion progression\n",
    "print(\"\\nErosion Progression Summary:\")\n",
    "print(f\"Total Erosion Without Barriers: {before_erosion_no_barrier} -> {after_erosion_no_barrier}\")\n",
    "print(f\"Total Erosion With Non-Optimized Barriers: {before_erosion_non_optimized} -> {after_erosion_non_optimized}\")\n",
    "print(f\"Total Erosion With Optimized Barriers: {before_erosion_optimized} -> {after_erosion_optimized}\")"
   ]
  },
  {
   "cell_type": "markdown",
   "metadata": {},
   "source": [
    "Now that we have the optimal barrier coords, let's run a simulation in 3D"
   ]
  },
  {
   "cell_type": "code",
   "execution_count": null,
   "metadata": {},
   "outputs": [],
   "source": [
    "from simulation3D import Simulation3D\n",
    "\n",
    "sim_3d = Simulation3D(**SIM_PARAMS, obstacle_coords=[(28, 19)])\n",
    "\n",
    "sim_3d._pre_sim_run()\n",
    "sim_3d.propagate_forces()\n",
    "\n",
    "sim_3d.plot_3d()\n",
    "sim_3d.plot_3d_downsamp(red_dim=20)"
   ]
  }
 ],
 "metadata": {
  "kernelspec": {
   "display_name": "new_env",
   "language": "python",
   "name": "python3"
  },
  "language_info": {
   "codemirror_mode": {
    "name": "ipython",
    "version": 3
   },
   "file_extension": ".py",
   "mimetype": "text/x-python",
   "name": "python",
   "nbconvert_exporter": "python",
   "pygments_lexer": "ipython3",
   "version": "3.10.15"
  }
 },
 "nbformat": 4,
 "nbformat_minor": 2
}
