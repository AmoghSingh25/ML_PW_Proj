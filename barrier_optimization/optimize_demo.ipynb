{
 "cells": [
  {
   "cell_type": "code",
   "execution_count": 1,
   "metadata": {},
   "outputs": [],
   "source": [
    "import sys\n",
    "import os\n",
    "\n",
    "parent_dir = os.path.abspath(os.path.join(os.getcwd(), '..'))\n",
    "sys.path.append(parent_dir)"
   ]
  },
  {
   "cell_type": "code",
   "execution_count": 2,
   "metadata": {},
   "outputs": [],
   "source": [
    "import matplotlib.pyplot as plt\n",
    "import numpy as np\n",
    "from simulation import simulation\n",
    "from optimization import OptimizationManager\n",
    "from emulation import Emulator\n",
    "from config import (\n",
    "    WAVE_FREQ, WAVE_SPEED, WAVE_DECAY, WAVE_CUTOFF, WAVE_RETREAT_COEFF, WAVE_HEIGHT,\n",
    "    SAND_PULL, GROUND_PULL, WATER_DECAY, WAVE_VOL, WAVE_AMPLITUDE, WAVE_SPREAD,\n",
    "    DIM_MAP, OBSTACLE_COORDS\n",
    ")"
   ]
  },
  {
   "cell_type": "markdown",
   "metadata": {},
   "source": [
    "First, we set up the simulation."
   ]
  },
  {
   "cell_type": "code",
   "execution_count": 3,
   "metadata": {},
   "outputs": [],
   "source": [
    "# Sim parameters\n",
    "SIM_PARAMS = {\n",
    "    \"wave_freq\": WAVE_FREQ,\n",
    "    \"wave_speed\": WAVE_SPEED,\n",
    "    \"wave_decay\": WAVE_DECAY,\n",
    "    \"wave_cutoff\": WAVE_CUTOFF,\n",
    "    \"wave_retreat_coeff\": WAVE_RETREAT_COEFF,\n",
    "    \"wave_height\": WAVE_HEIGHT,\n",
    "    \"sand_pull\": SAND_PULL,\n",
    "    \"ground_pull\": GROUND_PULL,\n",
    "    \"water_decay\": WATER_DECAY,\n",
    "    \"wave_vol\": WAVE_VOL,\n",
    "    \"wave_amplitude\": WAVE_AMPLITUDE,\n",
    "    \"wave_spread\": WAVE_SPREAD,\n",
    "    \"dim_map\": DIM_MAP\n",
    "}"
   ]
  },
  {
   "cell_type": "markdown",
   "metadata": {},
   "source": [
    "Some helper functions to visualize the results of the optimized placement of barriers"
   ]
  },
  {
   "cell_type": "code",
   "execution_count": 4,
   "metadata": {},
   "outputs": [],
   "source": [
    "# Helper function for erosion heatmap\n",
    "def plot_erosion_heatmap(before_map, after_map, title, cmap='Reds'):\n",
    "    sand_before = before_map[:, :, 1]  # Sand layer before erosion\n",
    "    sand_after = after_map[:, :, 1]    # Sand layer after erosion\n",
    "    erosion_diff = sand_before - sand_after  # Difference in sand levels\n",
    "\n",
    "    plt.imshow(erosion_diff, cmap=cmap)\n",
    "    plt.colorbar(label=\"Erosion Intensity\")\n",
    "    plt.title(title)\n",
    "    plt.xlabel(\"X Coordinate\")\n",
    "    plt.ylabel(\"Y Coordinate\")\n",
    "\n",
    "# Helper function for numerical erosion values\n",
    "def calculate_total_erosion(before_map, after_map):\n",
    "    sand_before = before_map[:, :, 1]\n",
    "    sand_after = after_map[:, :, 1]\n",
    "    total_erosion = np.sum(sand_before - sand_after)\n",
    "    return total_erosion"
   ]
  },
  {
   "cell_type": "markdown",
   "metadata": {},
   "source": [
    "Then we run the simulation first without any barriers, then with randomly placed barriers, and eventually we run an optimization using Bayesian Opt. to obtain optimal coordinates of the barriers and use that to generate final simulation results."
   ]
  },
  {
   "cell_type": "code",
   "execution_count": 5,
   "metadata": {},
   "outputs": [
    {
     "name": "stdout",
     "output_type": "stream",
     "text": [
      "\n",
      "Running simulation without barriers...\n"
     ]
    },
    {
     "data": {
      "application/vnd.jupyter.widget-view+json": {
       "model_id": "9307aab6695a4e46b9fc40cab60f401d",
       "version_major": 2,
       "version_minor": 0
      },
      "text/plain": [
       "  0%|          | 0/99 [00:00<?, ?it/s]"
      ]
     },
     "metadata": {},
     "output_type": "display_data"
    },
    {
     "name": "stdout",
     "output_type": "stream",
     "text": [
      "Initial erosion (no barriers): 241800\n",
      "Final erosion (no barriers): 241800\n",
      "Change in erosion (no barriers): 0\n",
      "\n",
      "\n",
      "Running simulation with non-optimized barriers...\n"
     ]
    },
    {
     "data": {
      "application/vnd.jupyter.widget-view+json": {
       "model_id": "40f2393989d543999463b2d20d57b2ba",
       "version_major": 2,
       "version_minor": 0
      },
      "text/plain": [
       "  0%|          | 0/99 [00:00<?, ?it/s]"
      ]
     },
     "metadata": {},
     "output_type": "display_data"
    },
    {
     "name": "stdout",
     "output_type": "stream",
     "text": [
      "Initial erosion (non-optimized barriers): 221800\n",
      "Final erosion (non-optimized barriers): 221800\n",
      "Change in erosion (non-optimized barriers): 0\n",
      "\n",
      "\n",
      "Optimizing barrier placement...\n"
     ]
    },
    {
     "data": {
      "application/vnd.jupyter.widget-view+json": {
       "model_id": "1f2133933e2c4aff904a22d32917ba1e",
       "version_major": 2,
       "version_minor": 0
      },
      "text/plain": [
       "  0%|          | 0/99 [00:00<?, ?it/s]"
      ]
     },
     "metadata": {},
     "output_type": "display_data"
    },
    {
     "data": {
      "application/vnd.jupyter.widget-view+json": {
       "model_id": "11b97bb17c924711a11464a38555b8c2",
       "version_major": 2,
       "version_minor": 0
      },
      "text/plain": [
       "  0%|          | 0/99 [00:00<?, ?it/s]"
      ]
     },
     "metadata": {},
     "output_type": "display_data"
    },
    {
     "data": {
      "application/vnd.jupyter.widget-view+json": {
       "model_id": "9b091c7dfc9640708da082d10363e81d",
       "version_major": 2,
       "version_minor": 0
      },
      "text/plain": [
       "  0%|          | 0/99 [00:00<?, ?it/s]"
      ]
     },
     "metadata": {},
     "output_type": "display_data"
    },
    {
     "data": {
      "application/vnd.jupyter.widget-view+json": {
       "model_id": "d19bffe7eb3b49e890f6d6b66fef1336",
       "version_major": 2,
       "version_minor": 0
      },
      "text/plain": [
       "  0%|          | 0/99 [00:00<?, ?it/s]"
      ]
     },
     "metadata": {},
     "output_type": "display_data"
    },
    {
     "data": {
      "application/vnd.jupyter.widget-view+json": {
       "model_id": "6f79287a9f5c4d23b4c3e26fa906fecf",
       "version_major": 2,
       "version_minor": 0
      },
      "text/plain": [
       "  0%|          | 0/99 [00:00<?, ?it/s]"
      ]
     },
     "metadata": {},
     "output_type": "display_data"
    },
    {
     "data": {
      "application/vnd.jupyter.widget-view+json": {
       "model_id": "d3835117937a4268b5d1c1d0e5a91e8c",
       "version_major": 2,
       "version_minor": 0
      },
      "text/plain": [
       "  0%|          | 0/99 [00:00<?, ?it/s]"
      ]
     },
     "metadata": {},
     "output_type": "display_data"
    },
    {
     "data": {
      "application/vnd.jupyter.widget-view+json": {
       "model_id": "85605da6a3824eb0a0a75b17d53992b3",
       "version_major": 2,
       "version_minor": 0
      },
      "text/plain": [
       "  0%|          | 0/99 [00:00<?, ?it/s]"
      ]
     },
     "metadata": {},
     "output_type": "display_data"
    },
    {
     "data": {
      "application/vnd.jupyter.widget-view+json": {
       "model_id": "df850fec21934e0abd1ce1e44dd0ea52",
       "version_major": 2,
       "version_minor": 0
      },
      "text/plain": [
       "  0%|          | 0/99 [00:00<?, ?it/s]"
      ]
     },
     "metadata": {},
     "output_type": "display_data"
    },
    {
     "data": {
      "application/vnd.jupyter.widget-view+json": {
       "model_id": "42723322a1d84b1191aaed2a6553ea09",
       "version_major": 2,
       "version_minor": 0
      },
      "text/plain": [
       "  0%|          | 0/99 [00:00<?, ?it/s]"
      ]
     },
     "metadata": {},
     "output_type": "display_data"
    },
    {
     "data": {
      "application/vnd.jupyter.widget-view+json": {
       "model_id": "a321de79d0f743d7a96da7365f18e486",
       "version_major": 2,
       "version_minor": 0
      },
      "text/plain": [
       "  0%|          | 0/99 [00:00<?, ?it/s]"
      ]
     },
     "metadata": {},
     "output_type": "display_data"
    },
    {
     "data": {
      "application/vnd.jupyter.widget-view+json": {
       "model_id": "ae1e1668f4ae469d89286a86b398d708",
       "version_major": 2,
       "version_minor": 0
      },
      "text/plain": [
       "  0%|          | 0/99 [00:00<?, ?it/s]"
      ]
     },
     "metadata": {},
     "output_type": "display_data"
    },
    {
     "data": {
      "application/vnd.jupyter.widget-view+json": {
       "model_id": "f9c21aea0ce74ccdbb08fa0cfaf62690",
       "version_major": 2,
       "version_minor": 0
      },
      "text/plain": [
       "  0%|          | 0/99 [00:00<?, ?it/s]"
      ]
     },
     "metadata": {},
     "output_type": "display_data"
    },
    {
     "data": {
      "application/vnd.jupyter.widget-view+json": {
       "model_id": "7ae09de9dd7a4da08a13af6f6645caaa",
       "version_major": 2,
       "version_minor": 0
      },
      "text/plain": [
       "  0%|          | 0/99 [00:00<?, ?it/s]"
      ]
     },
     "metadata": {},
     "output_type": "display_data"
    },
    {
     "data": {
      "application/vnd.jupyter.widget-view+json": {
       "model_id": "7f56a16b6f4148d29a6eccccd935eba8",
       "version_major": 2,
       "version_minor": 0
      },
      "text/plain": [
       "  0%|          | 0/99 [00:00<?, ?it/s]"
      ]
     },
     "metadata": {},
     "output_type": "display_data"
    },
    {
     "data": {
      "application/vnd.jupyter.widget-view+json": {
       "model_id": "d7a1b52547604470b88b4833d1f848cd",
       "version_major": 2,
       "version_minor": 0
      },
      "text/plain": [
       "  0%|          | 0/99 [00:00<?, ?it/s]"
      ]
     },
     "metadata": {},
     "output_type": "display_data"
    },
    {
     "data": {
      "application/vnd.jupyter.widget-view+json": {
       "model_id": "cb38161f4c7e451e83b79f4703dbc0c8",
       "version_major": 2,
       "version_minor": 0
      },
      "text/plain": [
       "  0%|          | 0/99 [00:00<?, ?it/s]"
      ]
     },
     "metadata": {},
     "output_type": "display_data"
    },
    {
     "data": {
      "application/vnd.jupyter.widget-view+json": {
       "model_id": "26ce2d56a8f54106afa99171fab7d8e1",
       "version_major": 2,
       "version_minor": 0
      },
      "text/plain": [
       "  0%|          | 0/99 [00:00<?, ?it/s]"
      ]
     },
     "metadata": {},
     "output_type": "display_data"
    },
    {
     "data": {
      "application/vnd.jupyter.widget-view+json": {
       "model_id": "b4ad52b8331842edb9d4ca8a58f3888d",
       "version_major": 2,
       "version_minor": 0
      },
      "text/plain": [
       "  0%|          | 0/99 [00:00<?, ?it/s]"
      ]
     },
     "metadata": {},
     "output_type": "display_data"
    },
    {
     "data": {
      "application/vnd.jupyter.widget-view+json": {
       "model_id": "9701a2b3a0214c3db801a9138ac0ca9e",
       "version_major": 2,
       "version_minor": 0
      },
      "text/plain": [
       "  0%|          | 0/99 [00:00<?, ?it/s]"
      ]
     },
     "metadata": {},
     "output_type": "display_data"
    },
    {
     "data": {
      "application/vnd.jupyter.widget-view+json": {
       "model_id": "347bb4e9119d4889a62131116a79c8fa",
       "version_major": 2,
       "version_minor": 0
      },
      "text/plain": [
       "  0%|          | 0/99 [00:00<?, ?it/s]"
      ]
     },
     "metadata": {},
     "output_type": "display_data"
    },
    {
     "data": {
      "application/vnd.jupyter.widget-view+json": {
       "model_id": "1394a89d027d4a529e55724b09c0dfe6",
       "version_major": 2,
       "version_minor": 0
      },
      "text/plain": [
       "  0%|          | 0/99 [00:00<?, ?it/s]"
      ]
     },
     "metadata": {},
     "output_type": "display_data"
    },
    {
     "data": {
      "application/vnd.jupyter.widget-view+json": {
       "model_id": "d48af93c434943bc84804f168381d26d",
       "version_major": 2,
       "version_minor": 0
      },
      "text/plain": [
       "  0%|          | 0/99 [00:00<?, ?it/s]"
      ]
     },
     "metadata": {},
     "output_type": "display_data"
    },
    {
     "data": {
      "application/vnd.jupyter.widget-view+json": {
       "model_id": "299199767ee3497cb08c58db60bb7f6b",
       "version_major": 2,
       "version_minor": 0
      },
      "text/plain": [
       "  0%|          | 0/99 [00:00<?, ?it/s]"
      ]
     },
     "metadata": {},
     "output_type": "display_data"
    },
    {
     "name": "stderr",
     "output_type": "stream",
     "text": [
      " c:\\Users\\sonia\\anaconda3\\envs\\new_env\\lib\\site-packages\\emukit\\bayesian_optimization\\acquisitions\\expected_improvement.py:43: RuntimeWarning:invalid value encountered in sqrt\n"
     ]
    },
    {
     "data": {
      "application/vnd.jupyter.widget-view+json": {
       "model_id": "3905e666d4a7429cb8d676e275cb9a16",
       "version_major": 2,
       "version_minor": 0
      },
      "text/plain": [
       "  0%|          | 0/99 [00:00<?, ?it/s]"
      ]
     },
     "metadata": {},
     "output_type": "display_data"
    },
    {
     "data": {
      "application/vnd.jupyter.widget-view+json": {
       "model_id": "1ae2ad446bbd404e8431bb89b2c39909",
       "version_major": 2,
       "version_minor": 0
      },
      "text/plain": [
       "  0%|          | 0/99 [00:00<?, ?it/s]"
      ]
     },
     "metadata": {},
     "output_type": "display_data"
    },
    {
     "data": {
      "application/vnd.jupyter.widget-view+json": {
       "model_id": "880d5a8d7f984e0d88fdcbe424b0c5ec",
       "version_major": 2,
       "version_minor": 0
      },
      "text/plain": [
       "  0%|          | 0/99 [00:00<?, ?it/s]"
      ]
     },
     "metadata": {},
     "output_type": "display_data"
    },
    {
     "data": {
      "application/vnd.jupyter.widget-view+json": {
       "model_id": "8996741bf337457e90cbe9732c80066e",
       "version_major": 2,
       "version_minor": 0
      },
      "text/plain": [
       "  0%|          | 0/99 [00:00<?, ?it/s]"
      ]
     },
     "metadata": {},
     "output_type": "display_data"
    },
    {
     "data": {
      "application/vnd.jupyter.widget-view+json": {
       "model_id": "67aeb3a30b15407481505634a6bf0605",
       "version_major": 2,
       "version_minor": 0
      },
      "text/plain": [
       "  0%|          | 0/99 [00:00<?, ?it/s]"
      ]
     },
     "metadata": {},
     "output_type": "display_data"
    },
    {
     "ename": "LinAlgError",
     "evalue": "not positive definite, even with jitter.",
     "output_type": "error",
     "traceback": [
      "\u001b[1;31m---------------------------------------------------------------------------\u001b[0m",
      "\u001b[1;31mLinAlgError\u001b[0m                               Traceback (most recent call last)",
      "Cell \u001b[1;32mIn[5], line 52\u001b[0m\n\u001b[0;32m     49\u001b[0m     best_parameters \u001b[38;5;241m=\u001b[39m loop_state\u001b[38;5;241m.\u001b[39mX[\u001b[38;5;241m-\u001b[39m\u001b[38;5;241m1\u001b[39m]\n\u001b[0;32m     50\u001b[0m     \u001b[38;5;28;01mreturn\u001b[39;00m [(best_parameters[i], best_parameters[\u001b[38;5;28mlen\u001b[39m(OBSTACLE_COORDS) \u001b[38;5;241m+\u001b[39m i]) \u001b[38;5;28;01mfor\u001b[39;00m i \u001b[38;5;129;01min\u001b[39;00m \u001b[38;5;28mrange\u001b[39m(\u001b[38;5;28mlen\u001b[39m(OBSTACLE_COORDS))]\n\u001b[1;32m---> 52\u001b[0m optimized_coords \u001b[38;5;241m=\u001b[39m \u001b[43mrun_optimization\u001b[49m\u001b[43m(\u001b[49m\u001b[43m)\u001b[49m\n\u001b[0;32m     53\u001b[0m \u001b[38;5;28mprint\u001b[39m(\u001b[38;5;124mf\u001b[39m\u001b[38;5;124m\"\u001b[39m\u001b[38;5;124mOptimized barrier coordinates: \u001b[39m\u001b[38;5;132;01m{\u001b[39;00moptimized_coords\u001b[38;5;132;01m}\u001b[39;00m\u001b[38;5;124m\"\u001b[39m)\n\u001b[0;32m     55\u001b[0m \u001b[38;5;66;03m# 4. Run simulation with optimized barriers\u001b[39;00m\n",
      "Cell \u001b[1;32mIn[5], line 46\u001b[0m, in \u001b[0;36mrun_optimization\u001b[1;34m(num_timesteps, n_samples, n_iterations)\u001b[0m\n\u001b[0;32m     43\u001b[0m Y \u001b[38;5;241m=\u001b[39m np\u001b[38;5;241m.\u001b[39marray(outcomes)\u001b[38;5;241m.\u001b[39mreshape(\u001b[38;5;241m-\u001b[39m\u001b[38;5;241m1\u001b[39m, \u001b[38;5;241m1\u001b[39m)\n\u001b[0;32m     45\u001b[0m \u001b[38;5;66;03m# Run Bayesian optimization\u001b[39;00m\n\u001b[1;32m---> 46\u001b[0m loop_state \u001b[38;5;241m=\u001b[39m \u001b[43mopt_manager\u001b[49m\u001b[38;5;241;43m.\u001b[39;49m\u001b[43mrun_optimization\u001b[49m\u001b[43m(\u001b[49m\u001b[43mX\u001b[49m\u001b[43m,\u001b[49m\u001b[43m \u001b[49m\u001b[43mY\u001b[49m\u001b[43m,\u001b[49m\u001b[43m \u001b[49m\u001b[43mn_iterations\u001b[49m\u001b[38;5;241;43m=\u001b[39;49m\u001b[43mn_iterations\u001b[49m\u001b[43m)\u001b[49m\n\u001b[0;32m     48\u001b[0m \u001b[38;5;66;03m# Extract the best parameters\u001b[39;00m\n\u001b[0;32m     49\u001b[0m best_parameters \u001b[38;5;241m=\u001b[39m loop_state\u001b[38;5;241m.\u001b[39mX[\u001b[38;5;241m-\u001b[39m\u001b[38;5;241m1\u001b[39m]\n",
      "File \u001b[1;32mc:\\Users\\sonia\\Documents\\University\\Cambridge\\L48\\Group Project\\ML_PW_Proj\\barrier_optimization\\optimization.py:81\u001b[0m, in \u001b[0;36mOptimizationManager.run_optimization\u001b[1;34m(self, X, Y, n_iterations)\u001b[0m\n\u001b[0;32m     75\u001b[0m \u001b[38;5;66;03m# Run Bayesian Optimization Loop\u001b[39;00m\n\u001b[0;32m     76\u001b[0m bo_loop \u001b[38;5;241m=\u001b[39m BayesianOptimizationLoop(\n\u001b[0;32m     77\u001b[0m     model\u001b[38;5;241m=\u001b[39memukit_model,\n\u001b[0;32m     78\u001b[0m     space\u001b[38;5;241m=\u001b[39m\u001b[38;5;28mself\u001b[39m\u001b[38;5;241m.\u001b[39mparameter_space,\n\u001b[0;32m     79\u001b[0m     acquisition_optimizer\u001b[38;5;241m=\u001b[39mRandomSearchAcquisitionOptimizer(\u001b[38;5;28mself\u001b[39m\u001b[38;5;241m.\u001b[39mparameter_space),\n\u001b[0;32m     80\u001b[0m )\n\u001b[1;32m---> 81\u001b[0m \u001b[43mbo_loop\u001b[49m\u001b[38;5;241;43m.\u001b[39;49m\u001b[43mrun_loop\u001b[49m\u001b[43m(\u001b[49m\u001b[38;5;28;43mself\u001b[39;49m\u001b[38;5;241;43m.\u001b[39;49m\u001b[43mwrapped_run_sim\u001b[49m\u001b[43m,\u001b[49m\u001b[43m \u001b[49m\u001b[43mn_iterations\u001b[49m\u001b[43m)\u001b[49m\n\u001b[0;32m     83\u001b[0m \u001b[38;5;28;01mreturn\u001b[39;00m bo_loop\u001b[38;5;241m.\u001b[39mloop_state\n",
      "File \u001b[1;32mc:\\Users\\sonia\\anaconda3\\envs\\new_env\\lib\\site-packages\\emukit\\core\\loop\\outer_loop.py:103\u001b[0m, in \u001b[0;36mOuterLoop.run_loop\u001b[1;34m(self, user_function, stopping_condition, context)\u001b[0m\n\u001b[0;32m    100\u001b[0m \u001b[38;5;28;01mwhile\u001b[39;00m \u001b[38;5;129;01mnot\u001b[39;00m stopping_condition\u001b[38;5;241m.\u001b[39mshould_stop(\u001b[38;5;28mself\u001b[39m\u001b[38;5;241m.\u001b[39mloop_state):\n\u001b[0;32m    101\u001b[0m     _log\u001b[38;5;241m.\u001b[39minfo(\u001b[38;5;124m\"\u001b[39m\u001b[38;5;124mIteration \u001b[39m\u001b[38;5;132;01m{}\u001b[39;00m\u001b[38;5;124m\"\u001b[39m\u001b[38;5;241m.\u001b[39mformat(\u001b[38;5;28mself\u001b[39m\u001b[38;5;241m.\u001b[39mloop_state\u001b[38;5;241m.\u001b[39miteration))\n\u001b[1;32m--> 103\u001b[0m     \u001b[38;5;28;43mself\u001b[39;49m\u001b[38;5;241;43m.\u001b[39;49m\u001b[43m_update_models\u001b[49m\u001b[43m(\u001b[49m\u001b[43m)\u001b[49m\n\u001b[0;32m    104\u001b[0m     new_x \u001b[38;5;241m=\u001b[39m \u001b[38;5;28mself\u001b[39m\u001b[38;5;241m.\u001b[39mcandidate_point_calculator\u001b[38;5;241m.\u001b[39mcompute_next_points(\u001b[38;5;28mself\u001b[39m\u001b[38;5;241m.\u001b[39mloop_state, context)\n\u001b[0;32m    105\u001b[0m     _log\u001b[38;5;241m.\u001b[39mdebug(\u001b[38;5;124m\"\u001b[39m\u001b[38;5;124mNext suggested point(s): \u001b[39m\u001b[38;5;132;01m{}\u001b[39;00m\u001b[38;5;124m\"\u001b[39m\u001b[38;5;241m.\u001b[39mformat(new_x))\n",
      "File \u001b[1;32mc:\\Users\\sonia\\anaconda3\\envs\\new_env\\lib\\site-packages\\emukit\\core\\loop\\outer_loop.py:116\u001b[0m, in \u001b[0;36mOuterLoop._update_models\u001b[1;34m(self)\u001b[0m\n\u001b[0;32m    114\u001b[0m \u001b[38;5;28;01mdef\u001b[39;00m \u001b[38;5;21m_update_models\u001b[39m(\u001b[38;5;28mself\u001b[39m):\n\u001b[0;32m    115\u001b[0m     \u001b[38;5;28;01mfor\u001b[39;00m model_updater \u001b[38;5;129;01min\u001b[39;00m \u001b[38;5;28mself\u001b[39m\u001b[38;5;241m.\u001b[39mmodel_updaters:\n\u001b[1;32m--> 116\u001b[0m         \u001b[43mmodel_updater\u001b[49m\u001b[38;5;241;43m.\u001b[39;49m\u001b[43mupdate\u001b[49m\u001b[43m(\u001b[49m\u001b[38;5;28;43mself\u001b[39;49m\u001b[38;5;241;43m.\u001b[39;49m\u001b[43mloop_state\u001b[49m\u001b[43m)\u001b[49m\n",
      "File \u001b[1;32mc:\\Users\\sonia\\anaconda3\\envs\\new_env\\lib\\site-packages\\emukit\\core\\loop\\model_updaters.py:62\u001b[0m, in \u001b[0;36mFixedIntervalUpdater.update\u001b[1;34m(self, loop_state)\u001b[0m\n\u001b[0;32m     58\u001b[0m \u001b[38;5;250m\u001b[39m\u001b[38;5;124;03m\"\"\"\u001b[39;00m\n\u001b[0;32m     59\u001b[0m \u001b[38;5;124;03m:param loop_state: Object that contains current state of the loop\u001b[39;00m\n\u001b[0;32m     60\u001b[0m \u001b[38;5;124;03m\"\"\"\u001b[39;00m\n\u001b[0;32m     61\u001b[0m targets \u001b[38;5;241m=\u001b[39m \u001b[38;5;28mself\u001b[39m\u001b[38;5;241m.\u001b[39mtargets_extractor_fcn(loop_state)\n\u001b[1;32m---> 62\u001b[0m \u001b[38;5;28;43mself\u001b[39;49m\u001b[38;5;241;43m.\u001b[39;49m\u001b[43mmodel\u001b[49m\u001b[38;5;241;43m.\u001b[39;49m\u001b[43mset_data\u001b[49m\u001b[43m(\u001b[49m\u001b[43mloop_state\u001b[49m\u001b[38;5;241;43m.\u001b[39;49m\u001b[43mX\u001b[49m\u001b[43m,\u001b[49m\u001b[43m \u001b[49m\u001b[43mtargets\u001b[49m\u001b[43m)\u001b[49m\n\u001b[0;32m     63\u001b[0m \u001b[38;5;28;01mif\u001b[39;00m (loop_state\u001b[38;5;241m.\u001b[39miteration \u001b[38;5;241m%\u001b[39m \u001b[38;5;28mself\u001b[39m\u001b[38;5;241m.\u001b[39minterval) \u001b[38;5;241m==\u001b[39m \u001b[38;5;241m0\u001b[39m:\n\u001b[0;32m     64\u001b[0m     _log\u001b[38;5;241m.\u001b[39minfo(\u001b[38;5;124m\"\u001b[39m\u001b[38;5;124mUpdating parameters of the model\u001b[39m\u001b[38;5;124m\"\u001b[39m)\n",
      "File \u001b[1;32mc:\\Users\\sonia\\anaconda3\\envs\\new_env\\lib\\site-packages\\emukit\\model_wrappers\\gpy_model_wrappers.py:90\u001b[0m, in \u001b[0;36mGPyModelWrapper.set_data\u001b[1;34m(self, X, Y)\u001b[0m\n\u001b[0;32m     83\u001b[0m \u001b[38;5;28;01mdef\u001b[39;00m \u001b[38;5;21mset_data\u001b[39m(\u001b[38;5;28mself\u001b[39m, X: np\u001b[38;5;241m.\u001b[39mndarray, Y: np\u001b[38;5;241m.\u001b[39mndarray) \u001b[38;5;241m-\u001b[39m\u001b[38;5;241m>\u001b[39m \u001b[38;5;28;01mNone\u001b[39;00m:\n\u001b[0;32m     84\u001b[0m \u001b[38;5;250m    \u001b[39m\u001b[38;5;124;03m\"\"\"\u001b[39;00m\n\u001b[0;32m     85\u001b[0m \u001b[38;5;124;03m    Sets training data in model\u001b[39;00m\n\u001b[0;32m     86\u001b[0m \n\u001b[0;32m     87\u001b[0m \u001b[38;5;124;03m    :param X: New training features\u001b[39;00m\n\u001b[0;32m     88\u001b[0m \u001b[38;5;124;03m    :param Y: New training outputs\u001b[39;00m\n\u001b[0;32m     89\u001b[0m \u001b[38;5;124;03m    \"\"\"\u001b[39;00m\n\u001b[1;32m---> 90\u001b[0m     \u001b[38;5;28;43mself\u001b[39;49m\u001b[38;5;241;43m.\u001b[39;49m\u001b[43mmodel\u001b[49m\u001b[38;5;241;43m.\u001b[39;49m\u001b[43mset_XY\u001b[49m\u001b[43m(\u001b[49m\u001b[43mX\u001b[49m\u001b[43m,\u001b[49m\u001b[43m \u001b[49m\u001b[43mY\u001b[49m\u001b[43m)\u001b[49m\n",
      "File \u001b[1;32mc:\\Users\\sonia\\anaconda3\\envs\\new_env\\lib\\site-packages\\GPy\\core\\gp.py:249\u001b[0m, in \u001b[0;36mGP.set_XY\u001b[1;34m(self, X, Y)\u001b[0m\n\u001b[0;32m    246\u001b[0m     \u001b[38;5;28;01melse\u001b[39;00m:\n\u001b[0;32m    247\u001b[0m         \u001b[38;5;28mself\u001b[39m\u001b[38;5;241m.\u001b[39mX \u001b[38;5;241m=\u001b[39m ObsAr(X)\n\u001b[1;32m--> 249\u001b[0m \u001b[38;5;28;43mself\u001b[39;49m\u001b[38;5;241;43m.\u001b[39;49m\u001b[43mupdate_model\u001b[49m\u001b[43m(\u001b[49m\u001b[38;5;28;43;01mTrue\u001b[39;49;00m\u001b[43m)\u001b[49m\n",
      "File \u001b[1;32mc:\\Users\\sonia\\anaconda3\\envs\\new_env\\lib\\site-packages\\paramz\\core\\updateable.py:60\u001b[0m, in \u001b[0;36mUpdateable.update_model\u001b[1;34m(self, updates)\u001b[0m\n\u001b[0;32m     58\u001b[0m     s\u001b[38;5;241m.\u001b[39m_update_on \u001b[38;5;241m=\u001b[39m updates\n\u001b[0;32m     59\u001b[0m p\u001b[38;5;241m.\u001b[39mtraverse(turn_updates)\n\u001b[1;32m---> 60\u001b[0m \u001b[38;5;28;43mself\u001b[39;49m\u001b[38;5;241;43m.\u001b[39;49m\u001b[43mtrigger_update\u001b[49m\u001b[43m(\u001b[49m\u001b[43m)\u001b[49m\n",
      "File \u001b[1;32mc:\\Users\\sonia\\anaconda3\\envs\\new_env\\lib\\site-packages\\paramz\\core\\updateable.py:79\u001b[0m, in \u001b[0;36mUpdateable.trigger_update\u001b[1;34m(self, trigger_parent)\u001b[0m\n\u001b[0;32m     76\u001b[0m \u001b[38;5;28;01mif\u001b[39;00m \u001b[38;5;129;01mnot\u001b[39;00m \u001b[38;5;28mself\u001b[39m\u001b[38;5;241m.\u001b[39mupdate_model() \u001b[38;5;129;01mor\u001b[39;00m (\u001b[38;5;28mhasattr\u001b[39m(\u001b[38;5;28mself\u001b[39m, \u001b[38;5;124m\"\u001b[39m\u001b[38;5;124m_in_init_\u001b[39m\u001b[38;5;124m\"\u001b[39m) \u001b[38;5;129;01mand\u001b[39;00m \u001b[38;5;28mself\u001b[39m\u001b[38;5;241m.\u001b[39m_in_init_):\n\u001b[0;32m     77\u001b[0m     \u001b[38;5;66;03m#print \"Warning: updates are off, updating the model will do nothing\"\u001b[39;00m\n\u001b[0;32m     78\u001b[0m     \u001b[38;5;28;01mreturn\u001b[39;00m\n\u001b[1;32m---> 79\u001b[0m \u001b[38;5;28;43mself\u001b[39;49m\u001b[38;5;241;43m.\u001b[39;49m\u001b[43m_trigger_params_changed\u001b[49m\u001b[43m(\u001b[49m\u001b[43mtrigger_parent\u001b[49m\u001b[43m)\u001b[49m\n",
      "File \u001b[1;32mc:\\Users\\sonia\\anaconda3\\envs\\new_env\\lib\\site-packages\\paramz\\core\\parameter_core.py:134\u001b[0m, in \u001b[0;36mOptimizationHandlable._trigger_params_changed\u001b[1;34m(self, trigger_parent)\u001b[0m\n\u001b[0;32m    127\u001b[0m \u001b[38;5;250m\u001b[39m\u001b[38;5;124;03m\"\"\"\u001b[39;00m\n\u001b[0;32m    128\u001b[0m \u001b[38;5;124;03mFirst tell all children to update,\u001b[39;00m\n\u001b[0;32m    129\u001b[0m \u001b[38;5;124;03mthen update yourself.\u001b[39;00m\n\u001b[0;32m    130\u001b[0m \n\u001b[0;32m    131\u001b[0m \u001b[38;5;124;03mIf trigger_parent is True, we will tell the parent, otherwise not.\u001b[39;00m\n\u001b[0;32m    132\u001b[0m \u001b[38;5;124;03m\"\"\"\u001b[39;00m\n\u001b[0;32m    133\u001b[0m [p\u001b[38;5;241m.\u001b[39m_trigger_params_changed(trigger_parent\u001b[38;5;241m=\u001b[39m\u001b[38;5;28;01mFalse\u001b[39;00m) \u001b[38;5;28;01mfor\u001b[39;00m p \u001b[38;5;129;01min\u001b[39;00m \u001b[38;5;28mself\u001b[39m\u001b[38;5;241m.\u001b[39mparameters \u001b[38;5;28;01mif\u001b[39;00m \u001b[38;5;129;01mnot\u001b[39;00m p\u001b[38;5;241m.\u001b[39mis_fixed]\n\u001b[1;32m--> 134\u001b[0m \u001b[38;5;28;43mself\u001b[39;49m\u001b[38;5;241;43m.\u001b[39;49m\u001b[43mnotify_observers\u001b[49m\u001b[43m(\u001b[49m\u001b[38;5;28;43;01mNone\u001b[39;49;00m\u001b[43m,\u001b[49m\u001b[43m \u001b[49m\u001b[38;5;28;43;01mNone\u001b[39;49;00m\u001b[43m \u001b[49m\u001b[38;5;28;43;01mif\u001b[39;49;00m\u001b[43m \u001b[49m\u001b[43mtrigger_parent\u001b[49m\u001b[43m \u001b[49m\u001b[38;5;28;43;01melse\u001b[39;49;00m\u001b[43m \u001b[49m\u001b[38;5;241;43m-\u001b[39;49m\u001b[43mnp\u001b[49m\u001b[38;5;241;43m.\u001b[39;49m\u001b[43minf\u001b[49m\u001b[43m)\u001b[49m\n",
      "File \u001b[1;32mc:\\Users\\sonia\\anaconda3\\envs\\new_env\\lib\\site-packages\\paramz\\core\\observable.py:91\u001b[0m, in \u001b[0;36mObservable.notify_observers\u001b[1;34m(self, which, min_priority)\u001b[0m\n\u001b[0;32m     89\u001b[0m     which \u001b[38;5;241m=\u001b[39m \u001b[38;5;28mself\u001b[39m\n\u001b[0;32m     90\u001b[0m \u001b[38;5;28;01mif\u001b[39;00m min_priority \u001b[38;5;129;01mis\u001b[39;00m \u001b[38;5;28;01mNone\u001b[39;00m:\n\u001b[1;32m---> 91\u001b[0m     [callble(\u001b[38;5;28mself\u001b[39m, which\u001b[38;5;241m=\u001b[39mwhich) \u001b[38;5;28;01mfor\u001b[39;00m _, _, callble \u001b[38;5;129;01min\u001b[39;00m \u001b[38;5;28mself\u001b[39m\u001b[38;5;241m.\u001b[39mobservers]\n\u001b[0;32m     92\u001b[0m \u001b[38;5;28;01melse\u001b[39;00m:\n\u001b[0;32m     93\u001b[0m     \u001b[38;5;28;01mfor\u001b[39;00m p, _, callble \u001b[38;5;129;01min\u001b[39;00m \u001b[38;5;28mself\u001b[39m\u001b[38;5;241m.\u001b[39mobservers:\n",
      "File \u001b[1;32mc:\\Users\\sonia\\anaconda3\\envs\\new_env\\lib\\site-packages\\paramz\\core\\observable.py:91\u001b[0m, in \u001b[0;36m<listcomp>\u001b[1;34m(.0)\u001b[0m\n\u001b[0;32m     89\u001b[0m     which \u001b[38;5;241m=\u001b[39m \u001b[38;5;28mself\u001b[39m\n\u001b[0;32m     90\u001b[0m \u001b[38;5;28;01mif\u001b[39;00m min_priority \u001b[38;5;129;01mis\u001b[39;00m \u001b[38;5;28;01mNone\u001b[39;00m:\n\u001b[1;32m---> 91\u001b[0m     [\u001b[43mcallble\u001b[49m\u001b[43m(\u001b[49m\u001b[38;5;28;43mself\u001b[39;49m\u001b[43m,\u001b[49m\u001b[43m \u001b[49m\u001b[43mwhich\u001b[49m\u001b[38;5;241;43m=\u001b[39;49m\u001b[43mwhich\u001b[49m\u001b[43m)\u001b[49m \u001b[38;5;28;01mfor\u001b[39;00m _, _, callble \u001b[38;5;129;01min\u001b[39;00m \u001b[38;5;28mself\u001b[39m\u001b[38;5;241m.\u001b[39mobservers]\n\u001b[0;32m     92\u001b[0m \u001b[38;5;28;01melse\u001b[39;00m:\n\u001b[0;32m     93\u001b[0m     \u001b[38;5;28;01mfor\u001b[39;00m p, _, callble \u001b[38;5;129;01min\u001b[39;00m \u001b[38;5;28mself\u001b[39m\u001b[38;5;241m.\u001b[39mobservers:\n",
      "File \u001b[1;32mc:\\Users\\sonia\\anaconda3\\envs\\new_env\\lib\\site-packages\\paramz\\core\\parameter_core.py:508\u001b[0m, in \u001b[0;36mParameterizable._parameters_changed_notification\u001b[1;34m(self, me, which)\u001b[0m\n\u001b[0;32m    503\u001b[0m \u001b[38;5;250m\u001b[39m\u001b[38;5;124;03m\"\"\"\u001b[39;00m\n\u001b[0;32m    504\u001b[0m \u001b[38;5;124;03mIn parameterizable we just need to make sure, that the next call to optimizer_array\u001b[39;00m\n\u001b[0;32m    505\u001b[0m \u001b[38;5;124;03mwill update the optimizer_array to the latest parameters\u001b[39;00m\n\u001b[0;32m    506\u001b[0m \u001b[38;5;124;03m\"\"\"\u001b[39;00m\n\u001b[0;32m    507\u001b[0m \u001b[38;5;28mself\u001b[39m\u001b[38;5;241m.\u001b[39m_optimizer_copy_transformed \u001b[38;5;241m=\u001b[39m \u001b[38;5;28;01mFalse\u001b[39;00m \u001b[38;5;66;03m# tells the optimizer array to update on next request\u001b[39;00m\n\u001b[1;32m--> 508\u001b[0m \u001b[38;5;28;43mself\u001b[39;49m\u001b[38;5;241;43m.\u001b[39;49m\u001b[43mparameters_changed\u001b[49m\u001b[43m(\u001b[49m\u001b[43m)\u001b[49m\n",
      "File \u001b[1;32mc:\\Users\\sonia\\anaconda3\\envs\\new_env\\lib\\site-packages\\GPy\\core\\gp.py:278\u001b[0m, in \u001b[0;36mGP.parameters_changed\u001b[1;34m(self)\u001b[0m\n\u001b[0;32m    269\u001b[0m \u001b[38;5;28;01mdef\u001b[39;00m \u001b[38;5;21mparameters_changed\u001b[39m(\u001b[38;5;28mself\u001b[39m):\n\u001b[0;32m    270\u001b[0m \u001b[38;5;250m    \u001b[39m\u001b[38;5;124;03m\"\"\"\u001b[39;00m\n\u001b[0;32m    271\u001b[0m \u001b[38;5;124;03m    Method that is called upon any changes to :class:`~GPy.core.parameterization.param.Param` variables within the model.\u001b[39;00m\n\u001b[0;32m    272\u001b[0m \u001b[38;5;124;03m    In particular in the GP class this method re-performs inference, recalculating the posterior and log marginal likelihood and gradients of the model\u001b[39;00m\n\u001b[1;32m   (...)\u001b[0m\n\u001b[0;32m    276\u001b[0m \u001b[38;5;124;03m        this method yourself, there may be unexpected consequences.\u001b[39;00m\n\u001b[0;32m    277\u001b[0m \u001b[38;5;124;03m    \"\"\"\u001b[39;00m\n\u001b[1;32m--> 278\u001b[0m     \u001b[38;5;28mself\u001b[39m\u001b[38;5;241m.\u001b[39mposterior, \u001b[38;5;28mself\u001b[39m\u001b[38;5;241m.\u001b[39m_log_marginal_likelihood, \u001b[38;5;28mself\u001b[39m\u001b[38;5;241m.\u001b[39mgrad_dict \u001b[38;5;241m=\u001b[39m \u001b[38;5;28;43mself\u001b[39;49m\u001b[38;5;241;43m.\u001b[39;49m\u001b[43minference_method\u001b[49m\u001b[38;5;241;43m.\u001b[39;49m\u001b[43minference\u001b[49m\u001b[43m(\u001b[49m\u001b[38;5;28;43mself\u001b[39;49m\u001b[38;5;241;43m.\u001b[39;49m\u001b[43mkern\u001b[49m\u001b[43m,\u001b[49m\u001b[43m \u001b[49m\u001b[38;5;28;43mself\u001b[39;49m\u001b[38;5;241;43m.\u001b[39;49m\u001b[43mX\u001b[49m\u001b[43m,\u001b[49m\u001b[43m \u001b[49m\u001b[38;5;28;43mself\u001b[39;49m\u001b[38;5;241;43m.\u001b[39;49m\u001b[43mlikelihood\u001b[49m\u001b[43m,\u001b[49m\u001b[43m \u001b[49m\u001b[38;5;28;43mself\u001b[39;49m\u001b[38;5;241;43m.\u001b[39;49m\u001b[43mY_normalized\u001b[49m\u001b[43m,\u001b[49m\u001b[43m \u001b[49m\u001b[38;5;28;43mself\u001b[39;49m\u001b[38;5;241;43m.\u001b[39;49m\u001b[43mmean_function\u001b[49m\u001b[43m,\u001b[49m\u001b[43m \u001b[49m\u001b[38;5;28;43mself\u001b[39;49m\u001b[38;5;241;43m.\u001b[39;49m\u001b[43mY_metadata\u001b[49m\u001b[43m)\u001b[49m\n\u001b[0;32m    279\u001b[0m     \u001b[38;5;28mself\u001b[39m\u001b[38;5;241m.\u001b[39mlikelihood\u001b[38;5;241m.\u001b[39mupdate_gradients(\u001b[38;5;28mself\u001b[39m\u001b[38;5;241m.\u001b[39mgrad_dict[\u001b[38;5;124m'\u001b[39m\u001b[38;5;124mdL_dthetaL\u001b[39m\u001b[38;5;124m'\u001b[39m])\n\u001b[0;32m    280\u001b[0m     \u001b[38;5;28mself\u001b[39m\u001b[38;5;241m.\u001b[39mkern\u001b[38;5;241m.\u001b[39mupdate_gradients_full(\u001b[38;5;28mself\u001b[39m\u001b[38;5;241m.\u001b[39mgrad_dict[\u001b[38;5;124m'\u001b[39m\u001b[38;5;124mdL_dK\u001b[39m\u001b[38;5;124m'\u001b[39m], \u001b[38;5;28mself\u001b[39m\u001b[38;5;241m.\u001b[39mX)\n",
      "File \u001b[1;32mc:\\Users\\sonia\\anaconda3\\envs\\new_env\\lib\\site-packages\\GPy\\inference\\latent_function_inference\\exact_gaussian_inference.py:58\u001b[0m, in \u001b[0;36mExactGaussianInference.inference\u001b[1;34m(self, kern, X, likelihood, Y, mean_function, Y_metadata, K, variance, Z_tilde)\u001b[0m\n\u001b[0;32m     55\u001b[0m Ky \u001b[38;5;241m=\u001b[39m K\u001b[38;5;241m.\u001b[39mcopy()\n\u001b[0;32m     56\u001b[0m diag\u001b[38;5;241m.\u001b[39madd(Ky, variance\u001b[38;5;241m+\u001b[39m\u001b[38;5;241m1e-8\u001b[39m)\n\u001b[1;32m---> 58\u001b[0m Wi, LW, LWi, W_logdet \u001b[38;5;241m=\u001b[39m \u001b[43mpdinv\u001b[49m\u001b[43m(\u001b[49m\u001b[43mKy\u001b[49m\u001b[43m)\u001b[49m\n\u001b[0;32m     60\u001b[0m alpha, _ \u001b[38;5;241m=\u001b[39m dpotrs(LW, YYT_factor, lower\u001b[38;5;241m=\u001b[39m\u001b[38;5;241m1\u001b[39m)\n\u001b[0;32m     62\u001b[0m log_marginal \u001b[38;5;241m=\u001b[39m  \u001b[38;5;241m0.5\u001b[39m\u001b[38;5;241m*\u001b[39m(\u001b[38;5;241m-\u001b[39mY\u001b[38;5;241m.\u001b[39msize \u001b[38;5;241m*\u001b[39m log_2_pi \u001b[38;5;241m-\u001b[39m Y\u001b[38;5;241m.\u001b[39mshape[\u001b[38;5;241m1\u001b[39m] \u001b[38;5;241m*\u001b[39m W_logdet \u001b[38;5;241m-\u001b[39m np\u001b[38;5;241m.\u001b[39msum(alpha \u001b[38;5;241m*\u001b[39m YYT_factor))\n",
      "File \u001b[1;32mc:\\Users\\sonia\\anaconda3\\envs\\new_env\\lib\\site-packages\\GPy\\util\\linalg.py:207\u001b[0m, in \u001b[0;36mpdinv\u001b[1;34m(A, *args)\u001b[0m\n\u001b[0;32m    193\u001b[0m \u001b[38;5;28;01mdef\u001b[39;00m \u001b[38;5;21mpdinv\u001b[39m(A, \u001b[38;5;241m*\u001b[39margs):\n\u001b[0;32m    194\u001b[0m \u001b[38;5;250m    \u001b[39m\u001b[38;5;124;03m\"\"\"\u001b[39;00m\n\u001b[0;32m    195\u001b[0m \u001b[38;5;124;03m    :param A: A DxD pd numpy array\u001b[39;00m\n\u001b[0;32m    196\u001b[0m \n\u001b[1;32m   (...)\u001b[0m\n\u001b[0;32m    205\u001b[0m \n\u001b[0;32m    206\u001b[0m \u001b[38;5;124;03m    \"\"\"\u001b[39;00m\n\u001b[1;32m--> 207\u001b[0m     L \u001b[38;5;241m=\u001b[39m \u001b[43mjitchol\u001b[49m\u001b[43m(\u001b[49m\u001b[43mA\u001b[49m\u001b[43m,\u001b[49m\u001b[43m \u001b[49m\u001b[38;5;241;43m*\u001b[39;49m\u001b[43margs\u001b[49m\u001b[43m)\u001b[49m\n\u001b[0;32m    208\u001b[0m     logdet \u001b[38;5;241m=\u001b[39m \u001b[38;5;241m2.\u001b[39m\u001b[38;5;241m*\u001b[39mnp\u001b[38;5;241m.\u001b[39msum(np\u001b[38;5;241m.\u001b[39mlog(np\u001b[38;5;241m.\u001b[39mdiag(L)))\n\u001b[0;32m    209\u001b[0m     Li \u001b[38;5;241m=\u001b[39m dtrtri(L)\n",
      "File \u001b[1;32mc:\\Users\\sonia\\anaconda3\\envs\\new_env\\lib\\site-packages\\GPy\\util\\linalg.py:75\u001b[0m, in \u001b[0;36mjitchol\u001b[1;34m(A, maxtries)\u001b[0m\n\u001b[0;32m     73\u001b[0m         \u001b[38;5;28;01mfinally\u001b[39;00m:\n\u001b[0;32m     74\u001b[0m             num_tries \u001b[38;5;241m+\u001b[39m\u001b[38;5;241m=\u001b[39m \u001b[38;5;241m1\u001b[39m\n\u001b[1;32m---> 75\u001b[0m     \u001b[38;5;28;01mraise\u001b[39;00m linalg\u001b[38;5;241m.\u001b[39mLinAlgError(\u001b[38;5;124m\"\u001b[39m\u001b[38;5;124mnot positive definite, even with jitter.\u001b[39m\u001b[38;5;124m\"\u001b[39m)\n\u001b[0;32m     76\u001b[0m \u001b[38;5;28;01mimport\u001b[39;00m \u001b[38;5;21;01mtraceback\u001b[39;00m\n\u001b[0;32m     77\u001b[0m \u001b[38;5;28;01mtry\u001b[39;00m: \u001b[38;5;28;01mraise\u001b[39;00m\n",
      "\u001b[1;31mLinAlgError\u001b[0m: not positive definite, even with jitter."
     ]
    }
   ],
   "source": [
    "# Import necessary libraries\n",
    "import matplotlib.pyplot as plt\n",
    "import numpy as np\n",
    "\n",
    "# 1. Run simulation without barriers\n",
    "print(\"\\nRunning simulation without barriers...\")\n",
    "sim_no_barrier = simulation(**SIM_PARAMS, obstacle_coords=[])\n",
    "before_map_no_barrier, after_map_no_barrier, before_erosion_no_barrier, after_erosion_no_barrier = sim_no_barrier.run_sim(num_timesteps=100)\n",
    "\n",
    "print(f\"Initial erosion (no barriers): {before_erosion_no_barrier}\")\n",
    "print(f\"Final erosion (no barriers): {after_erosion_no_barrier}\")\n",
    "print(f\"Change in erosion (no barriers): {after_erosion_no_barrier - before_erosion_no_barrier}\\n\")\n",
    "\n",
    "# 2. Run simulation with non-optimized barriers\n",
    "print(\"\\nRunning simulation with non-optimized barriers...\")\n",
    "sim_non_optimized = simulation(**SIM_PARAMS, obstacle_coords=OBSTACLE_COORDS)\n",
    "before_map_non_optimized, after_map_non_optimized, before_erosion_non_optimized, after_erosion_non_optimized = sim_non_optimized.run_sim(num_timesteps=100)\n",
    "\n",
    "print(f\"Initial erosion (non-optimized barriers): {before_erosion_non_optimized}\")\n",
    "print(f\"Final erosion (non-optimized barriers): {after_erosion_non_optimized}\")\n",
    "print(f\"Change in erosion (non-optimized barriers): {after_erosion_non_optimized - before_erosion_non_optimized}\\n\")\n",
    "\n",
    "# 3. Optimize barrier placement\n",
    "print(\"\\nOptimizing barrier placement...\")\n",
    "\n",
    "def run_optimization(num_timesteps=100, n_samples=10, n_iterations=20):\n",
    "    # Initialize emulator with custom kernel parameters\n",
    "    emulator = Emulator()\n",
    "\n",
    "    # Initialize optimization manager\n",
    "    opt_manager = OptimizationManager(emulator=emulator)\n",
    "    \n",
    "    # Sample initial parameter space\n",
    "    param_samples = opt_manager.sample_parameters(n_samples)\n",
    "    \n",
    "    # Run initial simulations\n",
    "    outcomes = []\n",
    "    for params in param_samples:\n",
    "        outcomes.append(opt_manager.wrapped_run_sim(params))\n",
    "    \n",
    "    # Convert results to numpy arrays\n",
    "    X = np.array(param_samples)\n",
    "    Y = np.array(outcomes).reshape(-1, 1)\n",
    "    \n",
    "    # Run Bayesian optimization\n",
    "    loop_state = opt_manager.run_optimization(X, Y, n_iterations=n_iterations)\n",
    "    \n",
    "    # Extract the best parameters\n",
    "    best_parameters = loop_state.X[-1]\n",
    "    return [(best_parameters[i], best_parameters[len(OBSTACLE_COORDS) + i]) for i in range(len(OBSTACLE_COORDS))]\n",
    "\n",
    "optimized_coords = run_optimization()\n",
    "print(f\"Optimized barrier coordinates: {optimized_coords}\")\n",
    "\n",
    "# 4. Run simulation with optimized barriers\n",
    "print(\"\\nRunning simulation with optimized barriers...\")\n",
    "sim_optimized = simulation(**SIM_PARAMS, obstacle_coords=optimized_coords)\n",
    "before_map_optimized, after_map_optimized, before_erosion_optimized, after_erosion_optimized = sim_optimized.run_sim(num_timesteps=100)\n",
    "\n",
    "print(f\"Initial erosion (optimized barriers): {before_erosion_optimized}\")\n",
    "print(f\"Final erosion (optimized barriers): {after_erosion_optimized}\")\n",
    "print(f\"Change in erosion (optimized barriers): {after_erosion_optimized - before_erosion_optimized}\\n\")\n",
    "\n",
    "# 5. Visualize results\n",
    "plt.figure(figsize=(20, 10))\n",
    "\n",
    "# Without barriers\n",
    "plt.subplot(2, 3, 1)\n",
    "plot_erosion_heatmap(before_map_no_barrier, after_map_no_barrier, \"Without Barriers\")\n",
    "plt.title(\"Erosion Without Barriers\")\n",
    "\n",
    "plt.subplot(2, 3, 4)\n",
    "sim_no_barrier.place_obstacles()\n",
    "plt.imshow(sim_no_barrier.obstacle_map, cmap='gray')\n",
    "plt.title(\"Barrier Placement (None)\")\n",
    "\n",
    "# Non-optimized barriers\n",
    "plt.subplot(2, 3, 2)\n",
    "plot_erosion_heatmap(before_map_non_optimized, after_map_non_optimized, \"Non-Optimized Barriers\")\n",
    "plt.title(\"Erosion With Non-Optimized Barriers\")\n",
    "\n",
    "plt.subplot(2, 3, 5)\n",
    "sim_non_optimized.place_obstacles()\n",
    "plt.imshow(sim_non_optimized.obstacle_map, cmap='gray')\n",
    "plt.title(\"Barrier Placement (Non-Optimized)\")\n",
    "\n",
    "# Optimized barriers\n",
    "plt.subplot(2, 3, 3)\n",
    "plot_erosion_heatmap(before_map_optimized, after_map_optimized, \"Optimized Barriers\")\n",
    "plt.title(\"Erosion With Optimized Barriers\")\n",
    "\n",
    "plt.subplot(2, 3, 6)\n",
    "sim_optimized.place_obstacles()\n",
    "plt.imshow(sim_optimized.obstacle_map, cmap='gray')\n",
    "plt.title(\"Barrier Placement (Optimized)\")\n",
    "\n",
    "plt.tight_layout()\n",
    "plt.show()\n",
    "\n",
    "# Logging erosion progression\n",
    "print(\"\\nErosion Progression Summary:\")\n",
    "print(f\"Total Erosion Without Barriers: {before_erosion_no_barrier} -> {after_erosion_no_barrier}\")\n",
    "print(f\"Total Erosion With Non-Optimized Barriers: {before_erosion_non_optimized} -> {after_erosion_non_optimized}\")\n",
    "print(f\"Total Erosion With Optimized Barriers: {before_erosion_optimized} -> {after_erosion_optimized}\")"
   ]
  }
 ],
 "metadata": {
  "kernelspec": {
   "display_name": "new_env",
   "language": "python",
   "name": "python3"
  },
  "language_info": {
   "codemirror_mode": {
    "name": "ipython",
    "version": 3
   },
   "file_extension": ".py",
   "mimetype": "text/x-python",
   "name": "python",
   "nbconvert_exporter": "python",
   "pygments_lexer": "ipython3",
   "version": "3.10.15"
  }
 },
 "nbformat": 4,
 "nbformat_minor": 2
}
