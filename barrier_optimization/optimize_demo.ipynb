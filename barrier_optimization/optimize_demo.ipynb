{
 "cells": [
  {
   "cell_type": "code",
   "execution_count": 1,
   "metadata": {},
   "outputs": [],
   "source": [
    "import sys\n",
    "import os\n",
    "\n",
    "parent_dir = os.path.abspath(os.path.join(os.getcwd(), '..'))\n",
    "sys.path.append(parent_dir)"
   ]
  },
  {
   "cell_type": "code",
   "execution_count": 2,
   "metadata": {},
   "outputs": [],
   "source": [
    "import matplotlib.pyplot as plt\n",
    "import numpy as np\n",
    "from simulation import simulation\n",
    "from optimization import OptimizationManager\n",
    "from emulation import Emulator\n",
    "from config import (\n",
    "    WAVE_FREQ, WAVE_SPEED, WAVE_DECAY, WAVE_CUTOFF, WAVE_RETREAT_COEFF, WAVE_HEIGHT,\n",
    "    SAND_PULL, GROUND_PULL, WATER_DECAY, WAVE_VOL, WAVE_AMPLITUDE, WAVE_SPREAD,\n",
    "    DIM_MAP, OBSTACLE_COORDS\n",
    ")"
   ]
  },
  {
   "cell_type": "markdown",
   "metadata": {},
   "source": [
    "First, we set up the simulation."
   ]
  },
  {
   "cell_type": "code",
   "execution_count": 3,
   "metadata": {},
   "outputs": [],
   "source": [
    "# Sim parameters\n",
    "SIM_PARAMS = {\n",
    "    \"wave_freq\": WAVE_FREQ,\n",
    "    \"wave_speed\": WAVE_SPEED,\n",
    "    \"wave_decay\": WAVE_DECAY,\n",
    "    \"wave_cutoff\": WAVE_CUTOFF,\n",
    "    \"wave_retreat_coeff\": WAVE_RETREAT_COEFF,\n",
    "    \"wave_height\": WAVE_HEIGHT,\n",
    "    \"sand_pull\": SAND_PULL,\n",
    "    \"ground_pull\": GROUND_PULL,\n",
    "    \"water_decay\": WATER_DECAY,\n",
    "    \"wave_vol\": WAVE_VOL,\n",
    "    \"wave_amplitude\": WAVE_AMPLITUDE,\n",
    "    \"wave_spread\": WAVE_SPREAD,\n",
    "    \"dim_map\": DIM_MAP\n",
    "}"
   ]
  },
  {
   "cell_type": "markdown",
   "metadata": {},
   "source": [
    "Some helper functions to visualize the results of the optimized placement of barriers"
   ]
  },
  {
   "cell_type": "code",
   "execution_count": 4,
   "metadata": {},
   "outputs": [],
   "source": [
    "# Helper function for erosion heatmap\n",
    "def plot_erosion_heatmap(before_map, after_map, title, cmap='Reds'):\n",
    "    sand_before = before_map[:, :, 1]  # Sand layer before erosion\n",
    "    sand_after = after_map[:, :, 1]    # Sand layer after erosion\n",
    "    erosion_diff = sand_before - sand_after  # Difference in sand levels\n",
    "\n",
    "    plt.imshow(erosion_diff, cmap=cmap)\n",
    "    plt.colorbar(label=\"Erosion Intensity\")\n",
    "    plt.title(title)\n",
    "    plt.xlabel(\"X Coordinate\")\n",
    "    plt.ylabel(\"Y Coordinate\")\n",
    "\n",
    "# Helper function for numerical erosion values\n",
    "def calculate_total_erosion(before_map, after_map):\n",
    "    sand_before = before_map[:, :, 1]\n",
    "    sand_after = after_map[:, :, 1]\n",
    "    total_erosion = np.sum(sand_before - sand_after)\n",
    "    return total_erosion"
   ]
  },
  {
   "cell_type": "markdown",
   "metadata": {},
   "source": [
    "Then we run the simulation first without any barriers, then with randomly placed barriers, and eventually we run an optimization using Bayesian Opt. to obtain optimal coordinates of the barriers and use that to generate final simulation results."
   ]
  },
  {
   "cell_type": "code",
   "execution_count": null,
   "metadata": {},
   "outputs": [
    {
     "name": "stdout",
     "output_type": "stream",
     "text": [
      "\n",
      "Running simulation without barriers...\n"
     ]
    },
    {
     "data": {
      "application/vnd.jupyter.widget-view+json": {
       "model_id": "562494f94bc340da89891b7f5f8a270a",
       "version_major": 2,
       "version_minor": 0
      },
      "text/plain": [
       "  0%|          | 0/99 [00:00<?, ?it/s]"
      ]
     },
     "metadata": {},
     "output_type": "display_data"
    },
    {
     "name": "stdout",
     "output_type": "stream",
     "text": [
      "Initial erosion (no barriers): 305900\n",
      "Final erosion (no barriers): 305900\n",
      "Change in erosion (no barriers): 0\n",
      "\n",
      "\n",
      "Running simulation with non-optimized barriers...\n"
     ]
    },
    {
     "data": {
      "application/vnd.jupyter.widget-view+json": {
       "model_id": "d6ed80bcf19a49c880321bcdd1751dba",
       "version_major": 2,
       "version_minor": 0
      },
      "text/plain": [
       "  0%|          | 0/99 [00:00<?, ?it/s]"
      ]
     },
     "metadata": {},
     "output_type": "display_data"
    },
    {
     "name": "stdout",
     "output_type": "stream",
     "text": [
      "Initial erosion (non-optimized barriers): 243100\n",
      "Final erosion (non-optimized barriers): 243100\n",
      "Change in erosion (non-optimized barriers): 0\n",
      "\n",
      "\n",
      "Optimizing barrier placement...\n"
     ]
    },
    {
     "data": {
      "application/vnd.jupyter.widget-view+json": {
       "model_id": "652da68506924e7ab4910b180c4fd388",
       "version_major": 2,
       "version_minor": 0
      },
      "text/plain": [
       "  0%|          | 0/99 [00:00<?, ?it/s]"
      ]
     },
     "metadata": {},
     "output_type": "display_data"
    },
    {
     "data": {
      "application/vnd.jupyter.widget-view+json": {
       "model_id": "96b77036bd4b4347aeeda55d95b2fa22",
       "version_major": 2,
       "version_minor": 0
      },
      "text/plain": [
       "  0%|          | 0/99 [00:00<?, ?it/s]"
      ]
     },
     "metadata": {},
     "output_type": "display_data"
    },
    {
     "data": {
      "application/vnd.jupyter.widget-view+json": {
       "model_id": "d8948b3cbfe64571adfd6c677366a091",
       "version_major": 2,
       "version_minor": 0
      },
      "text/plain": [
       "  0%|          | 0/99 [00:00<?, ?it/s]"
      ]
     },
     "metadata": {},
     "output_type": "display_data"
    },
    {
     "data": {
      "application/vnd.jupyter.widget-view+json": {
       "model_id": "b7ade88af5cc4ae198c8a17213eed832",
       "version_major": 2,
       "version_minor": 0
      },
      "text/plain": [
       "  0%|          | 0/99 [00:00<?, ?it/s]"
      ]
     },
     "metadata": {},
     "output_type": "display_data"
    },
    {
     "data": {
      "application/vnd.jupyter.widget-view+json": {
       "model_id": "e7ab8e4e80e54c8891154bba1ff8b168",
       "version_major": 2,
       "version_minor": 0
      },
      "text/plain": [
       "  0%|          | 0/99 [00:00<?, ?it/s]"
      ]
     },
     "metadata": {},
     "output_type": "display_data"
    },
    {
     "data": {
      "application/vnd.jupyter.widget-view+json": {
       "model_id": "434336ad608f429a813c44e5f47be4b1",
       "version_major": 2,
       "version_minor": 0
      },
      "text/plain": [
       "  0%|          | 0/99 [00:00<?, ?it/s]"
      ]
     },
     "metadata": {},
     "output_type": "display_data"
    },
    {
     "data": {
      "application/vnd.jupyter.widget-view+json": {
       "model_id": "0282ff805a174682ac2e4b22a9bcd13c",
       "version_major": 2,
       "version_minor": 0
      },
      "text/plain": [
       "  0%|          | 0/99 [00:00<?, ?it/s]"
      ]
     },
     "metadata": {},
     "output_type": "display_data"
    },
    {
     "data": {
      "application/vnd.jupyter.widget-view+json": {
       "model_id": "df57c11af17246b6a30e9e7514ae9164",
       "version_major": 2,
       "version_minor": 0
      },
      "text/plain": [
       "  0%|          | 0/99 [00:00<?, ?it/s]"
      ]
     },
     "metadata": {},
     "output_type": "display_data"
    },
    {
     "data": {
      "application/vnd.jupyter.widget-view+json": {
       "model_id": "78fa553e325f435796f2ce15466be41a",
       "version_major": 2,
       "version_minor": 0
      },
      "text/plain": [
       "  0%|          | 0/99 [00:00<?, ?it/s]"
      ]
     },
     "metadata": {},
     "output_type": "display_data"
    },
    {
     "data": {
      "application/vnd.jupyter.widget-view+json": {
       "model_id": "4e5d4ee6669f47e28086d322dfee526e",
       "version_major": 2,
       "version_minor": 0
      },
      "text/plain": [
       "  0%|          | 0/99 [00:00<?, ?it/s]"
      ]
     },
     "metadata": {},
     "output_type": "display_data"
    },
    {
     "data": {
      "application/vnd.jupyter.widget-view+json": {
       "model_id": "71960da0bef04dd5ac6f3527c8c8bdd8",
       "version_major": 2,
       "version_minor": 0
      },
      "text/plain": [
       "  0%|          | 0/99 [00:00<?, ?it/s]"
      ]
     },
     "metadata": {},
     "output_type": "display_data"
    },
    {
     "data": {
      "application/vnd.jupyter.widget-view+json": {
       "model_id": "fd382aa106af4cc3be4ef47a29bfd800",
       "version_major": 2,
       "version_minor": 0
      },
      "text/plain": [
       "  0%|          | 0/99 [00:00<?, ?it/s]"
      ]
     },
     "metadata": {},
     "output_type": "display_data"
    },
    {
     "data": {
      "application/vnd.jupyter.widget-view+json": {
       "model_id": "05ae9953cf814dfbbbadde0e9b93bee6",
       "version_major": 2,
       "version_minor": 0
      },
      "text/plain": [
       "  0%|          | 0/99 [00:00<?, ?it/s]"
      ]
     },
     "metadata": {},
     "output_type": "display_data"
    },
    {
     "data": {
      "application/vnd.jupyter.widget-view+json": {
       "model_id": "74f2ec0e96194462a9aa644b2853cc16",
       "version_major": 2,
       "version_minor": 0
      },
      "text/plain": [
       "  0%|          | 0/99 [00:00<?, ?it/s]"
      ]
     },
     "metadata": {},
     "output_type": "display_data"
    },
    {
     "data": {
      "application/vnd.jupyter.widget-view+json": {
       "model_id": "764c515dce55482abc57e4d9acd070ff",
       "version_major": 2,
       "version_minor": 0
      },
      "text/plain": [
       "  0%|          | 0/99 [00:00<?, ?it/s]"
      ]
     },
     "metadata": {},
     "output_type": "display_data"
    },
    {
     "data": {
      "application/vnd.jupyter.widget-view+json": {
       "model_id": "2b62c8e629c644e59ee573362411c40b",
       "version_major": 2,
       "version_minor": 0
      },
      "text/plain": [
       "  0%|          | 0/99 [00:00<?, ?it/s]"
      ]
     },
     "metadata": {},
     "output_type": "display_data"
    },
    {
     "data": {
      "application/vnd.jupyter.widget-view+json": {
       "model_id": "e3369d12707345eeb549f6d50faf9125",
       "version_major": 2,
       "version_minor": 0
      },
      "text/plain": [
       "  0%|          | 0/99 [00:00<?, ?it/s]"
      ]
     },
     "metadata": {},
     "output_type": "display_data"
    },
    {
     "data": {
      "application/vnd.jupyter.widget-view+json": {
       "model_id": "2f8f433966064b689b0315aea56ed194",
       "version_major": 2,
       "version_minor": 0
      },
      "text/plain": [
       "  0%|          | 0/99 [00:00<?, ?it/s]"
      ]
     },
     "metadata": {},
     "output_type": "display_data"
    },
    {
     "data": {
      "application/vnd.jupyter.widget-view+json": {
       "model_id": "4d5a09ab959343c99ffc6ae59ed431ff",
       "version_major": 2,
       "version_minor": 0
      },
      "text/plain": [
       "  0%|          | 0/99 [00:00<?, ?it/s]"
      ]
     },
     "metadata": {},
     "output_type": "display_data"
    },
    {
     "data": {
      "application/vnd.jupyter.widget-view+json": {
       "model_id": "687f5c2d501b4c5e85b51b140f0b65f6",
       "version_major": 2,
       "version_minor": 0
      },
      "text/plain": [
       "  0%|          | 0/99 [00:00<?, ?it/s]"
      ]
     },
     "metadata": {},
     "output_type": "display_data"
    },
    {
     "name": "stderr",
     "output_type": "stream",
     "text": [
      " c:\\Users\\sonia\\Documents\\University\\Cambridge\\L48\\Group Project\\ML_PW_Proj\\barrier_optimization\\optimization.py:74: RuntimeWarning:invalid value encountered in divide\n"
     ]
    },
    {
     "data": {
      "application/vnd.jupyter.widget-view+json": {
       "model_id": "880044ea96404ddd9707284e4851afef",
       "version_major": 2,
       "version_minor": 0
      },
      "text/plain": [
       "  0%|          | 0/99 [00:00<?, ?it/s]"
      ]
     },
     "metadata": {},
     "output_type": "display_data"
    },
    {
     "data": {
      "application/vnd.jupyter.widget-view+json": {
       "model_id": "0b656c2cc2024bb6ae97a350f749f59f",
       "version_major": 2,
       "version_minor": 0
      },
      "text/plain": [
       "  0%|          | 0/99 [00:00<?, ?it/s]"
      ]
     },
     "metadata": {},
     "output_type": "display_data"
    },
    {
     "data": {
      "application/vnd.jupyter.widget-view+json": {
       "model_id": "02fbd6e7830c40e4892f1819bdc401b4",
       "version_major": 2,
       "version_minor": 0
      },
      "text/plain": [
       "  0%|          | 0/99 [00:00<?, ?it/s]"
      ]
     },
     "metadata": {},
     "output_type": "display_data"
    },
    {
     "data": {
      "application/vnd.jupyter.widget-view+json": {
       "model_id": "117c76157ce14ad7978ea7591d7d8b6e",
       "version_major": 2,
       "version_minor": 0
      },
      "text/plain": [
       "  0%|          | 0/99 [00:00<?, ?it/s]"
      ]
     },
     "metadata": {},
     "output_type": "display_data"
    },
    {
     "data": {
      "application/vnd.jupyter.widget-view+json": {
       "model_id": "b22f25b50557440dba67bff13146ff4d",
       "version_major": 2,
       "version_minor": 0
      },
      "text/plain": [
       "  0%|          | 0/99 [00:00<?, ?it/s]"
      ]
     },
     "metadata": {},
     "output_type": "display_data"
    },
    {
     "data": {
      "application/vnd.jupyter.widget-view+json": {
       "model_id": "d93bf0e008e541899cddaf27e365feb3",
       "version_major": 2,
       "version_minor": 0
      },
      "text/plain": [
       "  0%|          | 0/99 [00:00<?, ?it/s]"
      ]
     },
     "metadata": {},
     "output_type": "display_data"
    },
    {
     "data": {
      "application/vnd.jupyter.widget-view+json": {
       "model_id": "b8fcc77fc2e04cb39f38411fbde8cb42",
       "version_major": 2,
       "version_minor": 0
      },
      "text/plain": [
       "  0%|          | 0/99 [00:00<?, ?it/s]"
      ]
     },
     "metadata": {},
     "output_type": "display_data"
    },
    {
     "data": {
      "application/vnd.jupyter.widget-view+json": {
       "model_id": "777dcd02215c47988a7ceefec3c91bef",
       "version_major": 2,
       "version_minor": 0
      },
      "text/plain": [
       "  0%|          | 0/99 [00:00<?, ?it/s]"
      ]
     },
     "metadata": {},
     "output_type": "display_data"
    },
    {
     "data": {
      "application/vnd.jupyter.widget-view+json": {
       "model_id": "6180661007a04bfc9cc68abc9d198495",
       "version_major": 2,
       "version_minor": 0
      },
      "text/plain": [
       "  0%|          | 0/99 [00:00<?, ?it/s]"
      ]
     },
     "metadata": {},
     "output_type": "display_data"
    },
    {
     "data": {
      "application/vnd.jupyter.widget-view+json": {
       "model_id": "94f0436bd4b54a39bc24b1cb988c2d64",
       "version_major": 2,
       "version_minor": 0
      },
      "text/plain": [
       "  0%|          | 0/99 [00:00<?, ?it/s]"
      ]
     },
     "metadata": {},
     "output_type": "display_data"
    },
    {
     "data": {
      "application/vnd.jupyter.widget-view+json": {
       "model_id": "4fa792d815414b71898f19804f994651",
       "version_major": 2,
       "version_minor": 0
      },
      "text/plain": [
       "  0%|          | 0/99 [00:00<?, ?it/s]"
      ]
     },
     "metadata": {},
     "output_type": "display_data"
    },
    {
     "data": {
      "application/vnd.jupyter.widget-view+json": {
       "model_id": "746a5a33ae4746749c252b6d75952f6c",
       "version_major": 2,
       "version_minor": 0
      },
      "text/plain": [
       "  0%|          | 0/99 [00:00<?, ?it/s]"
      ]
     },
     "metadata": {},
     "output_type": "display_data"
    },
    {
     "data": {
      "application/vnd.jupyter.widget-view+json": {
       "model_id": "448602bae6d042ef9e0105e6e12bba83",
       "version_major": 2,
       "version_minor": 0
      },
      "text/plain": [
       "  0%|          | 0/99 [00:00<?, ?it/s]"
      ]
     },
     "metadata": {},
     "output_type": "display_data"
    },
    {
     "data": {
      "application/vnd.jupyter.widget-view+json": {
       "model_id": "5b164167361e4410916effe3678f81f0",
       "version_major": 2,
       "version_minor": 0
      },
      "text/plain": [
       "  0%|          | 0/99 [00:00<?, ?it/s]"
      ]
     },
     "metadata": {},
     "output_type": "display_data"
    },
    {
     "data": {
      "application/vnd.jupyter.widget-view+json": {
       "model_id": "f77e4fba57a54561bb98af8c6e805b7d",
       "version_major": 2,
       "version_minor": 0
      },
      "text/plain": [
       "  0%|          | 0/99 [00:00<?, ?it/s]"
      ]
     },
     "metadata": {},
     "output_type": "display_data"
    },
    {
     "data": {
      "application/vnd.jupyter.widget-view+json": {
       "model_id": "6c80d670a9654705856fd18e23259883",
       "version_major": 2,
       "version_minor": 0
      },
      "text/plain": [
       "  0%|          | 0/99 [00:00<?, ?it/s]"
      ]
     },
     "metadata": {},
     "output_type": "display_data"
    },
    {
     "data": {
      "application/vnd.jupyter.widget-view+json": {
       "model_id": "51c1a08bd8b84bf18708f88fa9043bf7",
       "version_major": 2,
       "version_minor": 0
      },
      "text/plain": [
       "  0%|          | 0/99 [00:00<?, ?it/s]"
      ]
     },
     "metadata": {},
     "output_type": "display_data"
    },
    {
     "data": {
      "application/vnd.jupyter.widget-view+json": {
       "model_id": "e6713bb87c9c4e7c823a7383e1c78cb3",
       "version_major": 2,
       "version_minor": 0
      },
      "text/plain": [
       "  0%|          | 0/99 [00:00<?, ?it/s]"
      ]
     },
     "metadata": {},
     "output_type": "display_data"
    },
    {
     "data": {
      "application/vnd.jupyter.widget-view+json": {
       "model_id": "366c0f41ad9e4de29192a182637fd390",
       "version_major": 2,
       "version_minor": 0
      },
      "text/plain": [
       "  0%|          | 0/99 [00:00<?, ?it/s]"
      ]
     },
     "metadata": {},
     "output_type": "display_data"
    },
    {
     "data": {
      "application/vnd.jupyter.widget-view+json": {
       "model_id": "aac792bf840349b9883e7796ce6ea531",
       "version_major": 2,
       "version_minor": 0
      },
      "text/plain": [
       "  0%|          | 0/99 [00:00<?, ?it/s]"
      ]
     },
     "metadata": {},
     "output_type": "display_data"
    },
    {
     "name": "stdout",
     "output_type": "stream",
     "text": [
      "Optimized barrier coordinates: [(9.262746146064815, 80.80450320030602)]\n",
      "\n",
      "Running simulation with optimized barriers...\n"
     ]
    },
    {
     "data": {
      "application/vnd.jupyter.widget-view+json": {
       "model_id": "6f1487f77e8a4ae1a032b73f14585db0",
       "version_major": 2,
       "version_minor": 0
      },
      "text/plain": [
       "  0%|          | 0/99 [00:00<?, ?it/s]"
      ]
     },
     "metadata": {},
     "output_type": "display_data"
    },
    {
     "name": "stdout",
     "output_type": "stream",
     "text": [
      "Initial erosion (optimized barriers): 253100\n",
      "Final erosion (optimized barriers): 253100\n",
      "Change in erosion (optimized barriers): 0\n",
      "\n"
     ]
    },
    {
     "data": {
      "image/png": "[encoded data removed]",
      "text/plain": [
       "<Figure size 2000x1000 with 9 Axes>"
      ]
     },
     "metadata": {},
     "output_type": "display_data"
    },
    {
     "name": "stdout",
     "output_type": "stream",
     "text": [
      "\n",
      "Erosion Progression Summary:\n",
      "Total Erosion Without Barriers: 305900 -> 305900\n",
      "Total Erosion With Non-Optimized Barriers: 243100 -> 243100\n",
      "Total Erosion With Optimized Barriers: 253100 -> 253100\n"
     ]
    }
   ],
   "source": [
    "# Import necessary libraries\n",
    "import matplotlib.pyplot as plt\n",
    "import numpy as np\n",
    "\n",
    "# 1. Run simulation without barriers\n",
    "print(\"\\nRunning simulation without barriers...\")\n",
    "sim_no_barrier = simulation(**SIM_PARAMS, obstacle_coords=[])\n",
    "before_map_no_barrier, after_map_no_barrier, before_erosion_no_barrier, after_erosion_no_barrier = sim_no_barrier.run_sim(num_timesteps=100)\n",
    "\n",
    "print(f\"Change in erosion (no barriers): {after_erosion_no_barrier - before_erosion_no_barrier}\\n\")\n",
    "\n",
    "# 2. Run simulation with non-optimized barriers\n",
    "print(\"\\nRunning simulation with non-optimized barriers...\")\n",
    "sim_non_optimized = simulation(**SIM_PARAMS, obstacle_coords=OBSTACLE_COORDS)\n",
    "before_map_non_optimized, after_map_non_optimized, before_erosion_non_optimized, after_erosion_non_optimized = sim_non_optimized.run_sim(num_timesteps=100)\n",
    "\n",
    "print(f\"Change in erosion (non-optimized barriers): {after_erosion_non_optimized - before_erosion_non_optimized}\\n\")\n",
    "\n",
    "# 3. Optimize barrier placement\n",
    "print(\"\\nOptimizing barrier placement...\")\n",
    "\n",
    "def run_optimization(num_timesteps=100, n_samples=20, n_iterations=20):\n",
    "    emulator = Emulator()\n",
    "    opt_manager = OptimizationManager(emulator=emulator)\n",
    "    param_samples = opt_manager.sample_parameters(n_samples)\n",
    "    \n",
    "    outcomes = []\n",
    "    for params in param_samples:\n",
    "        outcomes.append(opt_manager.wrapped_run_sim(params))\n",
    "    \n",
    "    # Convert results to numpy arrays\n",
    "    X = np.array(param_samples)\n",
    "    Y = np.array(outcomes).reshape(-1, 1)\n",
    "    \n",
    "    # Run Bayesian optimization\n",
    "    loop_state = opt_manager.run_optimization(X, Y, n_iterations=n_iterations)\n",
    "    \n",
    "    # Extract the best parameters\n",
    "    best_parameters = loop_state.X[-1]\n",
    "    return [(best_parameters[i], best_parameters[len(OBSTACLE_COORDS) + i]) for i in range(len(OBSTACLE_COORDS))]\n",
    "\n",
    "optimized_coords = run_optimization()\n",
    "print(f\"Optimized barrier coordinates: {optimized_coords}\")\n",
    "\n",
    "# 4. Run simulation with optimized barriers\n",
    "print(\"\\nRunning simulation with optimized barriers...\")\n",
    "sim_optimized = simulation(**SIM_PARAMS, obstacle_coords=optimized_coords)\n",
    "before_map_optimized, after_map_optimized, before_erosion_optimized, after_erosion_optimized = sim_optimized.run_sim(num_timesteps=100)\n",
    "\n",
    "print(f\"Change in erosion (optimized barriers): {after_erosion_optimized - before_erosion_optimized}\\n\")\n",
    "\n",
    "# 5. Visualize results\n",
    "plt.figure(figsize=(20, 10))\n",
    "\n",
    "# Without barriers\n",
    "plt.subplot(2, 3, 1)\n",
    "plot_erosion_heatmap(before_map_no_barrier, after_map_no_barrier, \"Without Barriers\")\n",
    "plt.title(\"Erosion Without Barriers\")\n",
    "\n",
    "plt.subplot(2, 3, 4)\n",
    "sim_no_barrier.place_obstacles()\n",
    "plt.imshow(sim_no_barrier.obstacle_map, cmap='gray')\n",
    "plt.title(\"Barrier Placement (None)\")\n",
    "\n",
    "# Non-optimized barriers\n",
    "plt.subplot(2, 3, 2)\n",
    "plot_erosion_heatmap(before_map_non_optimized, after_map_non_optimized, \"Non-Optimized Barriers\")\n",
    "plt.title(\"Erosion With Non-Optimized Barriers\")\n",
    "\n",
    "plt.subplot(2, 3, 5)\n",
    "sim_non_optimized.place_obstacles()\n",
    "plt.imshow(sim_non_optimized.obstacle_map, cmap='gray')\n",
    "plt.title(\"Barrier Placement (Non-Optimized)\")\n",
    "\n",
    "# Optimized barriers\n",
    "plt.subplot(2, 3, 3)\n",
    "plot_erosion_heatmap(before_map_optimized, after_map_optimized, \"Optimized Barriers\")\n",
    "plt.title(\"Erosion With Optimized Barriers\")\n",
    "\n",
    "plt.subplot(2, 3, 6)\n",
    "sim_optimized.place_obstacles()\n",
    "plt.imshow(sim_optimized.obstacle_map, cmap='gray')\n",
    "plt.title(\"Barrier Placement (Optimized)\")\n",
    "\n",
    "plt.tight_layout()\n",
    "plt.show()"
   ]
  },
  {
   "cell_type": "markdown",
   "metadata": {},
   "source": [
    "Now that we have the optimal barrier coords, let's run a simulation in 3D"
   ]
  },
  {
   "cell_type": "code",
   "execution_count": null,
   "metadata": {},
   "outputs": [],
   "source": [
    "from simulation3D import Simulation3D\n",
    "\n",
    "sim_3d = Simulation3D(**SIM_PARAMS, obstacle_coords=[(28, 19)])\n",
    "\n",
    "sim_3d._pre_sim_run()\n",
    "sim_3d.propagate_forces()\n",
    "\n",
    "sim_3d.plot_3d()\n",
    "sim_3d.plot_3d_downsamp(red_dim=20)"
   ]
  }
 ],
 "metadata": {
  "kernelspec": {
   "display_name": "new_env",
   "language": "python",
   "name": "python3"
  },
  "language_info": {
   "codemirror_mode": {
    "name": "ipython",
    "version": 3
   },
   "file_extension": ".py",
   "mimetype": "text/x-python",
   "name": "python",
   "nbconvert_exporter": "python",
   "pygments_lexer": "ipython3",
   "version": "3.10.15"
  }
 },
 "nbformat": 4,
 "nbformat_minor": 2
}
