{
 "cells": [
  {
   "cell_type": "markdown",
   "id": "7c4c72e6",
   "metadata": {},
   "source": [
    "# Coastal Simulation Notebook\n",
    "\n",
    "This Jupyter Notebook simulates the interaction between terrain, sand, and water along a coastline. The simulation models the effects of waves on the coastline, including the movement of sand and the erosion of terrain. The key components of the simulation include:\n",
    "\n",
    "- **Terrain, Sand, and Water Mapping**: The coastline is represented as a 2D grid where each cell can be terrain, sand, or water.\n",
    "- **Wave Generation and Movement**: Waves are generated periodically and move across the coastline, affecting the distribution of sand and terrain.\n",
    "- **Sand and Terrain Interaction**: The interaction between sand and terrain is modeled to simulate natural processes such as erosion and deposition.\n",
    "- **Visualization**: The state of the coastline is visualized at each timestep to observe the changes over time.\n",
    "\n",
    "The notebook includes functions to initialize the coastline, generate waves, move sand, and display the coastline. The simulation parameters such as wave frequency, speed, and decay can be adjusted to observe different behaviors."
   ]
  },
  {
   "cell_type": "code",
   "execution_count": 1,
   "id": "4ab2bf4b-6b69-451b-ae4e-2ed2df65dd0a",
   "metadata": {},
   "outputs": [],
   "source": [
    "import numpy as np\n",
    "import random\n",
    "import copy\n",
    "import cv2 as cv\n",
    "import matplotlib.pyplot as plt\n",
    "\n",
    "from scipy.spatial.distance import cdist\n",
    "import time"
   ]
  },
  {
   "cell_type": "code",
   "execution_count": 2,
   "id": "2d2b58aa-cb75-4753-bdae-620b48caea0c",
   "metadata": {},
   "outputs": [],
   "source": [
    "def white_kernel(x1, x2, varSigma):\n",
    "    if x2 is None:\n",
    "        return varSigma*np.eye(x1.shape[0])\n",
    "    else:\n",
    "        return np.zeros(x1.shape[0], x2.shape[0])\n",
    "    \n",
    "def periodic_kernel(x1, x2, varSigma, period, lengthScale):\n",
    "    if x2 is None:\n",
    "        d = cdist(x1, x1)\n",
    "    else:\n",
    "        d = cdist(x1, x2)\n",
    "    return varSigma*np.exp(-(2*np.sin((np.pi/period)*d)**2)/lengthScale**2)\n",
    "\n",
    "def get_coast_noise(scaling_factor=3, period=1, noise_level=0.01):\n",
    "    x = np.linspace(0,DIM_MAP, DIM_MAP).reshape(-1,1)\n",
    "    K = periodic_kernel(x,x,1,period,1) + white_kernel(x,None,noise_level)\n",
    "    mu = np.zeros(x.shape)\n",
    "    \n",
    "    f = scaling_factor* np.random.multivariate_normal(mu.flatten(), K, 1)[0]\n",
    "    return f"
   ]
  },
  {
   "cell_type": "code",
   "execution_count": 3,
   "id": "91473faa-2178-40c1-a146-fc7e777c595a",
   "metadata": {},
   "outputs": [],
   "source": [
    "GROUND_COLOR = [34, 139, 34]  # Forest Green\n",
    "SAND_COLOR = [244, 164, 96]   # Sandy Brown\n",
    "WATER_COLOR = [30, 144, 255]  # Dodger Blue\n",
    "FRAC_GROUND, FRAC_SAND = 0.3, 0.3\n",
    "DIM_MAP = 100\n",
    "\n",
    "WAVE_FREQ = 20\n",
    "WAVE_SPEED = 1\n",
    "WAVE_DECAY = 0.6\n",
    "WAVE_CUTOFF = 0.1\n",
    "WAVE_RETREAT_COEFF = 0.8\n",
    "WAVE_HEIGHT = 2\n",
    "\n",
    "SAND_PULL = 0.2\n",
    "GROUND_PULL = 0.1\n",
    "WATER_DECAY = 0.99\n",
    "\n",
    "GROUND_COLOR.reverse()\n",
    "SAND_COLOR.reverse()\n",
    "WATER_COLOR.reverse()"
   ]
  },
  {
   "cell_type": "markdown",
   "id": "91473faa-2178-40c1-a146-fc7e777c595a",
   "metadata": {},
   "source": [
    "Mapping\n",
    "\n",
    "0 - Terrain (solid ground, terrain)\n",
    "\n",
    "1 - Sand (loose sand)\n",
    "\n",
    "2 - Water\n",
    "\n",
    "3 - Solid Objects ? "
   ]
  },
  {
   "cell_type": "markdown",
   "id": "8497b29f-2fae-400d-b90c-b82e884404e5",
   "metadata": {},
   "source": [
    "### Function: display_map\n",
    "\n",
    "The `display_map` function visualizes the current state of the coastline simulation. It takes the following parameters:\n",
    "\n",
    "- `coast`: A 3D numpy array representing the coastline, where each cell contains values for terrain, sand, and water.\n",
    "- `waves_inp` (optional): A list of wave positions to be displayed on the map.\n",
    "- `waves_pos` (optional): A list of wave positions to be displayed on the map.\n",
    "- `stream` (optional, default=True): A boolean indicating whether to stream the visualization using OpenCV.\n",
    "- `openCV` (optional, default=False): A boolean indicating whether to use OpenCV for visualization.\n",
    "\n",
    "The function creates an image where different colors represent terrain, sand, and water. If `waves_inp` is provided, it overlays the wave positions on the map. The function can display the map using either Matplotlib or OpenCV, depending on the `openCV` parameter."
   ]
  },
  {
   "cell_type": "code",
   "execution_count": 4,
   "id": "a0ee46d9-e258-47dd-91e0-58ca1ab9192f",
   "metadata": {},
   "outputs": [],
   "source": [
    "def display_map(coast, waves_inp=[], waves_pos=[], stream=True, openCV=False):\n",
    "    global GROUND_COLOR, SAND_COLOR, WATER_COLOR\n",
    "    \n",
    "    cv.namedWindow(\"Coast\")\n",
    "    \n",
    "    img = np.zeros((coast.shape[0], coast.shape[1],3), dtype=int)\n",
    "    coast_temp = copy.deepcopy(coast)\n",
    "    coast_temp[:,:,0] = (coast_temp[:,:,0] / np.max(coast_temp[:,:,0])) * 255\n",
    "    coast_temp[:,:,1] = (coast_temp[:,:,1] / np.max(coast_temp[:,:,1])) * 255\n",
    "    coast_temp[:,:,2] = (coast_temp[:,:,2] / np.max(coast_temp[:,:,2])) * 255\n",
    "    coast_temp = coast_temp[...,np.newaxis]\n",
    "    img = np.array(GROUND_COLOR).reshape(1,1,-1)*coast_temp[:,:,0,:]   ## Ground Color\n",
    "    img+= np.array(SAND_COLOR).reshape(1,1,-1)*coast_temp[:,:,1,:]   ## Sand Color\n",
    "    img+= np.array(WATER_COLOR).reshape(1,1,-1)*coast_temp[:,:,2,:]   ## Water Color\n",
    "    \n",
    "\n",
    "    if len(waves_inp) > 0:\n",
    "        for i in range(DIM_MAP):\n",
    "            img[i,waves_inp[:,i]] = [0,0,255]\n",
    "\n",
    "    if not openCV:\n",
    "        plt.imshow(img)\n",
    "        plt.show()\n",
    "\n",
    "    if openCV:\n",
    "        img = img.astype(np.uint8)\n",
    "        img_cv = cv.cvtColor(img, cv.COLOR_RGB2BGR)\n",
    "        img_cv = cv.resize(img_cv, (1000,1000))\n",
    "        \n",
    "        cv.imshow(\"Coast\", img_cv)\n",
    "        if stream:\n",
    "            cv.waitKey(2)\n",
    "        else:\n",
    "            cv.waitKey(0)\n",
    "            cv.destroyWindow(\"Coast\")\n",
    "            cv.waitKey(1)"
   ]
  },
  {
   "cell_type": "code",
   "execution_count": 5,
   "id": "f9bfed3a-cf2a-48ec-80d5-8327f59f35ab",
   "metadata": {},
   "outputs": [],
   "source": [
    "coast_map = np.zeros((DIM_MAP, DIM_MAP,3), dtype=np.int16)"
   ]
  },
  {
   "cell_type": "code",
   "execution_count": 6,
   "id": "f9bfed3a-cf2a-48ec-80d5-8327f59f35ab",
   "metadata": {},
   "outputs": [],
   "source": [
    "coast_map[:,:int(DIM_MAP*FRAC_GROUND),0] = 100  ## Assign sand portion of the map\n",
    "coast_map[:,int(DIM_MAP*FRAC_GROUND):int(DIM_MAP*(FRAC_GROUND+FRAC_SAND)),1] = 100  ## Assign sand portion of the map\n",
    "coast_map[:,int(DIM_MAP*(FRAC_GROUND+FRAC_SAND)):, 2] = 100  ## Assign water portion of the map"
   ]
  },
  {
   "cell_type": "markdown",
   "id": "0abb2fbb-9708-4863-8877-eb54d52d5cbe",
   "metadata": {},
   "source": [
    "-ve -> Push water towards sand\n",
    "\n",
    "\n",
    "+ve -> Push sand towards water"
   ]
  },
  {
   "cell_type": "code",
   "execution_count": 7,
   "id": "2006fcbd-3c94-4945-a16f-37c823300e2d",
   "metadata": {},
   "outputs": [],
   "source": [
    "rand_coast = get_coast_noise(scaling_factor=DIM_MAP / 20, period=0.5, noise_level=1 / DIM_MAP)\n",
    "rand_terrain = get_coast_noise(scaling_factor=DIM_MAP/20, period=0.5, noise_level=1 / DIM_MAP)"
   ]
  },
  {
   "cell_type": "code",
   "execution_count": 8,
   "id": "e5bfbcf9-675d-4442-98d6-04c84e73020a",
   "metadata": {},
   "outputs": [],
   "source": [
    "def get_coast(coast_inp):\n",
    "    temp_coast = copy.deepcopy(coast_inp)\n",
    "\n",
    "    for i in range(len(rand_coast)):\n",
    "        if rand_coast[i] < 0:\n",
    "            temp_coast[i, int(DIM_MAP*(FRAC_GROUND+FRAC_SAND))+int(rand_coast[i]):,2] = 100\n",
    "            temp_coast[i, int(DIM_MAP*(FRAC_GROUND+FRAC_SAND))+int(rand_coast[i]):,1] = 0\n",
    "        else:\n",
    "            temp_coast[i, int(DIM_MAP*(FRAC_GROUND+FRAC_SAND)):int(rand_coast[i])+int(DIM_MAP*(FRAC_GROUND+FRAC_SAND)), 1] = 100\n",
    "            temp_coast[i, int(DIM_MAP*(FRAC_GROUND+FRAC_SAND)):int(rand_coast[i])+int(DIM_MAP*(FRAC_GROUND+FRAC_SAND)), 2] = 0\n",
    "    \n",
    "        if rand_terrain[i] < 0:\n",
    "            temp_coast[i, int(DIM_MAP*(FRAC_GROUND))+int(rand_terrain[i]):int(DIM_MAP*(FRAC_GROUND+FRAC_SAND)), 1] = 100\n",
    "            temp_coast[i, int(DIM_MAP*(FRAC_GROUND))+int(rand_terrain[i]):int(DIM_MAP*(FRAC_GROUND+FRAC_SAND)), 0] = 0\n",
    "        else:\n",
    "            temp_coast[i, :int(DIM_MAP*(FRAC_GROUND))+int(rand_terrain[i]), 0] = 100\n",
    "            temp_coast[i, :int(DIM_MAP*(FRAC_GROUND))+int(rand_terrain[i]), 1] = 0\n",
    "    return temp_coast"
   ]
  },
  {
   "cell_type": "code",
   "execution_count": 9,
   "id": "cd39f042-374e-4fbf-a25d-5cc6af32b4e7",
   "metadata": {},
   "outputs": [],
   "source": [
    "def move_sand(coast_inp, waves, pos, wave_speeds):\n",
    "    global WAVE_DECAY, SAND_PULL, GROUND_PULL, WAVE_CUTOFF, WAVE_RETREAT_COEFF\n",
    "\n",
    "    \n",
    "    waves = calculate_wave_pos(waves, pos)\n",
    "    for wave_idx in range(len(waves)):\n",
    "        for i in range(len(waves[0])):\n",
    "            vert_idx = i \n",
    "            hor_idx = waves[0][i]\n",
    "            curr_pix = coast_inp[vert_idx, hor_idx]\n",
    "            if wave_speeds[wave_idx][i] > WAVE_CUTOFF:\n",
    "                left_pix = coast_inp[vert_idx,hor_idx-1]\n",
    "                if left_pix[0] == 0 and left_pix[1] == 0:\n",
    "                    continue\n",
    "                \n",
    "                wave_speeds[wave_idx][i] *= WAVE_DECAY\n",
    "                if wave_speeds[wave_idx][i] < 0.1:\n",
    "                    wave_speeds[wave_idx][i] = -1\n",
    "                    continue\n",
    "                new_curr_pix = copy.deepcopy(curr_pix)\n",
    "                new_curr_pix[0] = curr_pix[0] - curr_pix[0]* GROUND_PULL*wave_speeds[wave_idx][i]\n",
    "                new_curr_pix[1] = curr_pix[1] - curr_pix[1]* SAND_PULL*wave_speeds[wave_idx][i]\n",
    "                new_curr_pix[2] = curr_pix[2] - curr_pix[2] * WATER_DECAY\n",
    "                coast_inp[vert_idx, hor_idx] = new_curr_pix\n",
    "                \n",
    "                \n",
    "                left_pix[0] = left_pix[0] + curr_pix[0]* GROUND_PULL*wave_speeds[wave_idx][i]\n",
    "                left_pix[1] = left_pix[1] + curr_pix[1]* SAND_PULL*wave_speeds[wave_idx][i]\n",
    "                left_pix[2] = left_pix[2] + curr_pix[2] * WATER_DECAY\n",
    "                coast_inp[vert_idx, hor_idx-1] = left_pix\n",
    "\n",
    "            \n",
    "            elif wave_speeds[wave_idx][i] < 0:\n",
    "                if curr_pix[0] == 0 and curr_pix[1] == 0 and curr_pix[2] > 1:\n",
    "                    wave_speeds[wave_idx][i] == 0\n",
    "                    continue\n",
    "                right_pix = coast_inp[vert_idx, hor_idx+1]\n",
    "                # print(right_pix)\n",
    "                # print(curr_pix)\n",
    "                # if right_pix[0] == 0 and right_pix[1] == 0 and right_pix[2] == 1:\n",
    "                #     ## There is no sand or ground to the right/ Ocean / End the wave\n",
    "                #     wave_speeds[wave_idx][i] == 0\n",
    "                #     continue\n",
    "                # print(\"RETREAT WAVE\")\n",
    "                new_curr_pix = copy.deepcopy(curr_pix)\n",
    "                new_curr_pix[0] = curr_pix[0] - WAVE_RETREAT_COEFF * curr_pix[0]*GROUND_PULL*wave_speeds[wave_idx][i]\n",
    "                new_curr_pix[1] = curr_pix[1] - WAVE_RETREAT_COEFF * curr_pix[1]*SAND_PULL*wave_speeds[wave_idx][i]\n",
    "                new_curr_pix[2] = curr_pix[2] - WAVE_RETREAT_COEFF * curr_pix[2] * WATER_DECAY\n",
    "                \n",
    "                right_pix[0] = right_pix[0] + WAVE_RETREAT_COEFF * curr_pix[0]*GROUND_PULL*wave_speeds[wave_idx][i]\n",
    "                right_pix[1] = right_pix[1] + WAVE_RETREAT_COEFF * curr_pix[1]*SAND_PULL*wave_speeds[wave_idx][i]\n",
    "                right_pix[2] = right_pix[2] + WAVE_RETREAT_COEFF * curr_pix[2] * WATER_DECAY\n",
    "\n",
    "                coast_inp[vert_idx, hor_idx] = new_curr_pix\n",
    "                coast_inp[vert_idx, hor_idx+1] = right_pix\n",
    "                \n",
    "                wave_speeds[wave_idx][i] *= WAVE_DECAY\n",
    "        # print(\"MOVED_WAVE\")\n",
    "    return coast_inp"
   ]
  },
  {
   "cell_type": "code",
   "execution_count": 10,
   "id": "26486e60-0e84-4e00-91b0-3543f910c174",
   "metadata": {},
   "outputs": [],
   "source": [
    "def calculate_wave_pos(waves, pos):\n",
    "    return np.clip(np.add(waves,pos),0,DIM_MAP-1).astype(np.int16)\n",
    "\n",
    "def run_sim(num_timesteps, wave_freq, wave_speed, wave_decay, wave_cutoff, wave_retreat_coeff, wave_height,\n",
    "            sand_pull, ground_pull, water_decay, plots=False):\n",
    "    global WAVE_FREQ, WAVE_SPEED, WAVE_DECAY, WAVE_CUTOFF, WAVE_RETREAT_COEFF, WAVE_HEIGHT\n",
    "    global SAND_PULL, GROUND_PULL, WATER_DECAY, coast_map\n",
    "\n",
    "    # Update global parameters\n",
    "    WAVE_FREQ = wave_freq\n",
    "    WAVE_SPEED = wave_speed\n",
    "    WAVE_DECAY = wave_decay\n",
    "    WAVE_CUTOFF = wave_cutoff\n",
    "    WAVE_RETREAT_COEFF = wave_retreat_coeff\n",
    "    WAVE_HEIGHT = wave_height\n",
    "    SAND_PULL = sand_pull\n",
    "    GROUND_PULL = ground_pull\n",
    "    WATER_DECAY = water_decay\n",
    "\n",
    "    temp_coast_map = get_coast(coast_map)\n",
    "    waves = np.array([get_coast_noise(scaling_factor=10, period=0.5, noise_level=1/DIM_MAP).astype(np.int16)])\n",
    "    pos = np.array([np.ones(waves[0].shape) * DIM_MAP])\n",
    "    wave_speeds = np.array([np.ones(waves[0].shape) * WAVE_SPEED])\n",
    "\n",
    "    for t in range(1,num_timesteps):\n",
    "        if t%WAVE_FREQ == 0:\n",
    "            new_wave = get_coast_noise(scaling_factor=10, period=0.5, noise_level=1/DIM_MAP).astype(np.int16).reshape(1,-1)\n",
    "            waves = np.append(waves, new_wave, axis=0)\n",
    "            pos = np.append(pos,np.ones(new_wave.shape) * DIM_MAP, axis=0)\n",
    "            wave_speeds = np.append(wave_speeds, np.array([np.ones(waves[0].shape) * WAVE_SPEED]), axis=0)\n",
    "\n",
    "            if plots:\n",
    "                display_map(temp_coast_map, calculate_wave_pos(waves, pos))\n",
    "        temp_coast_map = move_sand(temp_coast_map, waves, pos, wave_speeds)\n",
    "        pos = pos - wave_speeds\n",
    "        if plots:\n",
    "            display_map(temp_coast_map, calculate_wave_pos(waves, pos), openCV=False)\n",
    "        \n",
    "        # time.sleep(0.5)\n",
    "    sand_layer = temp_coast_map[:, :, 1]  # Extract sand layer\n",
    "    total_sand = np.sum(sand_layer)  # Sum of all sand cells\n",
    "    print(f\"Total sand: {total_sand}\")\n",
    "    return temp_coast_map, total_sand"
   ]
  },
  {
   "cell_type": "code",
   "execution_count": 11,
   "id": "a0275d4a",
   "metadata": {},
   "outputs": [],
   "source": [
    "# Define parameter ranges\n",
    "param_ranges = {\n",
    "    \"wave_freq\": (10, 50),\n",
    "    \"wave_speed\": (0.5, 2.0),\n",
    "    \"wave_decay\": (0.4, 1.0),\n",
    "    \"wave_cutoff\": (0.05, 0.2),\n",
    "    \"wave_retreat_coeff\": (0.5, 1.0),\n",
    "    \"wave_height\": (1, 5),\n",
    "    \"sand_pull\": (0.1, 0.5),\n",
    "    \"ground_pull\": (0.05, 0.2),\n",
    "    \"water_decay\": (0.95, 1.0)\n",
    "}\n",
    "\n",
    "def sample_parameters(n_samples):\n",
    "    return np.random.uniform(\n",
    "        [param_ranges[key][0] for key in param_ranges],\n",
    "        [param_ranges[key][1] for key in param_ranges],\n",
    "        size=(n_samples, len(param_ranges))\n",
    "    )"
   ]
  },
  {
   "cell_type": "code",
   "execution_count": 12,
   "id": "ab3c7546-1c8e-44be-9579-efe1ab8efe87",
   "metadata": {
    "scrolled": true
   },
   "outputs": [
    {
     "name": "stdout",
     "output_type": "stream",
     "text": [
      "Total sand: 232661\n",
      "Total sand: 296529\n",
      "Total sand: 296386\n",
      "Total sand: 297000\n",
      "Total sand: 291729\n",
      "Total sand: 296048\n",
      "Total sand: 296262\n",
      "Total sand: 293378\n",
      "Total sand: 294866\n",
      "Total sand: 295929\n"
     ]
    }
   ],
   "source": [
    "n_samples = 10\n",
    "param_samples = sample_parameters(n_samples)\n",
    "\n",
    "outcomes = []\n",
    "for params in param_samples:\n",
    "    ret, outcome = run_sim(\n",
    "        num_timesteps=100,\n",
    "        wave_freq=params[0],\n",
    "        wave_speed=params[1],\n",
    "        wave_decay=params[2],\n",
    "        wave_cutoff=params[3],\n",
    "        wave_retreat_coeff=params[4],\n",
    "        wave_height=params[5],\n",
    "        sand_pull=params[6],\n",
    "        ground_pull=params[7],\n",
    "        water_decay=params[8]\n",
    "    )\n",
    "    outcomes.append(outcome)\n",
    "\n",
    "# Convert lists to numpy arrays for EmuKit\n",
    "X = np.array(param_samples)\n",
    "Y = np.array(outcomes).reshape(-1, 1)   \n",
    "# ret = run_sim(1000)"
   ]
  },
  {
   "cell_type": "code",
   "execution_count": 13,
   "id": "b39026c3-b568-412e-82a7-320e34262f8b",
   "metadata": {},
   "outputs": [
    {
     "name": "stderr",
     "output_type": "stream",
     "text": [
      "Clipping input data to the valid range for imshow with RGB data ([0..1] for floats or [0..255] for integers). Got range [-26..131].\n"
     ]
    },
    {
     "data": {
      "text/plain": [
       "<matplotlib.image.AxesImage at 0x1f7d1e6d960>"
      ]
     },
     "execution_count": 13,
     "metadata": {},
     "output_type": "execute_result"
    },
    {
     "data": {
      "image/png": "[encoded data removed]",
      "text/plain": [
       "<Figure size 640x480 with 1 Axes>"
      ]
     },
     "metadata": {},
     "output_type": "display_data"
    }
   ],
   "source": [
    "plt.imshow(ret)"
   ]
  },
  {
   "cell_type": "code",
   "execution_count": 14,
   "id": "6633d9f2-ff54-44bf-9acb-149bd3a2a7b0",
   "metadata": {},
   "outputs": [
    {
     "data": {
      "text/plain": [
       "<matplotlib.colorbar.Colorbar at 0x1f7d3ffadd0>"
      ]
     },
     "execution_count": 14,
     "metadata": {},
     "output_type": "execute_result"
    },
    {
     "data": {
      "image/png": "[encoded data removed]",
      "text/plain": [
       "<Figure size 640x480 with 2 Axes>"
      ]
     },
     "metadata": {},
     "output_type": "display_data"
    }
   ],
   "source": [
    "plt.imshow(ret[:,:,0])\n",
    "plt.colorbar()"
   ]
  },
  {
   "cell_type": "code",
   "execution_count": 15,
   "id": "91bb1c20-92c9-41f1-b0f8-369e693a22f6",
   "metadata": {},
   "outputs": [
    {
     "data": {
      "text/plain": [
       "<matplotlib.colorbar.Colorbar at 0x1f7d1df6680>"
      ]
     },
     "execution_count": 15,
     "metadata": {},
     "output_type": "execute_result"
    },
    {
     "data": {
      "image/png": "[encoded data removed]",
      "text/plain": [
       "<Figure size 640x480 with 2 Axes>"
      ]
     },
     "metadata": {},
     "output_type": "display_data"
    }
   ],
   "source": [
    "plt.imshow(ret[:,:,1])\n",
    "plt.colorbar()"
   ]
  },
  {
   "cell_type": "code",
   "execution_count": 16,
   "id": "1fd0c1c6-526b-4f38-bcb3-7414b77afd6a",
   "metadata": {},
   "outputs": [
    {
     "data": {
      "text/plain": [
       "<matplotlib.colorbar.Colorbar at 0x1f7d528fdc0>"
      ]
     },
     "execution_count": 16,
     "metadata": {},
     "output_type": "execute_result"
    },
    {
     "data": {
      "image/png": "[encoded data removed]",
      "text/plain": [
       "<Figure size 640x480 with 2 Axes>"
      ]
     },
     "metadata": {},
     "output_type": "display_data"
    }
   ],
   "source": [
    "plt.imshow(ret[:,:,2])\n",
    "plt.colorbar()"
   ]
  },
  {
   "cell_type": "markdown",
   "id": "1f34c4bc",
   "metadata": {},
   "source": [
    "Emulator, looking at total sand erosion (how much sand is lost due to wave activity and terrain changes)"
   ]
  },
  {
   "cell_type": "code",
   "execution_count": 19,
   "id": "1e7f6453-581d-4ea8-8a10-a713bb6691b1",
   "metadata": {},
   "outputs": [
    {
     "name": "stdout",
     "output_type": "stream",
     "text": [
      "({'wave_freq': array([0.64068362]), 'wave_speed': array([-0.00421674]), 'wave_decay': array([-0.00632502]), 'wave_cutoff': array([-0.00653218]), 'wave_retreat_coeff': array([-0.00659525]), 'wave_height': array([0.02443861]), 'sand_pull': array([-0.00648653]), 'ground_pull': array([-0.00651521]), 'water_decay': array([-0.00652353])}, {'wave_freq': array([0.97058315]), 'wave_speed': array([0.04551578]), 'wave_decay': array([0.01581185]), 'wave_cutoff': array([0.01499111]), 'wave_retreat_coeff': array([0.0158913]), 'wave_height': array([0.35938732]), 'sand_pull': array([0.01497463]), 'ground_pull': array([0.01505253]), 'water_decay': array([0.01496751])}, 1787194794.6954048)\n",
      "Main effects: {'wave_freq': array([0.64068362]), 'wave_speed': array([-0.00421674]), 'wave_decay': array([-0.00632502]), 'wave_cutoff': array([-0.00653218]), 'wave_retreat_coeff': array([-0.00659525]), 'wave_height': array([0.02443861]), 'sand_pull': array([-0.00648653]), 'ground_pull': array([-0.00651521]), 'water_decay': array([-0.00652353])}\n",
      "Total effects: {'wave_freq': array([0.97058315]), 'wave_speed': array([0.04551578]), 'wave_decay': array([0.01581185]), 'wave_cutoff': array([0.01499111]), 'wave_retreat_coeff': array([0.0158913]), 'wave_height': array([0.35938732]), 'sand_pull': array([0.01497463]), 'ground_pull': array([0.01505253]), 'water_decay': array([0.01496751])}\n"
     ]
    }
   ],
   "source": [
    "from emukit.model_wrappers import GPyModelWrapper\n",
    "import GPy\n",
    "\n",
    "# Gaussian process model\n",
    "gp = GPy.models.GPRegression(X, Y)\n",
    "emukit_model = GPyModelWrapper(gp)\n",
    "\n",
    "# parameter space for EmuKit\n",
    "from emukit.core import ParameterSpace, ContinuousParameter\n",
    "\n",
    "parameter_space = ParameterSpace([\n",
    "    ContinuousParameter(key, *param_ranges[key]) for key in param_ranges\n",
    "])\n",
    "\n",
    "\n",
    "# Sensitivity analysis\n",
    "from emukit.sensitivity.monte_carlo import MonteCarloSensitivity\n",
    "\n",
    "sensitivity = MonteCarloSensitivity(emukit_model, parameter_space)\n",
    "sensitivity_results = sensitivity.compute_effects()\n",
    "main_effects = sensitivity_results[0]\n",
    "total_effects = sensitivity_results[1]\n",
    "\n",
    "print(sensitivity_results)\n",
    "print(\"Main effects:\", main_effects)\n",
    "print(\"Total effects:\", total_effects)"
   ]
  }
 ],
 "metadata": {
  "kernelspec": {
   "display_name": "Python 3 (ipykernel)",
   "language": "python",
   "name": "python3"
  },
  "language_info": {
   "codemirror_mode": {
    "name": "ipython",
    "version": 3
   },
   "file_extension": ".py",
   "mimetype": "text/x-python",
   "name": "python",
   "nbconvert_exporter": "python",
   "pygments_lexer": "ipython3",
   "version": "3.10.11"
  }
 },
 "nbformat": 4,
 "nbformat_minor": 5
}
